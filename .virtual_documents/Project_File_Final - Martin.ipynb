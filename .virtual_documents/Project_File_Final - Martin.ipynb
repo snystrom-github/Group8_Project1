#Dependencies 

from census import Census
import hvplot.pandas
import pandas as pd
import requests
import time
from scipy.stats import linregress
from matplotlib import pyplot as plt
import csv
from config import census_key
import geopandas as gpd


#import fort_state_zip.csv
fort_data =pd.read_csv('fort_state_zip.csv')
fort_data


fort_data["Nearest City"] = ["Donthan",
                             "Sierra Vista", 
                             "barstow",
                             "Colorado Springs",
                             "Agusta",
                             "Columbus",
                             "Hinesville",
                             "Leavenworth",
                             "Manhattan",
                             "Clarksville",
                             "Elizabethtown",
                             "Leesville",
                             "Frederick",
                             "Odenton",
                             "Waynesville",
                             "Watertown",
                             "New York City",
                             "Fayetteville",
                             "Lawton",
                             "Columbia",
                             "El Paso",
                             "Killeen",
                             "Alexandria",
                             "Petersburg",
                             "Arlington",
                             "Tacoma",
                             "Sparta"]
fort_data["City Zipcode"] = [36301,
                             85635,
                             92311,
                             80903,
                             30904,
                             31901,
                             31313,
                             66048,
                             66502,
                             37040,
                             42701,
                             71446,
                             21701,
                             21113,
                             65583,
                             13601,
                             11209,
                             28301,
                             73501,
                             29201,
                             79901,
                             76541,
                             22301,
                             23803,
                             22201,
                             98402,
                             54656]
                        
                             

fort_data                      


# Initialize Census with your API key
c = Census(census_key, year=2021)  # Try 2021 if 2023 is unsupported

# Define your list of zip codes as strings
fort_zips = fort_data['Zip Code'].astype(str).tolist()
fort_names = fort_data['Name'].tolist()
city_names = fort_data['Nearest City'].tolist()
city_zips = fort_data['City Zipcode'].astype(str).tolist()

# Run Census Search to retrieve data on all zip codes
census_data = []
for zip_code in city_zips:
    try:
        data = c.acs5.get(
            (
                "NAME",
                "B19013_001E",  # Household Income
                "B01003_001E",  # Population
                "B19301_001E",  # Per Capita Income
                "B17001_002E"   # Poverty Count
            ),
            {'for': f'zip code tabulation area:{zip_code}'}
        )
        census_data.extend(data)
    except CensusException as e:
        print(f"Error retrieving data for zip code {zip_code}: {e}")
        continue

# Convert to DataFrame
census_pd = pd.DataFrame(census_data)

# Column renaming
census_pd = census_pd.rename(
    columns={
        "B01003_001E": "Population",
        "B19013_001E": "Household Income",
        "B19301_001E": "Per Capita Income",
        "B17001_002E": "Poverty Count",
        "NAME": "Name",
        "zip code tabulation area": "Zipcode"
    }
)


# Display DataFrame length and sample data
print(f"Number of rows in the DataFrame: {len(census_pd)}")
census_pd



census_pd['Name'] = fort_names
census_pd["Nearest City"] = fort_data["Nearest City"]
new_column_order = ["Name","Nearest City","Zipcode","Population","Poverty Count","Household Income"]
census_pd = census_pd[new_column_order]
poverty_rates = []

for index, row in census_pd.iterrows():
    poverty_rate = (row["Poverty Count"] / row["Population"]) * 100
    poverty_rates.append(poverty_rate)


census_pd.loc[:, "Poverty Rate (%)"] = poverty_rates
census_pd["National Poverty Rate"] = 11.2

# Dictionary with coordinates for each city
coordinates = {
    "Donthan": {"Latitude": 31.223, "Longitude": -85.3905},
    "Sierra Vista": {"Latitude": 31.5455, "Longitude": -110.2773},
    "Barstow": {"Latitude": 34.8958, "Longitude": -117.0173},
    "Colorado Springs": {"Latitude": 38.8339, "Longitude": -104.8214},
    "Agusta": {"Latitude": 33.4735, "Longitude": -82.0105},
    "Columbus": {"Latitude": 32.460976, "Longitude": -84.987709},
    "Hinesville": {"Latitude": 31.8469, "Longitude": -81.5959},
    "Leavenworth": {"Latitude": 39.3111, "Longitude": -94.9225},
    "Manhattan": {"Latitude": 39.1836, "Longitude": -96.5717},
    "Clarksville": {"Latitude": 36.5298, "Longitude": -87.3595},
    "Elizabethtown": {"Latitude": 37.697, "Longitude": -85.8591},
    "Leesville": {"Latitude": 31.1432, "Longitude": -93.2615},
    "Frederick": {"Latitude": 39.4143, "Longitude": -77.4105},
    "Odenton": {"Latitude": 39.084, "Longitude": -76.7003},
    "Waynesville": {"Latitude": 37.8253, "Longitude": -92.2007},
    "Watertown": {"Latitude": 44.0086, "Longitude": -75.7273},
    "New York City": {"Latitude": 40.7128, "Longitude": -74.006},
    "Fayetteville": {"Latitude": 35.0527, "Longitude": -78.8784},
    "Lawton": {"Latitude": 34.6087, "Longitude": -98.3903},
    "Columbia": {"Latitude": 34.0007, "Longitude": -81.0348},
    "El Paso": {"Latitude": 31.7619, "Longitude": -106.485},
    "Killeen": {"Latitude": 31.1171, "Longitude": -97.7278},
    "Alexandria": {"Latitude": 38.8048, "Longitude": -77.0469},
    "Petersburg": {"Latitude": 37.2279, "Longitude": -77.4019},
    "Arlington": {"Latitude": 38.8816, "Longitude": -77.091},
    "Tacoma": {"Latitude": 47.2529, "Longitude": -122.4443},
    "Sparta": {"Latitude": 43.9444, "Longitude": -90.8123}
}

# Ensure Nearest City values are stripped of extra spaces and title-cased to match dictionary keys
census_pd.loc[:, "Nearest City"] = census_pd["Nearest City"].str.strip().str.title()

# Map coordinates to the DataFrame based on 'Nearest City'
census_pd.loc[:, "Latitude"] = census_pd["Nearest City"].map(lambda city: coordinates[city]["Latitude"])
census_pd.loc[:, "Longitude"] = census_pd["Nearest City"].map(lambda city: coordinates[city]["Longitude"])

# Display the DataFrame to verify
census_pd



census_pd.to_excel('census_data.xlsx', index=True)


# Convert the DataFrame to a GeoDataFrame if latitude and longitude data are available
census_pd["geometry"] = gpd.points_from_xy(census_pd["Longitude"], census_pd["Latitude"])
geo_census_pd = gpd.GeoDataFrame(census_pd, geometry="geometry")

# Create the map plot
map_plot = geo_census_pd.hvplot.points(
    x='Longitude', 
    y='Latitude', 
    geo=True, 
    tiles='OSM',  # OpenStreetMap background tiles
    frame_width=700, 
    frame_height=500, 
    size='Population',  # Size points based on Population
    scale=0.09,         # Adjust scale for better visualization
    color='Nearest City',  # Color points by the city name
    hover_cols=['Name', 'Nearest City', 'Population', 'Poverty Rate (%)']  # Add hover information
)

# Display the map plot
map_plot


# Sample data representing the "census_pd" DataFrame
data = {
    'Name': ['Fort Novosel', 'Fort Huachuca', 'Fort Irwin', 'Fort Carson', 'Fort Eisenhower',
             'Fort Moore', 'Fort Stewart', 'Fort Leavenworth', 'Fort Riley', 'Fort Campbell',
             'Fort Knox', 'Fort Johnson', 'Fort Detrick', 'Fort George G. Meade', 'Fort Leonard Wood',
             'Fort Drum', 'Fort Hamilton', 'Fort Liberty', 'Fort Still', 'Fort Jackson',
             'Fort Bliss', 'Fort Cavazos', 'Fort Belvoir', 'Fort Gregg-Adams', 'Fort Meyer',
             'Joint Base Lewis-McChord', 'Fort McCoy'],
    'Poverty Rate (%)': [21.62, 13.47, 26.77, 15.63, 26.40,
                         26.12, 17.54, 10.95, 27.72, 16.55,
                         9.30, 18.70, 7.96, 4.96, 17.36,
                         16.48, 10.51, 30.03, 20.36, 42.16,
                         52.52, 25.27, 3.40, 18.30, 6.37,
                         19.46, 9.29],
     'State': ['AL', 'AZ', 'CA', 'CO', 'GA', 'GA', 'GA', 'KS', 'KS', 'KY',
        'KY', 'LA', 'MD', 'MD', 'MO', 'NY', 'NY', 'NC', 'OK', 'SC',
        'TX', 'TX', 'VA', 'VA', 'VA', 'WA', 'WI']
}

Test_pd = pd.DataFrame(data)
import matplotlib.pyplot as plt

# Sorting data by the poverty rate to group the colors (green for >13%, red for <=13%)
census_pd_sorted = census_pd.sort_values(by='Poverty Rate (%)', ascending=False)

# Assign colors based on poverty rate
sorted_colors = ['green' if rate > 13 else 'red' for rate in census_pd_sorted['Poverty Rate (%)']]

# Create an explode effect to enhance the 3D look
explode = [0.05] * len(census_pd_sorted)  # Adjust this value for a more subtle or pronounced 3D effect

# Plotting the pie chart with grouped colors and explode effect
plt.figure(figsize=(10, 8))
plt.pie(
    [1] * len(census_pd_sorted),
    labels=census_pd_sorted['Name'],
    colors=sorted_colors,
    startangle=90,
    counterclock=False,
    explode=explode,
    wedgeprops={'edgecolor': 'black'}  # Adds a border to improve the 3D appearance
)
plt.title("Forts by Poverty Rate (Green > 13%, Red <= 13%)")
plt.show()



# Re-creating the "census_pd" DataFrame



# Sorting the DataFrame by poverty rate in ascending order for the bar chart
census_pd_sorted_bar = Test_pd.sort_values(by='Poverty Rate (%)')

# Plotting the bar chart with sorted poverty rates
plt.figure(figsize=(12, 8))
plt.bar(census_pd_sorted_bar['Name'], census_pd_sorted_bar['Poverty Rate (%)'], color='skyblue')
plt.axhline(y=13, color='red', linestyle='--', linewidth=1.5, label="Poverty Rate Benchmark (13%)")
plt.xticks(rotation=90)
plt.xlabel("Fort Name")
plt.ylabel("Poverty Rate (%)")
plt.title("Poverty Rate by Fort (Sorted from Lowest to Highest)")
plt.legend()
plt.tight_layout()
plt.show()


# Calculate the average poverty rate by state
state_poverty_avg = Test_pd.groupby('State')['Poverty Rate (%)'].mean().sort_values()

# Plotting the bar chart for state-level poverty rates
plt.figure(figsize=(10, 8))
plt.barh(state_poverty_avg.index, state_poverty_avg.values, color='lightblue')
plt.xlabel("Average Poverty Rate (%)")
plt.ylabel("State")
plt.title("Average Poverty Rate by State for Fort Locations")
plt.tight_layout()
plt.show()


import plotly.express as px

# Create the Plotly bubble chart
fig = px.scatter(
    census_pd,
    x="Population",
    y="Poverty Rate (%)",
    size="Household Income",  # Size of the bubbles represents household income
    title="Bubble Chart of Population vs. Poverty Rate (%) with Household Income",
    labels={"Population": "Population", "Poverty Rate (%)": "Poverty Rate (%)"},
    hover_name="Name",  # This will display the name of the military base in the hover
    hover_data={
        "Population": True,
        "Poverty Rate (%)": True,
        "Household Income": True,
        "Nearest City": True,
        "Zipcode": True
    }
)

# Customize the bubble chart appearance
fig.update_traces(marker=dict(opacity=0.6, line=dict(width=1, color="DarkSlateGrey")))
fig.update_layout(showlegend=False, xaxis_title="Population", yaxis_title="Poverty Rate (%)", height=700 )
# Add a reference line for the national poverty rate
fig.add_hline(
    y=census_pd["National Poverty Rate"].iloc[0],
    line_dash="dash",
    line_color="red",
    annotation_text="National Poverty Rate"
)
# Show the chart
fig.show()


import matplotlib.pyplot as plt
from scipy.stats import linregress

# Calculate correlation and linear regression line
x = census_pd["Population"]
y = census_pd["Poverty Rate (%)"]
slope, intercept, r_value, p_value, std_err = linregress(x, y)

# Plot the scatter plot with the regression line
plt.figure(figsize=(8, 6))
plt.scatter(x, y, color="teal", alpha=0.7, label="Data Points")
plt.plot(x, slope * x + intercept, color="orange", label=f"Fit Line (r = {r_value:.2f})")

# Use the National Poverty Rate column to draw the reference line
plt.axhline(y=census_pd["National Poverty Rate"].iloc[0], color="red", linestyle="--", label="National Poverty Rate (11.2%)")

plt.title("Population Size vs. Poverty Rate around Military Bases")
plt.xlabel("Population")
plt.ylabel("Poverty Rate (%)")
plt.legend()
plt.grid(True)
plt.show()


import matplotlib.pyplot as plt
from scipy.stats import linregress

# Calculate correlation and linear regression line
x = census_pd["Population"]
y = census_pd["Household Income"]
slope, intercept, r_value, p_value, std_err = linregress(x, y)

# Plot the scatter plot with the regression line
plt.figure(figsize=(8, 6))
plt.scatter(x, y, color="teal", alpha=0.7, label="Data Points")
plt.plot(x, slope * x + intercept, color="orange", label=f"Fit Line (r = {r_value:.2f})")

plt.title("Population Size vs. Household Income around Military Bases")
plt.xlabel("Population")
plt.ylabel("Household Income")
plt.legend()
plt.grid(True)
plt.show()


import seaborn as sns
import matplotlib.pyplot as plt
import pandas as pd

# Define bins for Population and Household Income
population_bins = [0, 15000, 30000, 45000, 60000, census_pd["Population"].max()]
income_bins = [0, 30000, 50000, 70000, 90000, census_pd["Household Income"].max()]

# Create labels for each bin range
population_labels = ["Very Low", "Low", "Medium", "High", "Very High"]
income_labels = ["Very Low", "Low", "Medium", "High", "Very High"]

# Add new columns with binned categories for Population and Household Income
census_pd["Population Bin"] = pd.cut(census_pd["Population"], bins=population_bins, labels=population_labels)
census_pd["Income Bin"] = pd.cut(census_pd["Household Income"], bins=income_bins, labels=income_labels)

# Create a pivot table using the binned columns
pivot_data = census_pd.pivot_table(
    values="Poverty Rate (%)",
    index="Population Bin",
    columns="Income Bin",
    aggfunc="mean"
)

# Plot the heatmap with the 'viridis' colormap
plt.figure(figsize=(12, 8))
sns.heatmap(pivot_data, cmap="viridis", annot=True)
plt.title("Heatmap of Poverty Rate and Household Income")
plt.xlabel("Household Income")
plt.ylabel("Population")
plt.show()






import hvplot.pandas  # Ensure hvplot is imported correctly

# Map plot with color gradient based on Poverty Rate (%)
map_plot = geo_census_pd.hvplot.points(
    x='Longitude',
    y='Latitude',
    geo=True,
    tiles='OSM',
    frame_width=700,
    frame_height=500,
    size='Population',  # Bubble size based on Population
    scale=0.09,
    color='Poverty Rate (%)',  # Use a color gradient for Poverty Rate
    cmap='viridis',  # Choose a color gradient like 'viridis' or 'YlOrRd'
    hover_cols=['Name', 'Nearest City', 'Population', 'Poverty Rate (%)', 'Household Income']  # Additional hover info
).opts(title="Geographic Distribution of Poverty Rates around Military Bases", toolbar="above")

map_plot





