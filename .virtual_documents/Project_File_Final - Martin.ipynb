#Dependencies 

from census import Census
import hvplot.pandas
import pandas as pd
import requests
import time
from scipy.stats import linregress
from matplotlib import pyplot as plt
import csv
from config import census_key
import geopandas as gpd


#import fort_state_zip.csv
fort_data =pd.read_csv('fort_state_zip.csv')
fort_data


fort_data["Nearest City"] = ["Donthan",
                             "Sierra Vista", 
                             "barstow",
                             "Colorado Springs",
                             "Agusta",
                             "Columbus",
                             "Hinesville",
                             "Leavenworth",
                             "Manhattan",
                             "Clarksville",
                             "Elizabethtown",
                             "Leesville",
                             "Frederick",
                             "Odenton",
                             "Waynesville",
                             "Watertown",
                             "New York City",
                             "Fayetteville",
                             "Lawton",
                             "Columbia",
                             "El Paso",
                             "Killeen",
                             "Alexandria",
                             "Petersburg",
                             "Arlington",
                             "Tacoma",
                             "Sparta"]
fort_data["City Zipcode"] = [36301,
                             85635,
                             92311,
                             80903,
                             30904,
                             31901,
                             31313,
                             66048,
                             66502,
                             37040,
                             42701,
                             71446,
                             21701,
                             21113,
                             65583,
                             13601,
                             11209,
                             28301,
                             73501,
                             29201,
                             79901,
                             76541,
                             22301,
                             23803,
                             22201,
                             98402,
                             54656]
                        
                             

fort_data                      


# Initialize Census with your API key
census_key = "cbc5dafcc66b3d11a52b9a7114bd19f59ae2d5da"
c = Census(census_key, year=2021)  # Try 2021 if 2023 is unsupported

# Define your list of zip codes as strings
fort_zips = fort_data['Zip Code'].astype(str).tolist()
fort_names = fort_data['Name'].tolist()
city_names = fort_data['Nearest City'].tolist()
city_zips = fort_data['City Zipcode'].astype(str).tolist()

# Run Census Search to retrieve data on all zip codes
census_data = []
for zip_code in city_zips:
    try:
        data = c.acs5.get(
            (
                "NAME",
                "B19013_001E",  # Household Income
                "B01003_001E",  # Population
                "B19301_001E",  # Per Capita Income
                "B17001_002E"   # Poverty Count
            ),
            {'for': f'zip code tabulation area:{zip_code}'}
        )
        census_data.extend(data)
    except CensusException as e:
        print(f"Error retrieving data for zip code {zip_code}: {e}")
        continue

# Convert to DataFrame
census_pd = pd.DataFrame(census_data)

# Column renaming
census_pd = census_pd.rename(
    columns={
        "B01003_001E": "Population",
        "B19013_001E": "Household Income",
        "B19301_001E": "Per Capita Income",
        "B17001_002E": "Poverty Count",
        "NAME": "Name",
        "zip code tabulation area": "Zipcode"
    }
)


# Display DataFrame length and sample data
print(f"Number of rows in the DataFrame: {len(census_pd)}")
census_pd



census_pd['Name'] = fort_names
census_pd["Nearest City"] = fort_data["Nearest City"]
new_column_order = ["Name","Nearest City","Zipcode","Population","Poverty Count","Household Income"]
census_pd = census_pd[new_column_order]
poverty_rates = []

for index, row in census_pd.iterrows():
    poverty_rate = (row["Poverty Count"] / row["Population"]) * 100
    poverty_rates.append(poverty_rate)


census_pd.loc[:, "Poverty Rate (%)"] = poverty_rates
census_pd["National Poverty Rate"] = 11.4

# Ensure Nearest City values are stripped of extra spaces and title-cased to match dictionary keys
census_pd.loc[:, "Nearest City"] = census_pd["Nearest City"].str.strip().str.title()

# Map coordinates to the DataFrame based on 'Nearest City'
census_pd.loc[:, "Latitude"] = census_pd["Nearest City"].map(lambda city: coordinates[city]["Latitude"])
census_pd.loc[:, "Longitude"] = census_pd["Nearest City"].map(lambda city: coordinates[city]["Longitude"])

# Display the DataFrame to verify
census_pd



census_pd.to_excel('census_data.xlsx', index=True)


import matplotlib.pyplot as plt

# Scatter plot with Population vs. Poverty Rate
plt.figure(figsize=(8, 6))
plt.scatter(census_pd["Population"], census_pd["Poverty Rate (%)"], color="teal", alpha=0.7)

# Use the National Poverty Rate column to draw the reference line
plt.axhline(y=census_pd["National Poverty Rate"].iloc[0], color="red", linestyle="--", label="National Poverty Rate (11.4%)")

plt.title("Population Size vs. Poverty Rate around Military Bases")
plt.xlabel("Population")
plt.ylabel("Poverty Rate (%)")
plt.legend()
plt.grid(True)
plt.show()


import plotly.express as px

# Create a Plotly scatter plot without "State" in hover data
fig = px.scatter(
    census_pd,
    x="Population",
    y="Poverty Rate (%)",
    title="Population Size vs. Poverty Rate around Military Bases",
    labels={"Population": "Population", "Poverty Rate (%)": "Poverty Rate (%)"},
    hover_data={
        "Name": True,        # Base name
        "Population": True,  # Population size
        "National Poverty Rate": True  # National poverty rate for reference
    }
)

# Add a reference line for the national poverty rate
fig.add_hline(
    y=census_pd["National Poverty Rate"].iloc[0],
    line_dash="dash",
    line_color="red",
    annotation_text="National Poverty Rate"
)

# Show the plot
fig.show()



# Convert the DataFrame to a GeoDataFrame if latitude and longitude data are available
census_pd["geometry"] = gpd.points_from_xy(census_pd["Longitude"], census_pd["Latitude"])
geo_census_pd = gpd.GeoDataFrame(census_pd, geometry="geometry")

# Create the map plot
map_plot = geo_census_pd.hvplot.points(
    x='Longitude', 
    y='Latitude', 
    geo=True, 
    tiles='OSM',  # OpenStreetMap background tiles
    frame_width=700, 
    frame_height=500, 
    size='Population',  # Size points based on Population
    scale=0.01,         # Adjust scale for better visualization
    color='Nearest City',  # Color points by the city name
    hover_cols=['Name', 'Nearest City', 'Population', 'Poverty Rate (%)']  # Add hover information
)

# Display the map plot
map_plot



