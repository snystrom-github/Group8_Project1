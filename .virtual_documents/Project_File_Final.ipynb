#Dependencies 
from census import Census
import hvplot.pandas
import pandas as pd
import requests
import time
from scipy.stats import linregress
from matplotlib import pyplot as plt
import csv


#import fort_state_zip.csv
fort_data =pd.read_csv('fort_state_zip.csv')
fort_data


fort_data["Nearest City"] = ["Donthan",
                             "Sierra Vista", 
                             "barstow",
                             "Colorado Springs",
                             "Agusta",
                             "Columbus",
                             "Hinesville",
                             "Leavenworth",
                             "Manhattan",
                             "Clarksville",
                             "Elizabethtown",
                             "Leesville",
                             "Frederick",
                             "Odenton",
                             "Waynesville",
                             "Watertown",
                             "New York City",
                             "Fayetteville",
                             "Lawton",
                             "Columbia",
                             "El Paso",
                             "Killeen",
                             "Alexandria",
                             "Petersburg",
                             "Arlington",
                             "Tacoma",
                             "Sparta"]
fort_data["City Zipcode"] = [36301,
                             85635,
                             92311,
                             80903,
                             30904,
                             31901,
                             31313,
                             66048,
                             66502,
                             37040,
                             42701,
                             71446,
                             21701,
                             21113,
                             65583,
                             13601,
                             11209,
                             28301,
                             73501,
                             29201,
                             79901,
                             76541,
                             22301,
                             23803,
                             22201,
                             98402,
                             54656]
                        
                             

fort_data                      


# Initialize Census with your API key
census_key = "cbc5dafcc66b3d11a52b9a7114bd19f59ae2d5da"
c = Census(census_key, year=2021)  # Try 2021 if 2023 is unsupported

# Define your list of zip codes as strings
fort_zips = fort_data['Zip Code'].astype(str).tolist()
fort_names = fort_data['Name'].tolist()
city_names = fort_data['Nearest City'].tolist()
city_zips = fort_data['City Zipcode'].astype(str).tolist()

# Run Census Search to retrieve data on all zip codes
census_data = []
for zip_code in city_zips:
    try:
        data = c.acs5.get(
            (
                "NAME",
                "B19013_001E",  # Household Income
                "B01003_001E",  # Population
                "B19301_001E",  # Per Capita Income
                "B17001_002E"   # Poverty Count
            ),
            {'for': f'zip code tabulation area:{zip_code}'}
        )
        census_data.extend(data)
    except CensusException as e:
        print(f"Error retrieving data for zip code {zip_code}: {e}")
        continue

# Convert to DataFrame
census_pd = pd.DataFrame(census_data)

# Column renaming
census_pd = census_pd.rename(
    columns={
        "B01003_001E": "Population",
        "B19013_001E": "Household Income",
        "B19301_001E": "Per Capita Income",
        "B17001_002E": "Poverty Count",
        "NAME": "Name",
        "zip code tabulation area": "Zipcode"
    }
)


# Display DataFrame length and sample data
print(f"Number of rows in the DataFrame: {len(census_pd)}")
census_pd



census_pd['Name'] = fort_names
census_pd["Nearest City"] = fort_data["Nearest City"]
new_column_order = ["Name","Nearest City","Zipcode","Population","Poverty Count","Household Income"]
census_pd = census_pd[new_column_order]
poverty_rates = []

for index, row in census_pd.iterrows():
    poverty_rate = (row["Poverty Count"] / row["Population"]) * 100
    poverty_rates.append(poverty_rate)


census_pd.loc[:, "Poverty Rate (%)"] = poverty_rates

census_pd


census_pd.to_excel('census_data.xlsx', index=True)



