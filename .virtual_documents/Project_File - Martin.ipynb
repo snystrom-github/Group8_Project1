#Dependencies 

from census import Census
import hvplot.pandas
import pandas as pd
import requests
import time
from scipy.stats import linregress
from matplotlib import pyplot as plt
import csv
from config import census_key



#import fort_state_zip.csv
fort_data =pd.read_csv('fort_state_zip.csv')
fort_data


# Initialize Census with your API key

c = Census(census_key, year=2021)  # Try 2021 if 2023 is unsupported

# Define your list of zip codes as strings
fort_zips = fort_data['Zip Code'].astype(str).tolist()
fort_names = fort_data['Name'].tolist()

# Run Census Search to retrieve data on all zip codes
census_data = []
for zip_code in fort_zips:
    try:
        data = c.acs5.get(
            (
                "NAME",
                "B19013_001E",  # Household Income
                "B01003_001E",  # Population
                "B01002_001E",  # Median Age
                "B19301_001E",  # Per Capita Income
                "B17001_002E"   # Poverty Count
            ),
            {'for': f'zip code tabulation area:{zip_code}'}
        )
        census_data.extend(data)
    except CensusException as e:
        print(f"Error retrieving data for zip code {zip_code}: {e}")
        continue

# Convert to DataFrame
census_pd = pd.DataFrame(census_data)

# Column renaming
census_pd = census_pd.rename(
    columns={
        "B01003_001E": "Population",
        "B01002_001E": "Median Age",
        "B19013_001E": "Household Income",
        "B19301_001E": "Per Capita Income",
        "B17001_002E": "Poverty Count",
        "NAME": "Name",
        "zip code tabulation area": "Zipcode"
    }
)

census_pd['Name'] = fort_names
# Display DataFrame length and sample data
print(f"Number of rows in the DataFrame: {len(census_pd)}")
census_pd



census_pd.replace(-666666666.0, pd.NA, inplace=True)
census_pd


census_pd.to_excel('census_data.xlsx', index=True)


# Ensure that Poverty Rate is calculated and added as a new column in census_pd
census_pd["Poverty Rate"] = (census_pd["Poverty Count"] / census_pd["Population"]) * 100
census_pd


census_pd["National Poverty Rate"] = 11.4
census_pd


import matplotlib.pyplot as plt

# Scatter plot with Population vs. Poverty Rate
plt.figure(figsize=(8, 6))
plt.scatter(census_pd["Population"], census_pd["Poverty Rate"], color="teal", alpha=0.7)

# Use the National Poverty Rate column to draw the reference line
plt.axhline(y=census_pd["National Poverty Rate"].iloc[0], color="red", linestyle="--", label="National Poverty Rate (11.4%)")

plt.title("Population Size vs. Poverty Rate around Military Bases")
plt.xlabel("Population")
plt.ylabel("Poverty Rate (%)")
plt.legend()
plt.grid(True)
plt.show()



import plotly.express as px

# Create a Plotly scatter plot without "State" in hover data
fig = px.scatter(
    census_pd,
    x="Population",
    y="Poverty Rate",
    title="Population Size vs. Poverty Rate around Military Bases",
    labels={"Population": "Population", "Poverty Rate": "Poverty Rate (%)"},
    hover_data={
        "Name": True,        # Base name
        "Population": True,  # Population size
        "National Poverty Rate": True  # National poverty rate for reference
    }
)

# Add a reference line for the national poverty rate
fig.add_hline(
    y=census_pd["National Poverty Rate"].iloc[0],
    line_dash="dash",
    line_color="red",
    annotation_text="National Poverty Rate"
)

# Show the plot
fig.show()







