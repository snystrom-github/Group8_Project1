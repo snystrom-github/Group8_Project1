{
 "cells": [
  {
   "cell_type": "code",
   "execution_count": 68,
   "id": "ca248cfa-95a0-4acb-a0bc-5872be8868ac",
   "metadata": {},
   "outputs": [
    {
     "data": {
      "text/html": [
       "<script type=\"esms-options\">{\"shimMode\": true}</script><style>*[data-root-id],\n",
       "*[data-root-id] > * {\n",
       "  box-sizing: border-box;\n",
       "  font-family: var(--jp-ui-font-family);\n",
       "  font-size: var(--jp-ui-font-size1);\n",
       "  color: var(--vscode-editor-foreground, var(--jp-ui-font-color1));\n",
       "}\n",
       "\n",
       "/* Override VSCode background color */\n",
       ".cell-output-ipywidget-background:has(\n",
       "    > .cell-output-ipywidget-background > .lm-Widget > *[data-root-id]\n",
       "  ),\n",
       ".cell-output-ipywidget-background:has(> .lm-Widget > *[data-root-id]) {\n",
       "  background-color: transparent !important;\n",
       "}\n",
       "</style>"
      ]
     },
     "metadata": {},
     "output_type": "display_data"
    },
    {
     "data": {
      "application/javascript": [
       "(function(root) {\n",
       "  function now() {\n",
       "    return new Date();\n",
       "  }\n",
       "\n",
       "  const force = true;\n",
       "  const py_version = '3.5.2'.replace('rc', '-rc.').replace('.dev', '-dev.');\n",
       "  const reloading = false;\n",
       "  const Bokeh = root.Bokeh;\n",
       "\n",
       "  // Set a timeout for this load but only if we are not already initializing\n",
       "  if (typeof (root._bokeh_timeout) === \"undefined\" || (force || !root._bokeh_is_initializing)) {\n",
       "    root._bokeh_timeout = Date.now() + 5000;\n",
       "    root._bokeh_failed_load = false;\n",
       "  }\n",
       "\n",
       "  function run_callbacks() {\n",
       "    try {\n",
       "      root._bokeh_onload_callbacks.forEach(function(callback) {\n",
       "        if (callback != null)\n",
       "          callback();\n",
       "      });\n",
       "    } finally {\n",
       "      delete root._bokeh_onload_callbacks;\n",
       "    }\n",
       "    console.debug(\"Bokeh: all callbacks have finished\");\n",
       "  }\n",
       "\n",
       "  function load_libs(css_urls, js_urls, js_modules, js_exports, callback) {\n",
       "    if (css_urls == null) css_urls = [];\n",
       "    if (js_urls == null) js_urls = [];\n",
       "    if (js_modules == null) js_modules = [];\n",
       "    if (js_exports == null) js_exports = {};\n",
       "\n",
       "    root._bokeh_onload_callbacks.push(callback);\n",
       "\n",
       "    if (root._bokeh_is_loading > 0) {\n",
       "      // Don't load bokeh if it is still initializing\n",
       "      console.debug(\"Bokeh: BokehJS is being loaded, scheduling callback at\", now());\n",
       "      return null;\n",
       "    } else if (js_urls.length === 0 && js_modules.length === 0 && Object.keys(js_exports).length === 0) {\n",
       "      // There is nothing to load\n",
       "      run_callbacks();\n",
       "      return null;\n",
       "    }\n",
       "\n",
       "    function on_load() {\n",
       "      root._bokeh_is_loading--;\n",
       "      if (root._bokeh_is_loading === 0) {\n",
       "        console.debug(\"Bokeh: all BokehJS libraries/stylesheets loaded\");\n",
       "        run_callbacks()\n",
       "      }\n",
       "    }\n",
       "    window._bokeh_on_load = on_load\n",
       "\n",
       "    function on_error(e) {\n",
       "      const src_el = e.srcElement\n",
       "      console.error(\"failed to load \" + (src_el.href || src_el.src));\n",
       "    }\n",
       "\n",
       "    const skip = [];\n",
       "    if (window.requirejs) {\n",
       "      window.requirejs.config({'packages': {}, 'paths': {}, 'shim': {}});\n",
       "      root._bokeh_is_loading = css_urls.length + 0;\n",
       "    } else {\n",
       "      root._bokeh_is_loading = css_urls.length + js_urls.length + js_modules.length + Object.keys(js_exports).length;\n",
       "    }\n",
       "\n",
       "    const existing_stylesheets = []\n",
       "    const links = document.getElementsByTagName('link')\n",
       "    for (let i = 0; i < links.length; i++) {\n",
       "      const link = links[i]\n",
       "      if (link.href != null) {\n",
       "        existing_stylesheets.push(link.href)\n",
       "      }\n",
       "    }\n",
       "    for (let i = 0; i < css_urls.length; i++) {\n",
       "      const url = css_urls[i];\n",
       "      const escaped = encodeURI(url)\n",
       "      if (existing_stylesheets.indexOf(escaped) !== -1) {\n",
       "        on_load()\n",
       "        continue;\n",
       "      }\n",
       "      const element = document.createElement(\"link\");\n",
       "      element.onload = on_load;\n",
       "      element.onerror = on_error;\n",
       "      element.rel = \"stylesheet\";\n",
       "      element.type = \"text/css\";\n",
       "      element.href = url;\n",
       "      console.debug(\"Bokeh: injecting link tag for BokehJS stylesheet: \", url);\n",
       "      document.body.appendChild(element);\n",
       "    }    var existing_scripts = []\n",
       "    const scripts = document.getElementsByTagName('script')\n",
       "    for (let i = 0; i < scripts.length; i++) {\n",
       "      var script = scripts[i]\n",
       "      if (script.src != null) {\n",
       "        existing_scripts.push(script.src)\n",
       "      }\n",
       "    }\n",
       "    for (let i = 0; i < js_urls.length; i++) {\n",
       "      const url = js_urls[i];\n",
       "      const escaped = encodeURI(url)\n",
       "      if (skip.indexOf(escaped) !== -1 || existing_scripts.indexOf(escaped) !== -1) {\n",
       "        if (!window.requirejs) {\n",
       "          on_load();\n",
       "        }\n",
       "        continue;\n",
       "      }\n",
       "      const element = document.createElement('script');\n",
       "      element.onload = on_load;\n",
       "      element.onerror = on_error;\n",
       "      element.async = false;\n",
       "      element.src = url;\n",
       "      console.debug(\"Bokeh: injecting script tag for BokehJS library: \", url);\n",
       "      document.head.appendChild(element);\n",
       "    }\n",
       "    for (let i = 0; i < js_modules.length; i++) {\n",
       "      const url = js_modules[i];\n",
       "      const escaped = encodeURI(url)\n",
       "      if (skip.indexOf(escaped) !== -1 || existing_scripts.indexOf(escaped) !== -1) {\n",
       "        if (!window.requirejs) {\n",
       "          on_load();\n",
       "        }\n",
       "        continue;\n",
       "      }\n",
       "      var element = document.createElement('script');\n",
       "      element.onload = on_load;\n",
       "      element.onerror = on_error;\n",
       "      element.async = false;\n",
       "      element.src = url;\n",
       "      element.type = \"module\";\n",
       "      console.debug(\"Bokeh: injecting script tag for BokehJS library: \", url);\n",
       "      document.head.appendChild(element);\n",
       "    }\n",
       "    for (const name in js_exports) {\n",
       "      const url = js_exports[name];\n",
       "      const escaped = encodeURI(url)\n",
       "      if (skip.indexOf(escaped) >= 0 || root[name] != null) {\n",
       "        if (!window.requirejs) {\n",
       "          on_load();\n",
       "        }\n",
       "        continue;\n",
       "      }\n",
       "      var element = document.createElement('script');\n",
       "      element.onerror = on_error;\n",
       "      element.async = false;\n",
       "      element.type = \"module\";\n",
       "      console.debug(\"Bokeh: injecting script tag for BokehJS library: \", url);\n",
       "      element.textContent = `\n",
       "      import ${name} from \"${url}\"\n",
       "      window.${name} = ${name}\n",
       "      window._bokeh_on_load()\n",
       "      `\n",
       "      document.head.appendChild(element);\n",
       "    }\n",
       "    if (!js_urls.length && !js_modules.length) {\n",
       "      on_load()\n",
       "    }\n",
       "  };\n",
       "\n",
       "  function inject_raw_css(css) {\n",
       "    const element = document.createElement(\"style\");\n",
       "    element.appendChild(document.createTextNode(css));\n",
       "    document.body.appendChild(element);\n",
       "  }\n",
       "\n",
       "  const js_urls = [\"https://cdn.holoviz.org/panel/1.5.2/dist/bundled/reactiveesm/es-module-shims@^1.10.0/dist/es-module-shims.min.js\", \"https://cdn.bokeh.org/bokeh/release/bokeh-3.5.2.min.js\", \"https://cdn.bokeh.org/bokeh/release/bokeh-gl-3.5.2.min.js\", \"https://cdn.bokeh.org/bokeh/release/bokeh-widgets-3.5.2.min.js\", \"https://cdn.bokeh.org/bokeh/release/bokeh-tables-3.5.2.min.js\", \"https://cdn.holoviz.org/panel/1.5.2/dist/panel.min.js\", \"https://cdn.jsdelivr.net/npm/@holoviz/geoviews@1.13.0/dist/geoviews.min.js\"];\n",
       "  const js_modules = [];\n",
       "  const js_exports = {};\n",
       "  const css_urls = [];\n",
       "  const inline_js = [    function(Bokeh) {\n",
       "      Bokeh.set_log_level(\"info\");\n",
       "    },\n",
       "function(Bokeh) {} // ensure no trailing comma for IE\n",
       "  ];\n",
       "\n",
       "  function run_inline_js() {\n",
       "    if ((root.Bokeh !== undefined) || (force === true)) {\n",
       "      for (let i = 0; i < inline_js.length; i++) {\n",
       "        try {\n",
       "          inline_js[i].call(root, root.Bokeh);\n",
       "        } catch(e) {\n",
       "          if (!reloading) {\n",
       "            throw e;\n",
       "          }\n",
       "        }\n",
       "      }\n",
       "      // Cache old bokeh versions\n",
       "      if (Bokeh != undefined && !reloading) {\n",
       "        var NewBokeh = root.Bokeh;\n",
       "        if (Bokeh.versions === undefined) {\n",
       "          Bokeh.versions = new Map();\n",
       "        }\n",
       "        if (NewBokeh.version !== Bokeh.version) {\n",
       "          Bokeh.versions.set(NewBokeh.version, NewBokeh)\n",
       "        }\n",
       "        root.Bokeh = Bokeh;\n",
       "      }\n",
       "    } else if (Date.now() < root._bokeh_timeout) {\n",
       "      setTimeout(run_inline_js, 100);\n",
       "    } else if (!root._bokeh_failed_load) {\n",
       "      console.log(\"Bokeh: BokehJS failed to load within specified timeout.\");\n",
       "      root._bokeh_failed_load = true;\n",
       "    }\n",
       "    root._bokeh_is_initializing = false\n",
       "  }\n",
       "\n",
       "  function load_or_wait() {\n",
       "    // Implement a backoff loop that tries to ensure we do not load multiple\n",
       "    // versions of Bokeh and its dependencies at the same time.\n",
       "    // In recent versions we use the root._bokeh_is_initializing flag\n",
       "    // to determine whether there is an ongoing attempt to initialize\n",
       "    // bokeh, however for backward compatibility we also try to ensure\n",
       "    // that we do not start loading a newer (Panel>=1.0 and Bokeh>3) version\n",
       "    // before older versions are fully initialized.\n",
       "    if (root._bokeh_is_initializing && Date.now() > root._bokeh_timeout) {\n",
       "      // If the timeout and bokeh was not successfully loaded we reset\n",
       "      // everything and try loading again\n",
       "      root._bokeh_timeout = Date.now() + 5000;\n",
       "      root._bokeh_is_initializing = false;\n",
       "      root._bokeh_onload_callbacks = undefined;\n",
       "      root._bokeh_is_loading = 0\n",
       "      console.log(\"Bokeh: BokehJS was loaded multiple times but one version failed to initialize.\");\n",
       "      load_or_wait();\n",
       "    } else if (root._bokeh_is_initializing || (typeof root._bokeh_is_initializing === \"undefined\" && root._bokeh_onload_callbacks !== undefined)) {\n",
       "      setTimeout(load_or_wait, 100);\n",
       "    } else {\n",
       "      root._bokeh_is_initializing = true\n",
       "      root._bokeh_onload_callbacks = []\n",
       "      const bokeh_loaded = root.Bokeh != null && (root.Bokeh.version === py_version || (root.Bokeh.versions !== undefined && root.Bokeh.versions.has(py_version)));\n",
       "      if (!reloading && !bokeh_loaded) {\n",
       "        if (root.Bokeh) {\n",
       "          root.Bokeh = undefined;\n",
       "        }\n",
       "        console.debug(\"Bokeh: BokehJS not loaded, scheduling load and callback at\", now());\n",
       "      }\n",
       "      load_libs(css_urls, js_urls, js_modules, js_exports, function() {\n",
       "        console.debug(\"Bokeh: BokehJS plotting callback run at\", now());\n",
       "        run_inline_js();\n",
       "      });\n",
       "    }\n",
       "  }\n",
       "  // Give older versions of the autoload script a head-start to ensure\n",
       "  // they initialize before we start loading newer version.\n",
       "  setTimeout(load_or_wait, 100)\n",
       "}(window));"
      ],
      "application/vnd.holoviews_load.v0+json": "(function(root) {\n  function now() {\n    return new Date();\n  }\n\n  const force = true;\n  const py_version = '3.5.2'.replace('rc', '-rc.').replace('.dev', '-dev.');\n  const reloading = false;\n  const Bokeh = root.Bokeh;\n\n  // Set a timeout for this load but only if we are not already initializing\n  if (typeof (root._bokeh_timeout) === \"undefined\" || (force || !root._bokeh_is_initializing)) {\n    root._bokeh_timeout = Date.now() + 5000;\n    root._bokeh_failed_load = false;\n  }\n\n  function run_callbacks() {\n    try {\n      root._bokeh_onload_callbacks.forEach(function(callback) {\n        if (callback != null)\n          callback();\n      });\n    } finally {\n      delete root._bokeh_onload_callbacks;\n    }\n    console.debug(\"Bokeh: all callbacks have finished\");\n  }\n\n  function load_libs(css_urls, js_urls, js_modules, js_exports, callback) {\n    if (css_urls == null) css_urls = [];\n    if (js_urls == null) js_urls = [];\n    if (js_modules == null) js_modules = [];\n    if (js_exports == null) js_exports = {};\n\n    root._bokeh_onload_callbacks.push(callback);\n\n    if (root._bokeh_is_loading > 0) {\n      // Don't load bokeh if it is still initializing\n      console.debug(\"Bokeh: BokehJS is being loaded, scheduling callback at\", now());\n      return null;\n    } else if (js_urls.length === 0 && js_modules.length === 0 && Object.keys(js_exports).length === 0) {\n      // There is nothing to load\n      run_callbacks();\n      return null;\n    }\n\n    function on_load() {\n      root._bokeh_is_loading--;\n      if (root._bokeh_is_loading === 0) {\n        console.debug(\"Bokeh: all BokehJS libraries/stylesheets loaded\");\n        run_callbacks()\n      }\n    }\n    window._bokeh_on_load = on_load\n\n    function on_error(e) {\n      const src_el = e.srcElement\n      console.error(\"failed to load \" + (src_el.href || src_el.src));\n    }\n\n    const skip = [];\n    if (window.requirejs) {\n      window.requirejs.config({'packages': {}, 'paths': {}, 'shim': {}});\n      root._bokeh_is_loading = css_urls.length + 0;\n    } else {\n      root._bokeh_is_loading = css_urls.length + js_urls.length + js_modules.length + Object.keys(js_exports).length;\n    }\n\n    const existing_stylesheets = []\n    const links = document.getElementsByTagName('link')\n    for (let i = 0; i < links.length; i++) {\n      const link = links[i]\n      if (link.href != null) {\n        existing_stylesheets.push(link.href)\n      }\n    }\n    for (let i = 0; i < css_urls.length; i++) {\n      const url = css_urls[i];\n      const escaped = encodeURI(url)\n      if (existing_stylesheets.indexOf(escaped) !== -1) {\n        on_load()\n        continue;\n      }\n      const element = document.createElement(\"link\");\n      element.onload = on_load;\n      element.onerror = on_error;\n      element.rel = \"stylesheet\";\n      element.type = \"text/css\";\n      element.href = url;\n      console.debug(\"Bokeh: injecting link tag for BokehJS stylesheet: \", url);\n      document.body.appendChild(element);\n    }    var existing_scripts = []\n    const scripts = document.getElementsByTagName('script')\n    for (let i = 0; i < scripts.length; i++) {\n      var script = scripts[i]\n      if (script.src != null) {\n        existing_scripts.push(script.src)\n      }\n    }\n    for (let i = 0; i < js_urls.length; i++) {\n      const url = js_urls[i];\n      const escaped = encodeURI(url)\n      if (skip.indexOf(escaped) !== -1 || existing_scripts.indexOf(escaped) !== -1) {\n        if (!window.requirejs) {\n          on_load();\n        }\n        continue;\n      }\n      const element = document.createElement('script');\n      element.onload = on_load;\n      element.onerror = on_error;\n      element.async = false;\n      element.src = url;\n      console.debug(\"Bokeh: injecting script tag for BokehJS library: \", url);\n      document.head.appendChild(element);\n    }\n    for (let i = 0; i < js_modules.length; i++) {\n      const url = js_modules[i];\n      const escaped = encodeURI(url)\n      if (skip.indexOf(escaped) !== -1 || existing_scripts.indexOf(escaped) !== -1) {\n        if (!window.requirejs) {\n          on_load();\n        }\n        continue;\n      }\n      var element = document.createElement('script');\n      element.onload = on_load;\n      element.onerror = on_error;\n      element.async = false;\n      element.src = url;\n      element.type = \"module\";\n      console.debug(\"Bokeh: injecting script tag for BokehJS library: \", url);\n      document.head.appendChild(element);\n    }\n    for (const name in js_exports) {\n      const url = js_exports[name];\n      const escaped = encodeURI(url)\n      if (skip.indexOf(escaped) >= 0 || root[name] != null) {\n        if (!window.requirejs) {\n          on_load();\n        }\n        continue;\n      }\n      var element = document.createElement('script');\n      element.onerror = on_error;\n      element.async = false;\n      element.type = \"module\";\n      console.debug(\"Bokeh: injecting script tag for BokehJS library: \", url);\n      element.textContent = `\n      import ${name} from \"${url}\"\n      window.${name} = ${name}\n      window._bokeh_on_load()\n      `\n      document.head.appendChild(element);\n    }\n    if (!js_urls.length && !js_modules.length) {\n      on_load()\n    }\n  };\n\n  function inject_raw_css(css) {\n    const element = document.createElement(\"style\");\n    element.appendChild(document.createTextNode(css));\n    document.body.appendChild(element);\n  }\n\n  const js_urls = [\"https://cdn.holoviz.org/panel/1.5.2/dist/bundled/reactiveesm/es-module-shims@^1.10.0/dist/es-module-shims.min.js\", \"https://cdn.bokeh.org/bokeh/release/bokeh-3.5.2.min.js\", \"https://cdn.bokeh.org/bokeh/release/bokeh-gl-3.5.2.min.js\", \"https://cdn.bokeh.org/bokeh/release/bokeh-widgets-3.5.2.min.js\", \"https://cdn.bokeh.org/bokeh/release/bokeh-tables-3.5.2.min.js\", \"https://cdn.holoviz.org/panel/1.5.2/dist/panel.min.js\", \"https://cdn.jsdelivr.net/npm/@holoviz/geoviews@1.13.0/dist/geoviews.min.js\"];\n  const js_modules = [];\n  const js_exports = {};\n  const css_urls = [];\n  const inline_js = [    function(Bokeh) {\n      Bokeh.set_log_level(\"info\");\n    },\nfunction(Bokeh) {} // ensure no trailing comma for IE\n  ];\n\n  function run_inline_js() {\n    if ((root.Bokeh !== undefined) || (force === true)) {\n      for (let i = 0; i < inline_js.length; i++) {\n        try {\n          inline_js[i].call(root, root.Bokeh);\n        } catch(e) {\n          if (!reloading) {\n            throw e;\n          }\n        }\n      }\n      // Cache old bokeh versions\n      if (Bokeh != undefined && !reloading) {\n        var NewBokeh = root.Bokeh;\n        if (Bokeh.versions === undefined) {\n          Bokeh.versions = new Map();\n        }\n        if (NewBokeh.version !== Bokeh.version) {\n          Bokeh.versions.set(NewBokeh.version, NewBokeh)\n        }\n        root.Bokeh = Bokeh;\n      }\n    } else if (Date.now() < root._bokeh_timeout) {\n      setTimeout(run_inline_js, 100);\n    } else if (!root._bokeh_failed_load) {\n      console.log(\"Bokeh: BokehJS failed to load within specified timeout.\");\n      root._bokeh_failed_load = true;\n    }\n    root._bokeh_is_initializing = false\n  }\n\n  function load_or_wait() {\n    // Implement a backoff loop that tries to ensure we do not load multiple\n    // versions of Bokeh and its dependencies at the same time.\n    // In recent versions we use the root._bokeh_is_initializing flag\n    // to determine whether there is an ongoing attempt to initialize\n    // bokeh, however for backward compatibility we also try to ensure\n    // that we do not start loading a newer (Panel>=1.0 and Bokeh>3) version\n    // before older versions are fully initialized.\n    if (root._bokeh_is_initializing && Date.now() > root._bokeh_timeout) {\n      // If the timeout and bokeh was not successfully loaded we reset\n      // everything and try loading again\n      root._bokeh_timeout = Date.now() + 5000;\n      root._bokeh_is_initializing = false;\n      root._bokeh_onload_callbacks = undefined;\n      root._bokeh_is_loading = 0\n      console.log(\"Bokeh: BokehJS was loaded multiple times but one version failed to initialize.\");\n      load_or_wait();\n    } else if (root._bokeh_is_initializing || (typeof root._bokeh_is_initializing === \"undefined\" && root._bokeh_onload_callbacks !== undefined)) {\n      setTimeout(load_or_wait, 100);\n    } else {\n      root._bokeh_is_initializing = true\n      root._bokeh_onload_callbacks = []\n      const bokeh_loaded = root.Bokeh != null && (root.Bokeh.version === py_version || (root.Bokeh.versions !== undefined && root.Bokeh.versions.has(py_version)));\n      if (!reloading && !bokeh_loaded) {\n        if (root.Bokeh) {\n          root.Bokeh = undefined;\n        }\n        console.debug(\"Bokeh: BokehJS not loaded, scheduling load and callback at\", now());\n      }\n      load_libs(css_urls, js_urls, js_modules, js_exports, function() {\n        console.debug(\"Bokeh: BokehJS plotting callback run at\", now());\n        run_inline_js();\n      });\n    }\n  }\n  // Give older versions of the autoload script a head-start to ensure\n  // they initialize before we start loading newer version.\n  setTimeout(load_or_wait, 100)\n}(window));"
     },
     "metadata": {},
     "output_type": "display_data"
    },
    {
     "data": {
      "application/javascript": [
       "\n",
       "if ((window.PyViz === undefined) || (window.PyViz instanceof HTMLElement)) {\n",
       "  window.PyViz = {comms: {}, comm_status:{}, kernels:{}, receivers: {}, plot_index: []}\n",
       "}\n",
       "\n",
       "\n",
       "    function JupyterCommManager() {\n",
       "    }\n",
       "\n",
       "    JupyterCommManager.prototype.register_target = function(plot_id, comm_id, msg_handler) {\n",
       "      if (window.comm_manager || ((window.Jupyter !== undefined) && (Jupyter.notebook.kernel != null))) {\n",
       "        var comm_manager = window.comm_manager || Jupyter.notebook.kernel.comm_manager;\n",
       "        comm_manager.register_target(comm_id, function(comm) {\n",
       "          comm.on_msg(msg_handler);\n",
       "        });\n",
       "      } else if ((plot_id in window.PyViz.kernels) && (window.PyViz.kernels[plot_id])) {\n",
       "        window.PyViz.kernels[plot_id].registerCommTarget(comm_id, function(comm) {\n",
       "          comm.onMsg = msg_handler;\n",
       "        });\n",
       "      } else if (typeof google != 'undefined' && google.colab.kernel != null) {\n",
       "        google.colab.kernel.comms.registerTarget(comm_id, (comm) => {\n",
       "          var messages = comm.messages[Symbol.asyncIterator]();\n",
       "          function processIteratorResult(result) {\n",
       "            var message = result.value;\n",
       "            console.log(message)\n",
       "            var content = {data: message.data, comm_id};\n",
       "            var buffers = []\n",
       "            for (var buffer of message.buffers || []) {\n",
       "              buffers.push(new DataView(buffer))\n",
       "            }\n",
       "            var metadata = message.metadata || {};\n",
       "            var msg = {content, buffers, metadata}\n",
       "            msg_handler(msg);\n",
       "            return messages.next().then(processIteratorResult);\n",
       "          }\n",
       "          return messages.next().then(processIteratorResult);\n",
       "        })\n",
       "      }\n",
       "    }\n",
       "\n",
       "    JupyterCommManager.prototype.get_client_comm = function(plot_id, comm_id, msg_handler) {\n",
       "      if (comm_id in window.PyViz.comms) {\n",
       "        return window.PyViz.comms[comm_id];\n",
       "      } else if (window.comm_manager || ((window.Jupyter !== undefined) && (Jupyter.notebook.kernel != null))) {\n",
       "        var comm_manager = window.comm_manager || Jupyter.notebook.kernel.comm_manager;\n",
       "        var comm = comm_manager.new_comm(comm_id, {}, {}, {}, comm_id);\n",
       "        if (msg_handler) {\n",
       "          comm.on_msg(msg_handler);\n",
       "        }\n",
       "      } else if ((plot_id in window.PyViz.kernels) && (window.PyViz.kernels[plot_id])) {\n",
       "        var comm = window.PyViz.kernels[plot_id].connectToComm(comm_id);\n",
       "        comm.open();\n",
       "        if (msg_handler) {\n",
       "          comm.onMsg = msg_handler;\n",
       "        }\n",
       "      } else if (typeof google != 'undefined' && google.colab.kernel != null) {\n",
       "        var comm_promise = google.colab.kernel.comms.open(comm_id)\n",
       "        comm_promise.then((comm) => {\n",
       "          window.PyViz.comms[comm_id] = comm;\n",
       "          if (msg_handler) {\n",
       "            var messages = comm.messages[Symbol.asyncIterator]();\n",
       "            function processIteratorResult(result) {\n",
       "              var message = result.value;\n",
       "              var content = {data: message.data};\n",
       "              var metadata = message.metadata || {comm_id};\n",
       "              var msg = {content, metadata}\n",
       "              msg_handler(msg);\n",
       "              return messages.next().then(processIteratorResult);\n",
       "            }\n",
       "            return messages.next().then(processIteratorResult);\n",
       "          }\n",
       "        }) \n",
       "        var sendClosure = (data, metadata, buffers, disposeOnDone) => {\n",
       "          return comm_promise.then((comm) => {\n",
       "            comm.send(data, metadata, buffers, disposeOnDone);\n",
       "          });\n",
       "        };\n",
       "        var comm = {\n",
       "          send: sendClosure\n",
       "        };\n",
       "      }\n",
       "      window.PyViz.comms[comm_id] = comm;\n",
       "      return comm;\n",
       "    }\n",
       "    window.PyViz.comm_manager = new JupyterCommManager();\n",
       "    \n",
       "\n",
       "\n",
       "var JS_MIME_TYPE = 'application/javascript';\n",
       "var HTML_MIME_TYPE = 'text/html';\n",
       "var EXEC_MIME_TYPE = 'application/vnd.holoviews_exec.v0+json';\n",
       "var CLASS_NAME = 'output';\n",
       "\n",
       "/**\n",
       " * Render data to the DOM node\n",
       " */\n",
       "function render(props, node) {\n",
       "  var div = document.createElement(\"div\");\n",
       "  var script = document.createElement(\"script\");\n",
       "  node.appendChild(div);\n",
       "  node.appendChild(script);\n",
       "}\n",
       "\n",
       "/**\n",
       " * Handle when a new output is added\n",
       " */\n",
       "function handle_add_output(event, handle) {\n",
       "  var output_area = handle.output_area;\n",
       "  var output = handle.output;\n",
       "  if ((output.data == undefined) || (!output.data.hasOwnProperty(EXEC_MIME_TYPE))) {\n",
       "    return\n",
       "  }\n",
       "  var id = output.metadata[EXEC_MIME_TYPE][\"id\"];\n",
       "  var toinsert = output_area.element.find(\".\" + CLASS_NAME.split(' ')[0]);\n",
       "  if (id !== undefined) {\n",
       "    var nchildren = toinsert.length;\n",
       "    var html_node = toinsert[nchildren-1].children[0];\n",
       "    html_node.innerHTML = output.data[HTML_MIME_TYPE];\n",
       "    var scripts = [];\n",
       "    var nodelist = html_node.querySelectorAll(\"script\");\n",
       "    for (var i in nodelist) {\n",
       "      if (nodelist.hasOwnProperty(i)) {\n",
       "        scripts.push(nodelist[i])\n",
       "      }\n",
       "    }\n",
       "\n",
       "    scripts.forEach( function (oldScript) {\n",
       "      var newScript = document.createElement(\"script\");\n",
       "      var attrs = [];\n",
       "      var nodemap = oldScript.attributes;\n",
       "      for (var j in nodemap) {\n",
       "        if (nodemap.hasOwnProperty(j)) {\n",
       "          attrs.push(nodemap[j])\n",
       "        }\n",
       "      }\n",
       "      attrs.forEach(function(attr) { newScript.setAttribute(attr.name, attr.value) });\n",
       "      newScript.appendChild(document.createTextNode(oldScript.innerHTML));\n",
       "      oldScript.parentNode.replaceChild(newScript, oldScript);\n",
       "    });\n",
       "    if (JS_MIME_TYPE in output.data) {\n",
       "      toinsert[nchildren-1].children[1].textContent = output.data[JS_MIME_TYPE];\n",
       "    }\n",
       "    output_area._hv_plot_id = id;\n",
       "    if ((window.Bokeh !== undefined) && (id in Bokeh.index)) {\n",
       "      window.PyViz.plot_index[id] = Bokeh.index[id];\n",
       "    } else {\n",
       "      window.PyViz.plot_index[id] = null;\n",
       "    }\n",
       "  } else if (output.metadata[EXEC_MIME_TYPE][\"server_id\"] !== undefined) {\n",
       "    var bk_div = document.createElement(\"div\");\n",
       "    bk_div.innerHTML = output.data[HTML_MIME_TYPE];\n",
       "    var script_attrs = bk_div.children[0].attributes;\n",
       "    for (var i = 0; i < script_attrs.length; i++) {\n",
       "      toinsert[toinsert.length - 1].childNodes[1].setAttribute(script_attrs[i].name, script_attrs[i].value);\n",
       "    }\n",
       "    // store reference to server id on output_area\n",
       "    output_area._bokeh_server_id = output.metadata[EXEC_MIME_TYPE][\"server_id\"];\n",
       "  }\n",
       "}\n",
       "\n",
       "/**\n",
       " * Handle when an output is cleared or removed\n",
       " */\n",
       "function handle_clear_output(event, handle) {\n",
       "  var id = handle.cell.output_area._hv_plot_id;\n",
       "  var server_id = handle.cell.output_area._bokeh_server_id;\n",
       "  if (((id === undefined) || !(id in PyViz.plot_index)) && (server_id !== undefined)) { return; }\n",
       "  var comm = window.PyViz.comm_manager.get_client_comm(\"hv-extension-comm\", \"hv-extension-comm\", function () {});\n",
       "  if (server_id !== null) {\n",
       "    comm.send({event_type: 'server_delete', 'id': server_id});\n",
       "    return;\n",
       "  } else if (comm !== null) {\n",
       "    comm.send({event_type: 'delete', 'id': id});\n",
       "  }\n",
       "  delete PyViz.plot_index[id];\n",
       "  if ((window.Bokeh !== undefined) & (id in window.Bokeh.index)) {\n",
       "    var doc = window.Bokeh.index[id].model.document\n",
       "    doc.clear();\n",
       "    const i = window.Bokeh.documents.indexOf(doc);\n",
       "    if (i > -1) {\n",
       "      window.Bokeh.documents.splice(i, 1);\n",
       "    }\n",
       "  }\n",
       "}\n",
       "\n",
       "/**\n",
       " * Handle kernel restart event\n",
       " */\n",
       "function handle_kernel_cleanup(event, handle) {\n",
       "  delete PyViz.comms[\"hv-extension-comm\"];\n",
       "  window.PyViz.plot_index = {}\n",
       "}\n",
       "\n",
       "/**\n",
       " * Handle update_display_data messages\n",
       " */\n",
       "function handle_update_output(event, handle) {\n",
       "  handle_clear_output(event, {cell: {output_area: handle.output_area}})\n",
       "  handle_add_output(event, handle)\n",
       "}\n",
       "\n",
       "function register_renderer(events, OutputArea) {\n",
       "  function append_mime(data, metadata, element) {\n",
       "    // create a DOM node to render to\n",
       "    var toinsert = this.create_output_subarea(\n",
       "    metadata,\n",
       "    CLASS_NAME,\n",
       "    EXEC_MIME_TYPE\n",
       "    );\n",
       "    this.keyboard_manager.register_events(toinsert);\n",
       "    // Render to node\n",
       "    var props = {data: data, metadata: metadata[EXEC_MIME_TYPE]};\n",
       "    render(props, toinsert[0]);\n",
       "    element.append(toinsert);\n",
       "    return toinsert\n",
       "  }\n",
       "\n",
       "  events.on('output_added.OutputArea', handle_add_output);\n",
       "  events.on('output_updated.OutputArea', handle_update_output);\n",
       "  events.on('clear_output.CodeCell', handle_clear_output);\n",
       "  events.on('delete.Cell', handle_clear_output);\n",
       "  events.on('kernel_ready.Kernel', handle_kernel_cleanup);\n",
       "\n",
       "  OutputArea.prototype.register_mime_type(EXEC_MIME_TYPE, append_mime, {\n",
       "    safe: true,\n",
       "    index: 0\n",
       "  });\n",
       "}\n",
       "\n",
       "if (window.Jupyter !== undefined) {\n",
       "  try {\n",
       "    var events = require('base/js/events');\n",
       "    var OutputArea = require('notebook/js/outputarea').OutputArea;\n",
       "    if (OutputArea.prototype.mime_types().indexOf(EXEC_MIME_TYPE) == -1) {\n",
       "      register_renderer(events, OutputArea);\n",
       "    }\n",
       "  } catch(err) {\n",
       "  }\n",
       "}\n"
      ],
      "application/vnd.holoviews_load.v0+json": "\nif ((window.PyViz === undefined) || (window.PyViz instanceof HTMLElement)) {\n  window.PyViz = {comms: {}, comm_status:{}, kernels:{}, receivers: {}, plot_index: []}\n}\n\n\n    function JupyterCommManager() {\n    }\n\n    JupyterCommManager.prototype.register_target = function(plot_id, comm_id, msg_handler) {\n      if (window.comm_manager || ((window.Jupyter !== undefined) && (Jupyter.notebook.kernel != null))) {\n        var comm_manager = window.comm_manager || Jupyter.notebook.kernel.comm_manager;\n        comm_manager.register_target(comm_id, function(comm) {\n          comm.on_msg(msg_handler);\n        });\n      } else if ((plot_id in window.PyViz.kernels) && (window.PyViz.kernels[plot_id])) {\n        window.PyViz.kernels[plot_id].registerCommTarget(comm_id, function(comm) {\n          comm.onMsg = msg_handler;\n        });\n      } else if (typeof google != 'undefined' && google.colab.kernel != null) {\n        google.colab.kernel.comms.registerTarget(comm_id, (comm) => {\n          var messages = comm.messages[Symbol.asyncIterator]();\n          function processIteratorResult(result) {\n            var message = result.value;\n            console.log(message)\n            var content = {data: message.data, comm_id};\n            var buffers = []\n            for (var buffer of message.buffers || []) {\n              buffers.push(new DataView(buffer))\n            }\n            var metadata = message.metadata || {};\n            var msg = {content, buffers, metadata}\n            msg_handler(msg);\n            return messages.next().then(processIteratorResult);\n          }\n          return messages.next().then(processIteratorResult);\n        })\n      }\n    }\n\n    JupyterCommManager.prototype.get_client_comm = function(plot_id, comm_id, msg_handler) {\n      if (comm_id in window.PyViz.comms) {\n        return window.PyViz.comms[comm_id];\n      } else if (window.comm_manager || ((window.Jupyter !== undefined) && (Jupyter.notebook.kernel != null))) {\n        var comm_manager = window.comm_manager || Jupyter.notebook.kernel.comm_manager;\n        var comm = comm_manager.new_comm(comm_id, {}, {}, {}, comm_id);\n        if (msg_handler) {\n          comm.on_msg(msg_handler);\n        }\n      } else if ((plot_id in window.PyViz.kernels) && (window.PyViz.kernels[plot_id])) {\n        var comm = window.PyViz.kernels[plot_id].connectToComm(comm_id);\n        comm.open();\n        if (msg_handler) {\n          comm.onMsg = msg_handler;\n        }\n      } else if (typeof google != 'undefined' && google.colab.kernel != null) {\n        var comm_promise = google.colab.kernel.comms.open(comm_id)\n        comm_promise.then((comm) => {\n          window.PyViz.comms[comm_id] = comm;\n          if (msg_handler) {\n            var messages = comm.messages[Symbol.asyncIterator]();\n            function processIteratorResult(result) {\n              var message = result.value;\n              var content = {data: message.data};\n              var metadata = message.metadata || {comm_id};\n              var msg = {content, metadata}\n              msg_handler(msg);\n              return messages.next().then(processIteratorResult);\n            }\n            return messages.next().then(processIteratorResult);\n          }\n        }) \n        var sendClosure = (data, metadata, buffers, disposeOnDone) => {\n          return comm_promise.then((comm) => {\n            comm.send(data, metadata, buffers, disposeOnDone);\n          });\n        };\n        var comm = {\n          send: sendClosure\n        };\n      }\n      window.PyViz.comms[comm_id] = comm;\n      return comm;\n    }\n    window.PyViz.comm_manager = new JupyterCommManager();\n    \n\n\nvar JS_MIME_TYPE = 'application/javascript';\nvar HTML_MIME_TYPE = 'text/html';\nvar EXEC_MIME_TYPE = 'application/vnd.holoviews_exec.v0+json';\nvar CLASS_NAME = 'output';\n\n/**\n * Render data to the DOM node\n */\nfunction render(props, node) {\n  var div = document.createElement(\"div\");\n  var script = document.createElement(\"script\");\n  node.appendChild(div);\n  node.appendChild(script);\n}\n\n/**\n * Handle when a new output is added\n */\nfunction handle_add_output(event, handle) {\n  var output_area = handle.output_area;\n  var output = handle.output;\n  if ((output.data == undefined) || (!output.data.hasOwnProperty(EXEC_MIME_TYPE))) {\n    return\n  }\n  var id = output.metadata[EXEC_MIME_TYPE][\"id\"];\n  var toinsert = output_area.element.find(\".\" + CLASS_NAME.split(' ')[0]);\n  if (id !== undefined) {\n    var nchildren = toinsert.length;\n    var html_node = toinsert[nchildren-1].children[0];\n    html_node.innerHTML = output.data[HTML_MIME_TYPE];\n    var scripts = [];\n    var nodelist = html_node.querySelectorAll(\"script\");\n    for (var i in nodelist) {\n      if (nodelist.hasOwnProperty(i)) {\n        scripts.push(nodelist[i])\n      }\n    }\n\n    scripts.forEach( function (oldScript) {\n      var newScript = document.createElement(\"script\");\n      var attrs = [];\n      var nodemap = oldScript.attributes;\n      for (var j in nodemap) {\n        if (nodemap.hasOwnProperty(j)) {\n          attrs.push(nodemap[j])\n        }\n      }\n      attrs.forEach(function(attr) { newScript.setAttribute(attr.name, attr.value) });\n      newScript.appendChild(document.createTextNode(oldScript.innerHTML));\n      oldScript.parentNode.replaceChild(newScript, oldScript);\n    });\n    if (JS_MIME_TYPE in output.data) {\n      toinsert[nchildren-1].children[1].textContent = output.data[JS_MIME_TYPE];\n    }\n    output_area._hv_plot_id = id;\n    if ((window.Bokeh !== undefined) && (id in Bokeh.index)) {\n      window.PyViz.plot_index[id] = Bokeh.index[id];\n    } else {\n      window.PyViz.plot_index[id] = null;\n    }\n  } else if (output.metadata[EXEC_MIME_TYPE][\"server_id\"] !== undefined) {\n    var bk_div = document.createElement(\"div\");\n    bk_div.innerHTML = output.data[HTML_MIME_TYPE];\n    var script_attrs = bk_div.children[0].attributes;\n    for (var i = 0; i < script_attrs.length; i++) {\n      toinsert[toinsert.length - 1].childNodes[1].setAttribute(script_attrs[i].name, script_attrs[i].value);\n    }\n    // store reference to server id on output_area\n    output_area._bokeh_server_id = output.metadata[EXEC_MIME_TYPE][\"server_id\"];\n  }\n}\n\n/**\n * Handle when an output is cleared or removed\n */\nfunction handle_clear_output(event, handle) {\n  var id = handle.cell.output_area._hv_plot_id;\n  var server_id = handle.cell.output_area._bokeh_server_id;\n  if (((id === undefined) || !(id in PyViz.plot_index)) && (server_id !== undefined)) { return; }\n  var comm = window.PyViz.comm_manager.get_client_comm(\"hv-extension-comm\", \"hv-extension-comm\", function () {});\n  if (server_id !== null) {\n    comm.send({event_type: 'server_delete', 'id': server_id});\n    return;\n  } else if (comm !== null) {\n    comm.send({event_type: 'delete', 'id': id});\n  }\n  delete PyViz.plot_index[id];\n  if ((window.Bokeh !== undefined) & (id in window.Bokeh.index)) {\n    var doc = window.Bokeh.index[id].model.document\n    doc.clear();\n    const i = window.Bokeh.documents.indexOf(doc);\n    if (i > -1) {\n      window.Bokeh.documents.splice(i, 1);\n    }\n  }\n}\n\n/**\n * Handle kernel restart event\n */\nfunction handle_kernel_cleanup(event, handle) {\n  delete PyViz.comms[\"hv-extension-comm\"];\n  window.PyViz.plot_index = {}\n}\n\n/**\n * Handle update_display_data messages\n */\nfunction handle_update_output(event, handle) {\n  handle_clear_output(event, {cell: {output_area: handle.output_area}})\n  handle_add_output(event, handle)\n}\n\nfunction register_renderer(events, OutputArea) {\n  function append_mime(data, metadata, element) {\n    // create a DOM node to render to\n    var toinsert = this.create_output_subarea(\n    metadata,\n    CLASS_NAME,\n    EXEC_MIME_TYPE\n    );\n    this.keyboard_manager.register_events(toinsert);\n    // Render to node\n    var props = {data: data, metadata: metadata[EXEC_MIME_TYPE]};\n    render(props, toinsert[0]);\n    element.append(toinsert);\n    return toinsert\n  }\n\n  events.on('output_added.OutputArea', handle_add_output);\n  events.on('output_updated.OutputArea', handle_update_output);\n  events.on('clear_output.CodeCell', handle_clear_output);\n  events.on('delete.Cell', handle_clear_output);\n  events.on('kernel_ready.Kernel', handle_kernel_cleanup);\n\n  OutputArea.prototype.register_mime_type(EXEC_MIME_TYPE, append_mime, {\n    safe: true,\n    index: 0\n  });\n}\n\nif (window.Jupyter !== undefined) {\n  try {\n    var events = require('base/js/events');\n    var OutputArea = require('notebook/js/outputarea').OutputArea;\n    if (OutputArea.prototype.mime_types().indexOf(EXEC_MIME_TYPE) == -1) {\n      register_renderer(events, OutputArea);\n    }\n  } catch(err) {\n  }\n}\n"
     },
     "metadata": {},
     "output_type": "display_data"
    },
    {
     "data": {
      "application/vnd.holoviews_exec.v0+json": "",
      "text/html": [
       "<div id='p1270'>\n",
       "  <div id=\"d9c6b774-12e7-41a7-942c-301aba95e5b3\" data-root-id=\"p1270\" style=\"display: contents;\"></div>\n",
       "</div>\n",
       "<script type=\"application/javascript\">(function(root) {\n",
       "  var docs_json = {\"c137a065-6651-4ffd-b9c6-ef01277750bc\":{\"version\":\"3.5.2\",\"title\":\"Bokeh Application\",\"roots\":[{\"type\":\"object\",\"name\":\"panel.models.browser.BrowserInfo\",\"id\":\"p1270\"},{\"type\":\"object\",\"name\":\"panel.models.comm_manager.CommManager\",\"id\":\"p1271\",\"attributes\":{\"plot_id\":\"p1270\",\"comm_id\":\"fadb5247f1644663931ee276ba6ec211\",\"client_comm_id\":\"7ed4661e9a6a4899ab23df9767214634\"}}],\"defs\":[{\"type\":\"model\",\"name\":\"ReactiveHTML1\"},{\"type\":\"model\",\"name\":\"FlexBox1\",\"properties\":[{\"name\":\"align_content\",\"kind\":\"Any\",\"default\":\"flex-start\"},{\"name\":\"align_items\",\"kind\":\"Any\",\"default\":\"flex-start\"},{\"name\":\"flex_direction\",\"kind\":\"Any\",\"default\":\"row\"},{\"name\":\"flex_wrap\",\"kind\":\"Any\",\"default\":\"wrap\"},{\"name\":\"gap\",\"kind\":\"Any\",\"default\":\"\"},{\"name\":\"justify_content\",\"kind\":\"Any\",\"default\":\"flex-start\"}]},{\"type\":\"model\",\"name\":\"FloatPanel1\",\"properties\":[{\"name\":\"config\",\"kind\":\"Any\",\"default\":{\"type\":\"map\"}},{\"name\":\"contained\",\"kind\":\"Any\",\"default\":true},{\"name\":\"position\",\"kind\":\"Any\",\"default\":\"right-top\"},{\"name\":\"offsetx\",\"kind\":\"Any\",\"default\":null},{\"name\":\"offsety\",\"kind\":\"Any\",\"default\":null},{\"name\":\"theme\",\"kind\":\"Any\",\"default\":\"primary\"},{\"name\":\"status\",\"kind\":\"Any\",\"default\":\"normalized\"}]},{\"type\":\"model\",\"name\":\"GridStack1\",\"properties\":[{\"name\":\"mode\",\"kind\":\"Any\",\"default\":\"warn\"},{\"name\":\"ncols\",\"kind\":\"Any\",\"default\":null},{\"name\":\"nrows\",\"kind\":\"Any\",\"default\":null},{\"name\":\"allow_resize\",\"kind\":\"Any\",\"default\":true},{\"name\":\"allow_drag\",\"kind\":\"Any\",\"default\":true},{\"name\":\"state\",\"kind\":\"Any\",\"default\":[]}]},{\"type\":\"model\",\"name\":\"drag1\",\"properties\":[{\"name\":\"slider_width\",\"kind\":\"Any\",\"default\":5},{\"name\":\"slider_color\",\"kind\":\"Any\",\"default\":\"black\"},{\"name\":\"value\",\"kind\":\"Any\",\"default\":50}]},{\"type\":\"model\",\"name\":\"click1\",\"properties\":[{\"name\":\"terminal_output\",\"kind\":\"Any\",\"default\":\"\"},{\"name\":\"debug_name\",\"kind\":\"Any\",\"default\":\"\"},{\"name\":\"clears\",\"kind\":\"Any\",\"default\":0}]},{\"type\":\"model\",\"name\":\"FastWrapper1\",\"properties\":[{\"name\":\"object\",\"kind\":\"Any\",\"default\":null},{\"name\":\"style\",\"kind\":\"Any\",\"default\":null}]},{\"type\":\"model\",\"name\":\"NotificationAreaBase1\",\"properties\":[{\"name\":\"js_events\",\"kind\":\"Any\",\"default\":{\"type\":\"map\"}},{\"name\":\"position\",\"kind\":\"Any\",\"default\":\"bottom-right\"},{\"name\":\"_clear\",\"kind\":\"Any\",\"default\":0}]},{\"type\":\"model\",\"name\":\"NotificationArea1\",\"properties\":[{\"name\":\"js_events\",\"kind\":\"Any\",\"default\":{\"type\":\"map\"}},{\"name\":\"notifications\",\"kind\":\"Any\",\"default\":[]},{\"name\":\"position\",\"kind\":\"Any\",\"default\":\"bottom-right\"},{\"name\":\"_clear\",\"kind\":\"Any\",\"default\":0},{\"name\":\"types\",\"kind\":\"Any\",\"default\":[{\"type\":\"map\",\"entries\":[[\"type\",\"warning\"],[\"background\",\"#ffc107\"],[\"icon\",{\"type\":\"map\",\"entries\":[[\"className\",\"fas fa-exclamation-triangle\"],[\"tagName\",\"i\"],[\"color\",\"white\"]]}]]},{\"type\":\"map\",\"entries\":[[\"type\",\"info\"],[\"background\",\"#007bff\"],[\"icon\",{\"type\":\"map\",\"entries\":[[\"className\",\"fas fa-info-circle\"],[\"tagName\",\"i\"],[\"color\",\"white\"]]}]]}]}]},{\"type\":\"model\",\"name\":\"Notification\",\"properties\":[{\"name\":\"background\",\"kind\":\"Any\",\"default\":null},{\"name\":\"duration\",\"kind\":\"Any\",\"default\":3000},{\"name\":\"icon\",\"kind\":\"Any\",\"default\":null},{\"name\":\"message\",\"kind\":\"Any\",\"default\":\"\"},{\"name\":\"notification_type\",\"kind\":\"Any\",\"default\":null},{\"name\":\"_destroyed\",\"kind\":\"Any\",\"default\":false}]},{\"type\":\"model\",\"name\":\"TemplateActions1\",\"properties\":[{\"name\":\"open_modal\",\"kind\":\"Any\",\"default\":0},{\"name\":\"close_modal\",\"kind\":\"Any\",\"default\":0}]},{\"type\":\"model\",\"name\":\"BootstrapTemplateActions1\",\"properties\":[{\"name\":\"open_modal\",\"kind\":\"Any\",\"default\":0},{\"name\":\"close_modal\",\"kind\":\"Any\",\"default\":0}]},{\"type\":\"model\",\"name\":\"TemplateEditor1\",\"properties\":[{\"name\":\"layout\",\"kind\":\"Any\",\"default\":[]}]},{\"type\":\"model\",\"name\":\"MaterialTemplateActions1\",\"properties\":[{\"name\":\"open_modal\",\"kind\":\"Any\",\"default\":0},{\"name\":\"close_modal\",\"kind\":\"Any\",\"default\":0}]},{\"type\":\"model\",\"name\":\"ReactiveESM1\"},{\"type\":\"model\",\"name\":\"JSComponent1\"},{\"type\":\"model\",\"name\":\"ReactComponent1\"},{\"type\":\"model\",\"name\":\"AnyWidgetComponent1\"},{\"type\":\"model\",\"name\":\"request_value1\",\"properties\":[{\"name\":\"fill\",\"kind\":\"Any\",\"default\":\"none\"},{\"name\":\"_synced\",\"kind\":\"Any\",\"default\":null},{\"name\":\"_request_sync\",\"kind\":\"Any\",\"default\":0}]}]}};\n",
       "  var render_items = [{\"docid\":\"c137a065-6651-4ffd-b9c6-ef01277750bc\",\"roots\":{\"p1270\":\"d9c6b774-12e7-41a7-942c-301aba95e5b3\"},\"root_ids\":[\"p1270\"]}];\n",
       "  var docs = Object.values(docs_json)\n",
       "  if (!docs) {\n",
       "    return\n",
       "  }\n",
       "  const py_version = docs[0].version.replace('rc', '-rc.').replace('.dev', '-dev.')\n",
       "  async function embed_document(root) {\n",
       "    var Bokeh = get_bokeh(root)\n",
       "    await Bokeh.embed.embed_items_notebook(docs_json, render_items);\n",
       "    for (const render_item of render_items) {\n",
       "      for (const root_id of render_item.root_ids) {\n",
       "\tconst id_el = document.getElementById(root_id)\n",
       "\tif (id_el.children.length && id_el.children[0].hasAttribute('data-root-id')) {\n",
       "\t  const root_el = id_el.children[0]\n",
       "\t  root_el.id = root_el.id + '-rendered'\n",
       "\t  for (const child of root_el.children) {\n",
       "            // Ensure JupyterLab does not capture keyboard shortcuts\n",
       "            // see: https://jupyterlab.readthedocs.io/en/4.1.x/extension/notebook.html#keyboard-interaction-model\n",
       "\t    child.setAttribute('data-lm-suppress-shortcuts', 'true')\n",
       "\t  }\n",
       "\t}\n",
       "      }\n",
       "    }\n",
       "  }\n",
       "  function get_bokeh(root) {\n",
       "    if (root.Bokeh === undefined) {\n",
       "      return null\n",
       "    } else if (root.Bokeh.version !== py_version) {\n",
       "      if (root.Bokeh.versions === undefined || !root.Bokeh.versions.has(py_version)) {\n",
       "\treturn null\n",
       "      }\n",
       "      return root.Bokeh.versions.get(py_version);\n",
       "    } else if (root.Bokeh.version === py_version) {\n",
       "      return root.Bokeh\n",
       "    }\n",
       "    return null\n",
       "  }\n",
       "  function is_loaded(root) {\n",
       "    var Bokeh = get_bokeh(root)\n",
       "    return (Bokeh != null && Bokeh.Panel !== undefined)\n",
       "  }\n",
       "  if (is_loaded(root)) {\n",
       "    embed_document(root);\n",
       "  } else {\n",
       "    var attempts = 0;\n",
       "    var timer = setInterval(function(root) {\n",
       "      if (is_loaded(root)) {\n",
       "        clearInterval(timer);\n",
       "        embed_document(root);\n",
       "      } else if (document.readyState == \"complete\") {\n",
       "        attempts++;\n",
       "        if (attempts > 200) {\n",
       "          clearInterval(timer);\n",
       "\t  var Bokeh = get_bokeh(root)\n",
       "\t  if (Bokeh == null || Bokeh.Panel == null) {\n",
       "            console.warn(\"Panel: ERROR: Unable to run Panel code because Bokeh or Panel library is missing\");\n",
       "\t  } else {\n",
       "\t    console.warn(\"Panel: WARNING: Attempting to render but not all required libraries could be resolved.\")\n",
       "\t    embed_document(root)\n",
       "\t  }\n",
       "        }\n",
       "      }\n",
       "    }, 25, root)\n",
       "  }\n",
       "})(window);</script>"
      ]
     },
     "metadata": {
      "application/vnd.holoviews_exec.v0+json": {
       "id": "p1270"
      }
     },
     "output_type": "display_data"
    }
   ],
   "source": [
    "#Dependencies \n",
    "\n",
    "from census import Census\n",
    "import hvplot.pandas\n",
    "import pandas as pd\n",
    "import requests\n",
    "import time\n",
    "from scipy.stats import linregress\n",
    "from matplotlib import pyplot as plt\n",
    "import csv\n",
    "from config import census_key\n",
    "import geopandas as gpd"
   ]
  },
  {
   "cell_type": "code",
   "execution_count": 69,
   "id": "f9e44a6c-b8e0-460e-9278-e96d6371cb44",
   "metadata": {},
   "outputs": [
    {
     "data": {
      "text/html": [
       "<div>\n",
       "<style scoped>\n",
       "    .dataframe tbody tr th:only-of-type {\n",
       "        vertical-align: middle;\n",
       "    }\n",
       "\n",
       "    .dataframe tbody tr th {\n",
       "        vertical-align: top;\n",
       "    }\n",
       "\n",
       "    .dataframe thead th {\n",
       "        text-align: right;\n",
       "    }\n",
       "</style>\n",
       "<table border=\"1\" class=\"dataframe\">\n",
       "  <thead>\n",
       "    <tr style=\"text-align: right;\">\n",
       "      <th></th>\n",
       "      <th>Name</th>\n",
       "      <th>State</th>\n",
       "      <th>Zip Code</th>\n",
       "    </tr>\n",
       "  </thead>\n",
       "  <tbody>\n",
       "    <tr>\n",
       "      <th>0</th>\n",
       "      <td>Fort Novosel</td>\n",
       "      <td>AL</td>\n",
       "      <td>36362</td>\n",
       "    </tr>\n",
       "    <tr>\n",
       "      <th>1</th>\n",
       "      <td>Fort Huachuca</td>\n",
       "      <td>AZ</td>\n",
       "      <td>85613</td>\n",
       "    </tr>\n",
       "    <tr>\n",
       "      <th>2</th>\n",
       "      <td>Fort Irwin</td>\n",
       "      <td>CA</td>\n",
       "      <td>92310</td>\n",
       "    </tr>\n",
       "    <tr>\n",
       "      <th>3</th>\n",
       "      <td>Fort Carson</td>\n",
       "      <td>CO</td>\n",
       "      <td>80913</td>\n",
       "    </tr>\n",
       "    <tr>\n",
       "      <th>4</th>\n",
       "      <td>Fort Eisenhower</td>\n",
       "      <td>GA</td>\n",
       "      <td>30905</td>\n",
       "    </tr>\n",
       "    <tr>\n",
       "      <th>5</th>\n",
       "      <td>Fort Moore</td>\n",
       "      <td>GA</td>\n",
       "      <td>31905</td>\n",
       "    </tr>\n",
       "    <tr>\n",
       "      <th>6</th>\n",
       "      <td>Fort Stewart</td>\n",
       "      <td>GA</td>\n",
       "      <td>31313</td>\n",
       "    </tr>\n",
       "    <tr>\n",
       "      <th>7</th>\n",
       "      <td>Fort Leavenworth</td>\n",
       "      <td>KS</td>\n",
       "      <td>66027</td>\n",
       "    </tr>\n",
       "    <tr>\n",
       "      <th>8</th>\n",
       "      <td>Fort Riley</td>\n",
       "      <td>KS</td>\n",
       "      <td>66442</td>\n",
       "    </tr>\n",
       "    <tr>\n",
       "      <th>9</th>\n",
       "      <td>Fort Campbell</td>\n",
       "      <td>KY</td>\n",
       "      <td>42223</td>\n",
       "    </tr>\n",
       "    <tr>\n",
       "      <th>10</th>\n",
       "      <td>Fort Knox</td>\n",
       "      <td>KY</td>\n",
       "      <td>40121</td>\n",
       "    </tr>\n",
       "    <tr>\n",
       "      <th>11</th>\n",
       "      <td>Fort Johnson</td>\n",
       "      <td>LA</td>\n",
       "      <td>71459</td>\n",
       "    </tr>\n",
       "    <tr>\n",
       "      <th>12</th>\n",
       "      <td>Fort Detrick</td>\n",
       "      <td>MD</td>\n",
       "      <td>21702</td>\n",
       "    </tr>\n",
       "    <tr>\n",
       "      <th>13</th>\n",
       "      <td>Fort George G. Meade</td>\n",
       "      <td>MD</td>\n",
       "      <td>20755</td>\n",
       "    </tr>\n",
       "    <tr>\n",
       "      <th>14</th>\n",
       "      <td>Fort Leonard Wood</td>\n",
       "      <td>MO</td>\n",
       "      <td>65473</td>\n",
       "    </tr>\n",
       "    <tr>\n",
       "      <th>15</th>\n",
       "      <td>Fort Drum</td>\n",
       "      <td>NY</td>\n",
       "      <td>13602</td>\n",
       "    </tr>\n",
       "    <tr>\n",
       "      <th>16</th>\n",
       "      <td>Fort Hamilton</td>\n",
       "      <td>NY</td>\n",
       "      <td>11209</td>\n",
       "    </tr>\n",
       "    <tr>\n",
       "      <th>17</th>\n",
       "      <td>Fort Liberty</td>\n",
       "      <td>NC</td>\n",
       "      <td>28310</td>\n",
       "    </tr>\n",
       "    <tr>\n",
       "      <th>18</th>\n",
       "      <td>Fort Still</td>\n",
       "      <td>OK</td>\n",
       "      <td>73503</td>\n",
       "    </tr>\n",
       "    <tr>\n",
       "      <th>19</th>\n",
       "      <td>Fort Jackson</td>\n",
       "      <td>SC</td>\n",
       "      <td>29207</td>\n",
       "    </tr>\n",
       "    <tr>\n",
       "      <th>20</th>\n",
       "      <td>Fort Bliss</td>\n",
       "      <td>TX</td>\n",
       "      <td>79916</td>\n",
       "    </tr>\n",
       "    <tr>\n",
       "      <th>21</th>\n",
       "      <td>Fort Cavazos</td>\n",
       "      <td>TX</td>\n",
       "      <td>76544</td>\n",
       "    </tr>\n",
       "    <tr>\n",
       "      <th>22</th>\n",
       "      <td>Fort Belvoir</td>\n",
       "      <td>VA</td>\n",
       "      <td>22060</td>\n",
       "    </tr>\n",
       "    <tr>\n",
       "      <th>23</th>\n",
       "      <td>Fort Gregg-Adams</td>\n",
       "      <td>VA</td>\n",
       "      <td>23801</td>\n",
       "    </tr>\n",
       "    <tr>\n",
       "      <th>24</th>\n",
       "      <td>Fort Meyer</td>\n",
       "      <td>VA</td>\n",
       "      <td>22211</td>\n",
       "    </tr>\n",
       "    <tr>\n",
       "      <th>25</th>\n",
       "      <td>Joint Base Lewis-McChord</td>\n",
       "      <td>WA</td>\n",
       "      <td>98433</td>\n",
       "    </tr>\n",
       "    <tr>\n",
       "      <th>26</th>\n",
       "      <td>Fort McCoy</td>\n",
       "      <td>WI</td>\n",
       "      <td>54656</td>\n",
       "    </tr>\n",
       "  </tbody>\n",
       "</table>\n",
       "</div>"
      ],
      "text/plain": [
       "                        Name State  Zip Code\n",
       "0               Fort Novosel    AL     36362\n",
       "1              Fort Huachuca    AZ     85613\n",
       "2                 Fort Irwin    CA     92310\n",
       "3                Fort Carson    CO     80913\n",
       "4            Fort Eisenhower    GA     30905\n",
       "5                 Fort Moore    GA     31905\n",
       "6               Fort Stewart    GA     31313\n",
       "7           Fort Leavenworth    KS     66027\n",
       "8                 Fort Riley    KS     66442\n",
       "9              Fort Campbell    KY     42223\n",
       "10                 Fort Knox    KY     40121\n",
       "11              Fort Johnson    LA     71459\n",
       "12              Fort Detrick    MD     21702\n",
       "13      Fort George G. Meade    MD     20755\n",
       "14         Fort Leonard Wood    MO     65473\n",
       "15                 Fort Drum    NY     13602\n",
       "16             Fort Hamilton    NY     11209\n",
       "17              Fort Liberty    NC     28310\n",
       "18                Fort Still    OK     73503\n",
       "19              Fort Jackson    SC     29207\n",
       "20                Fort Bliss    TX     79916\n",
       "21              Fort Cavazos    TX     76544\n",
       "22              Fort Belvoir    VA     22060\n",
       "23          Fort Gregg-Adams    VA     23801\n",
       "24                Fort Meyer    VA     22211\n",
       "25  Joint Base Lewis-McChord    WA     98433\n",
       "26                Fort McCoy    WI     54656"
      ]
     },
     "execution_count": 69,
     "metadata": {},
     "output_type": "execute_result"
    }
   ],
   "source": [
    "#import fort_state_zip.csv\n",
    "fort_data =pd.read_csv('fort_state_zip.csv')\n",
    "fort_data"
   ]
  },
  {
   "cell_type": "code",
   "execution_count": 70,
   "id": "4b7d0982-eacb-4529-9d07-09d0c8f8b905",
   "metadata": {},
   "outputs": [
    {
     "data": {
      "text/html": [
       "<div>\n",
       "<style scoped>\n",
       "    .dataframe tbody tr th:only-of-type {\n",
       "        vertical-align: middle;\n",
       "    }\n",
       "\n",
       "    .dataframe tbody tr th {\n",
       "        vertical-align: top;\n",
       "    }\n",
       "\n",
       "    .dataframe thead th {\n",
       "        text-align: right;\n",
       "    }\n",
       "</style>\n",
       "<table border=\"1\" class=\"dataframe\">\n",
       "  <thead>\n",
       "    <tr style=\"text-align: right;\">\n",
       "      <th></th>\n",
       "      <th>Name</th>\n",
       "      <th>State</th>\n",
       "      <th>Zip Code</th>\n",
       "      <th>Nearest City</th>\n",
       "      <th>City Zipcode</th>\n",
       "    </tr>\n",
       "  </thead>\n",
       "  <tbody>\n",
       "    <tr>\n",
       "      <th>0</th>\n",
       "      <td>Fort Novosel</td>\n",
       "      <td>AL</td>\n",
       "      <td>36362</td>\n",
       "      <td>Donthan</td>\n",
       "      <td>36301</td>\n",
       "    </tr>\n",
       "    <tr>\n",
       "      <th>1</th>\n",
       "      <td>Fort Huachuca</td>\n",
       "      <td>AZ</td>\n",
       "      <td>85613</td>\n",
       "      <td>Sierra Vista</td>\n",
       "      <td>85635</td>\n",
       "    </tr>\n",
       "    <tr>\n",
       "      <th>2</th>\n",
       "      <td>Fort Irwin</td>\n",
       "      <td>CA</td>\n",
       "      <td>92310</td>\n",
       "      <td>barstow</td>\n",
       "      <td>92311</td>\n",
       "    </tr>\n",
       "    <tr>\n",
       "      <th>3</th>\n",
       "      <td>Fort Carson</td>\n",
       "      <td>CO</td>\n",
       "      <td>80913</td>\n",
       "      <td>Colorado Springs</td>\n",
       "      <td>80903</td>\n",
       "    </tr>\n",
       "    <tr>\n",
       "      <th>4</th>\n",
       "      <td>Fort Eisenhower</td>\n",
       "      <td>GA</td>\n",
       "      <td>30905</td>\n",
       "      <td>Agusta</td>\n",
       "      <td>30904</td>\n",
       "    </tr>\n",
       "    <tr>\n",
       "      <th>5</th>\n",
       "      <td>Fort Moore</td>\n",
       "      <td>GA</td>\n",
       "      <td>31905</td>\n",
       "      <td>Columbus</td>\n",
       "      <td>31901</td>\n",
       "    </tr>\n",
       "    <tr>\n",
       "      <th>6</th>\n",
       "      <td>Fort Stewart</td>\n",
       "      <td>GA</td>\n",
       "      <td>31313</td>\n",
       "      <td>Hinesville</td>\n",
       "      <td>31313</td>\n",
       "    </tr>\n",
       "    <tr>\n",
       "      <th>7</th>\n",
       "      <td>Fort Leavenworth</td>\n",
       "      <td>KS</td>\n",
       "      <td>66027</td>\n",
       "      <td>Leavenworth</td>\n",
       "      <td>66048</td>\n",
       "    </tr>\n",
       "    <tr>\n",
       "      <th>8</th>\n",
       "      <td>Fort Riley</td>\n",
       "      <td>KS</td>\n",
       "      <td>66442</td>\n",
       "      <td>Manhattan</td>\n",
       "      <td>66502</td>\n",
       "    </tr>\n",
       "    <tr>\n",
       "      <th>9</th>\n",
       "      <td>Fort Campbell</td>\n",
       "      <td>KY</td>\n",
       "      <td>42223</td>\n",
       "      <td>Clarksville</td>\n",
       "      <td>37040</td>\n",
       "    </tr>\n",
       "    <tr>\n",
       "      <th>10</th>\n",
       "      <td>Fort Knox</td>\n",
       "      <td>KY</td>\n",
       "      <td>40121</td>\n",
       "      <td>Elizabethtown</td>\n",
       "      <td>42701</td>\n",
       "    </tr>\n",
       "    <tr>\n",
       "      <th>11</th>\n",
       "      <td>Fort Johnson</td>\n",
       "      <td>LA</td>\n",
       "      <td>71459</td>\n",
       "      <td>Leesville</td>\n",
       "      <td>71446</td>\n",
       "    </tr>\n",
       "    <tr>\n",
       "      <th>12</th>\n",
       "      <td>Fort Detrick</td>\n",
       "      <td>MD</td>\n",
       "      <td>21702</td>\n",
       "      <td>Frederick</td>\n",
       "      <td>21701</td>\n",
       "    </tr>\n",
       "    <tr>\n",
       "      <th>13</th>\n",
       "      <td>Fort George G. Meade</td>\n",
       "      <td>MD</td>\n",
       "      <td>20755</td>\n",
       "      <td>Odenton</td>\n",
       "      <td>21113</td>\n",
       "    </tr>\n",
       "    <tr>\n",
       "      <th>14</th>\n",
       "      <td>Fort Leonard Wood</td>\n",
       "      <td>MO</td>\n",
       "      <td>65473</td>\n",
       "      <td>Waynesville</td>\n",
       "      <td>65583</td>\n",
       "    </tr>\n",
       "    <tr>\n",
       "      <th>15</th>\n",
       "      <td>Fort Drum</td>\n",
       "      <td>NY</td>\n",
       "      <td>13602</td>\n",
       "      <td>Watertown</td>\n",
       "      <td>13601</td>\n",
       "    </tr>\n",
       "    <tr>\n",
       "      <th>16</th>\n",
       "      <td>Fort Hamilton</td>\n",
       "      <td>NY</td>\n",
       "      <td>11209</td>\n",
       "      <td>New York City</td>\n",
       "      <td>11209</td>\n",
       "    </tr>\n",
       "    <tr>\n",
       "      <th>17</th>\n",
       "      <td>Fort Liberty</td>\n",
       "      <td>NC</td>\n",
       "      <td>28310</td>\n",
       "      <td>Fayetteville</td>\n",
       "      <td>28301</td>\n",
       "    </tr>\n",
       "    <tr>\n",
       "      <th>18</th>\n",
       "      <td>Fort Still</td>\n",
       "      <td>OK</td>\n",
       "      <td>73503</td>\n",
       "      <td>Lawton</td>\n",
       "      <td>73501</td>\n",
       "    </tr>\n",
       "    <tr>\n",
       "      <th>19</th>\n",
       "      <td>Fort Jackson</td>\n",
       "      <td>SC</td>\n",
       "      <td>29207</td>\n",
       "      <td>Columbia</td>\n",
       "      <td>29201</td>\n",
       "    </tr>\n",
       "    <tr>\n",
       "      <th>20</th>\n",
       "      <td>Fort Bliss</td>\n",
       "      <td>TX</td>\n",
       "      <td>79916</td>\n",
       "      <td>El Paso</td>\n",
       "      <td>79901</td>\n",
       "    </tr>\n",
       "    <tr>\n",
       "      <th>21</th>\n",
       "      <td>Fort Cavazos</td>\n",
       "      <td>TX</td>\n",
       "      <td>76544</td>\n",
       "      <td>Killeen</td>\n",
       "      <td>76541</td>\n",
       "    </tr>\n",
       "    <tr>\n",
       "      <th>22</th>\n",
       "      <td>Fort Belvoir</td>\n",
       "      <td>VA</td>\n",
       "      <td>22060</td>\n",
       "      <td>Alexandria</td>\n",
       "      <td>22301</td>\n",
       "    </tr>\n",
       "    <tr>\n",
       "      <th>23</th>\n",
       "      <td>Fort Gregg-Adams</td>\n",
       "      <td>VA</td>\n",
       "      <td>23801</td>\n",
       "      <td>Petersburg</td>\n",
       "      <td>23803</td>\n",
       "    </tr>\n",
       "    <tr>\n",
       "      <th>24</th>\n",
       "      <td>Fort Meyer</td>\n",
       "      <td>VA</td>\n",
       "      <td>22211</td>\n",
       "      <td>Arlington</td>\n",
       "      <td>22201</td>\n",
       "    </tr>\n",
       "    <tr>\n",
       "      <th>25</th>\n",
       "      <td>Joint Base Lewis-McChord</td>\n",
       "      <td>WA</td>\n",
       "      <td>98433</td>\n",
       "      <td>Tacoma</td>\n",
       "      <td>98402</td>\n",
       "    </tr>\n",
       "    <tr>\n",
       "      <th>26</th>\n",
       "      <td>Fort McCoy</td>\n",
       "      <td>WI</td>\n",
       "      <td>54656</td>\n",
       "      <td>Sparta</td>\n",
       "      <td>54656</td>\n",
       "    </tr>\n",
       "  </tbody>\n",
       "</table>\n",
       "</div>"
      ],
      "text/plain": [
       "                        Name State  Zip Code      Nearest City  City Zipcode\n",
       "0               Fort Novosel    AL     36362           Donthan         36301\n",
       "1              Fort Huachuca    AZ     85613      Sierra Vista         85635\n",
       "2                 Fort Irwin    CA     92310           barstow         92311\n",
       "3                Fort Carson    CO     80913  Colorado Springs         80903\n",
       "4            Fort Eisenhower    GA     30905            Agusta         30904\n",
       "5                 Fort Moore    GA     31905          Columbus         31901\n",
       "6               Fort Stewart    GA     31313        Hinesville         31313\n",
       "7           Fort Leavenworth    KS     66027       Leavenworth         66048\n",
       "8                 Fort Riley    KS     66442         Manhattan         66502\n",
       "9              Fort Campbell    KY     42223       Clarksville         37040\n",
       "10                 Fort Knox    KY     40121     Elizabethtown         42701\n",
       "11              Fort Johnson    LA     71459         Leesville         71446\n",
       "12              Fort Detrick    MD     21702         Frederick         21701\n",
       "13      Fort George G. Meade    MD     20755           Odenton         21113\n",
       "14         Fort Leonard Wood    MO     65473       Waynesville         65583\n",
       "15                 Fort Drum    NY     13602         Watertown         13601\n",
       "16             Fort Hamilton    NY     11209     New York City         11209\n",
       "17              Fort Liberty    NC     28310      Fayetteville         28301\n",
       "18                Fort Still    OK     73503            Lawton         73501\n",
       "19              Fort Jackson    SC     29207          Columbia         29201\n",
       "20                Fort Bliss    TX     79916           El Paso         79901\n",
       "21              Fort Cavazos    TX     76544           Killeen         76541\n",
       "22              Fort Belvoir    VA     22060        Alexandria         22301\n",
       "23          Fort Gregg-Adams    VA     23801        Petersburg         23803\n",
       "24                Fort Meyer    VA     22211         Arlington         22201\n",
       "25  Joint Base Lewis-McChord    WA     98433            Tacoma         98402\n",
       "26                Fort McCoy    WI     54656            Sparta         54656"
      ]
     },
     "execution_count": 70,
     "metadata": {},
     "output_type": "execute_result"
    }
   ],
   "source": [
    "fort_data[\"Nearest City\"] = [\"Donthan\",\n",
    "                             \"Sierra Vista\", \n",
    "                             \"barstow\",\n",
    "                             \"Colorado Springs\",\n",
    "                             \"Agusta\",\n",
    "                             \"Columbus\",\n",
    "                             \"Hinesville\",\n",
    "                             \"Leavenworth\",\n",
    "                             \"Manhattan\",\n",
    "                             \"Clarksville\",\n",
    "                             \"Elizabethtown\",\n",
    "                             \"Leesville\",\n",
    "                             \"Frederick\",\n",
    "                             \"Odenton\",\n",
    "                             \"Waynesville\",\n",
    "                             \"Watertown\",\n",
    "                             \"New York City\",\n",
    "                             \"Fayetteville\",\n",
    "                             \"Lawton\",\n",
    "                             \"Columbia\",\n",
    "                             \"El Paso\",\n",
    "                             \"Killeen\",\n",
    "                             \"Alexandria\",\n",
    "                             \"Petersburg\",\n",
    "                             \"Arlington\",\n",
    "                             \"Tacoma\",\n",
    "                             \"Sparta\"]\n",
    "fort_data[\"City Zipcode\"] = [36301,\n",
    "                             85635,\n",
    "                             92311,\n",
    "                             80903,\n",
    "                             30904,\n",
    "                             31901,\n",
    "                             31313,\n",
    "                             66048,\n",
    "                             66502,\n",
    "                             37040,\n",
    "                             42701,\n",
    "                             71446,\n",
    "                             21701,\n",
    "                             21113,\n",
    "                             65583,\n",
    "                             13601,\n",
    "                             11209,\n",
    "                             28301,\n",
    "                             73501,\n",
    "                             29201,\n",
    "                             79901,\n",
    "                             76541,\n",
    "                             22301,\n",
    "                             23803,\n",
    "                             22201,\n",
    "                             98402,\n",
    "                             54656]\n",
    "                        \n",
    "                             \n",
    "\n",
    "fort_data                      "
   ]
  },
  {
   "cell_type": "code",
   "execution_count": 71,
   "id": "7c435b57-2e5a-4ef3-a1ef-c5937a829e01",
   "metadata": {},
   "outputs": [
    {
     "name": "stdout",
     "output_type": "stream",
     "text": [
      "Number of rows in the DataFrame: 27\n"
     ]
    },
    {
     "data": {
      "text/html": [
       "<div>\n",
       "<style scoped>\n",
       "    .dataframe tbody tr th:only-of-type {\n",
       "        vertical-align: middle;\n",
       "    }\n",
       "\n",
       "    .dataframe tbody tr th {\n",
       "        vertical-align: top;\n",
       "    }\n",
       "\n",
       "    .dataframe thead th {\n",
       "        text-align: right;\n",
       "    }\n",
       "</style>\n",
       "<table border=\"1\" class=\"dataframe\">\n",
       "  <thead>\n",
       "    <tr style=\"text-align: right;\">\n",
       "      <th></th>\n",
       "      <th>Name</th>\n",
       "      <th>Household Income</th>\n",
       "      <th>Population</th>\n",
       "      <th>Per Capita Income</th>\n",
       "      <th>Poverty Count</th>\n",
       "      <th>Zipcode</th>\n",
       "    </tr>\n",
       "  </thead>\n",
       "  <tbody>\n",
       "    <tr>\n",
       "      <th>0</th>\n",
       "      <td>ZCTA5 36301</td>\n",
       "      <td>43054.0</td>\n",
       "      <td>37699.0</td>\n",
       "      <td>26609.0</td>\n",
       "      <td>8151.0</td>\n",
       "      <td>36301</td>\n",
       "    </tr>\n",
       "    <tr>\n",
       "      <th>1</th>\n",
       "      <td>ZCTA5 85635</td>\n",
       "      <td>57689.0</td>\n",
       "      <td>35167.0</td>\n",
       "      <td>33603.0</td>\n",
       "      <td>4736.0</td>\n",
       "      <td>85635</td>\n",
       "    </tr>\n",
       "    <tr>\n",
       "      <th>2</th>\n",
       "      <td>ZCTA5 92311</td>\n",
       "      <td>49919.0</td>\n",
       "      <td>34204.0</td>\n",
       "      <td>23139.0</td>\n",
       "      <td>9158.0</td>\n",
       "      <td>92311</td>\n",
       "    </tr>\n",
       "    <tr>\n",
       "      <th>3</th>\n",
       "      <td>ZCTA5 80903</td>\n",
       "      <td>52963.0</td>\n",
       "      <td>16844.0</td>\n",
       "      <td>35579.0</td>\n",
       "      <td>2632.0</td>\n",
       "      <td>80903</td>\n",
       "    </tr>\n",
       "    <tr>\n",
       "      <th>4</th>\n",
       "      <td>ZCTA5 30904</td>\n",
       "      <td>39026.0</td>\n",
       "      <td>27125.0</td>\n",
       "      <td>26367.0</td>\n",
       "      <td>7162.0</td>\n",
       "      <td>30904</td>\n",
       "    </tr>\n",
       "    <tr>\n",
       "      <th>5</th>\n",
       "      <td>ZCTA5 31901</td>\n",
       "      <td>34578.0</td>\n",
       "      <td>5728.0</td>\n",
       "      <td>27625.0</td>\n",
       "      <td>1496.0</td>\n",
       "      <td>31901</td>\n",
       "    </tr>\n",
       "    <tr>\n",
       "      <th>6</th>\n",
       "      <td>ZCTA5 31313</td>\n",
       "      <td>50526.0</td>\n",
       "      <td>41967.0</td>\n",
       "      <td>23524.0</td>\n",
       "      <td>7361.0</td>\n",
       "      <td>31313</td>\n",
       "    </tr>\n",
       "    <tr>\n",
       "      <th>7</th>\n",
       "      <td>ZCTA5 66048</td>\n",
       "      <td>63541.0</td>\n",
       "      <td>36185.0</td>\n",
       "      <td>35133.0</td>\n",
       "      <td>3962.0</td>\n",
       "      <td>66048</td>\n",
       "    </tr>\n",
       "    <tr>\n",
       "      <th>8</th>\n",
       "      <td>ZCTA5 66502</td>\n",
       "      <td>48238.0</td>\n",
       "      <td>44789.0</td>\n",
       "      <td>26614.0</td>\n",
       "      <td>12415.0</td>\n",
       "      <td>66502</td>\n",
       "    </tr>\n",
       "    <tr>\n",
       "      <th>9</th>\n",
       "      <td>ZCTA5 37040</td>\n",
       "      <td>58229.0</td>\n",
       "      <td>58490.0</td>\n",
       "      <td>27408.0</td>\n",
       "      <td>9679.0</td>\n",
       "      <td>37040</td>\n",
       "    </tr>\n",
       "    <tr>\n",
       "      <th>10</th>\n",
       "      <td>ZCTA5 42701</td>\n",
       "      <td>62713.0</td>\n",
       "      <td>52279.0</td>\n",
       "      <td>36074.0</td>\n",
       "      <td>4860.0</td>\n",
       "      <td>42701</td>\n",
       "    </tr>\n",
       "    <tr>\n",
       "      <th>11</th>\n",
       "      <td>ZCTA5 71446</td>\n",
       "      <td>53012.0</td>\n",
       "      <td>21469.0</td>\n",
       "      <td>26423.0</td>\n",
       "      <td>4014.0</td>\n",
       "      <td>71446</td>\n",
       "    </tr>\n",
       "    <tr>\n",
       "      <th>12</th>\n",
       "      <td>ZCTA5 21701</td>\n",
       "      <td>90531.0</td>\n",
       "      <td>40203.0</td>\n",
       "      <td>47541.0</td>\n",
       "      <td>3200.0</td>\n",
       "      <td>21701</td>\n",
       "    </tr>\n",
       "    <tr>\n",
       "      <th>13</th>\n",
       "      <td>ZCTA5 21113</td>\n",
       "      <td>103099.0</td>\n",
       "      <td>35242.0</td>\n",
       "      <td>50390.0</td>\n",
       "      <td>1747.0</td>\n",
       "      <td>21113</td>\n",
       "    </tr>\n",
       "    <tr>\n",
       "      <th>14</th>\n",
       "      <td>ZCTA5 65583</td>\n",
       "      <td>66613.0</td>\n",
       "      <td>13370.0</td>\n",
       "      <td>28737.0</td>\n",
       "      <td>2321.0</td>\n",
       "      <td>65583</td>\n",
       "    </tr>\n",
       "    <tr>\n",
       "      <th>15</th>\n",
       "      <td>ZCTA5 13601</td>\n",
       "      <td>53813.0</td>\n",
       "      <td>38695.0</td>\n",
       "      <td>30393.0</td>\n",
       "      <td>6376.0</td>\n",
       "      <td>13601</td>\n",
       "    </tr>\n",
       "    <tr>\n",
       "      <th>16</th>\n",
       "      <td>ZCTA5 11209</td>\n",
       "      <td>84145.0</td>\n",
       "      <td>72938.0</td>\n",
       "      <td>48419.0</td>\n",
       "      <td>7665.0</td>\n",
       "      <td>11209</td>\n",
       "    </tr>\n",
       "    <tr>\n",
       "      <th>17</th>\n",
       "      <td>ZCTA5 28301</td>\n",
       "      <td>30660.0</td>\n",
       "      <td>16365.0</td>\n",
       "      <td>19668.0</td>\n",
       "      <td>4915.0</td>\n",
       "      <td>28301</td>\n",
       "    </tr>\n",
       "    <tr>\n",
       "      <th>18</th>\n",
       "      <td>ZCTA5 73501</td>\n",
       "      <td>43987.0</td>\n",
       "      <td>20508.0</td>\n",
       "      <td>21699.0</td>\n",
       "      <td>4176.0</td>\n",
       "      <td>73501</td>\n",
       "    </tr>\n",
       "    <tr>\n",
       "      <th>19</th>\n",
       "      <td>ZCTA5 29201</td>\n",
       "      <td>32306.0</td>\n",
       "      <td>21176.0</td>\n",
       "      <td>25716.0</td>\n",
       "      <td>8927.0</td>\n",
       "      <td>29201</td>\n",
       "    </tr>\n",
       "    <tr>\n",
       "      <th>20</th>\n",
       "      <td>ZCTA5 79901</td>\n",
       "      <td>13510.0</td>\n",
       "      <td>8518.0</td>\n",
       "      <td>10948.0</td>\n",
       "      <td>4474.0</td>\n",
       "      <td>79901</td>\n",
       "    </tr>\n",
       "    <tr>\n",
       "      <th>21</th>\n",
       "      <td>ZCTA5 76541</td>\n",
       "      <td>31804.0</td>\n",
       "      <td>18521.0</td>\n",
       "      <td>20687.0</td>\n",
       "      <td>4680.0</td>\n",
       "      <td>76541</td>\n",
       "    </tr>\n",
       "    <tr>\n",
       "      <th>22</th>\n",
       "      <td>ZCTA5 22301</td>\n",
       "      <td>172594.0</td>\n",
       "      <td>14410.0</td>\n",
       "      <td>91321.0</td>\n",
       "      <td>490.0</td>\n",
       "      <td>22301</td>\n",
       "    </tr>\n",
       "    <tr>\n",
       "      <th>23</th>\n",
       "      <td>ZCTA5 23803</td>\n",
       "      <td>49302.0</td>\n",
       "      <td>41300.0</td>\n",
       "      <td>26265.0</td>\n",
       "      <td>7556.0</td>\n",
       "      <td>23803</td>\n",
       "    </tr>\n",
       "    <tr>\n",
       "      <th>24</th>\n",
       "      <td>ZCTA5 22201</td>\n",
       "      <td>133471.0</td>\n",
       "      <td>39240.0</td>\n",
       "      <td>86022.0</td>\n",
       "      <td>2499.0</td>\n",
       "      <td>22201</td>\n",
       "    </tr>\n",
       "    <tr>\n",
       "      <th>25</th>\n",
       "      <td>ZCTA5 98402</td>\n",
       "      <td>55250.0</td>\n",
       "      <td>6805.0</td>\n",
       "      <td>43726.0</td>\n",
       "      <td>1324.0</td>\n",
       "      <td>98402</td>\n",
       "    </tr>\n",
       "    <tr>\n",
       "      <th>26</th>\n",
       "      <td>ZCTA5 54656</td>\n",
       "      <td>63577.0</td>\n",
       "      <td>18115.0</td>\n",
       "      <td>31003.0</td>\n",
       "      <td>1682.0</td>\n",
       "      <td>54656</td>\n",
       "    </tr>\n",
       "  </tbody>\n",
       "</table>\n",
       "</div>"
      ],
      "text/plain": [
       "           Name  Household Income  Population  Per Capita Income  \\\n",
       "0   ZCTA5 36301           43054.0     37699.0            26609.0   \n",
       "1   ZCTA5 85635           57689.0     35167.0            33603.0   \n",
       "2   ZCTA5 92311           49919.0     34204.0            23139.0   \n",
       "3   ZCTA5 80903           52963.0     16844.0            35579.0   \n",
       "4   ZCTA5 30904           39026.0     27125.0            26367.0   \n",
       "5   ZCTA5 31901           34578.0      5728.0            27625.0   \n",
       "6   ZCTA5 31313           50526.0     41967.0            23524.0   \n",
       "7   ZCTA5 66048           63541.0     36185.0            35133.0   \n",
       "8   ZCTA5 66502           48238.0     44789.0            26614.0   \n",
       "9   ZCTA5 37040           58229.0     58490.0            27408.0   \n",
       "10  ZCTA5 42701           62713.0     52279.0            36074.0   \n",
       "11  ZCTA5 71446           53012.0     21469.0            26423.0   \n",
       "12  ZCTA5 21701           90531.0     40203.0            47541.0   \n",
       "13  ZCTA5 21113          103099.0     35242.0            50390.0   \n",
       "14  ZCTA5 65583           66613.0     13370.0            28737.0   \n",
       "15  ZCTA5 13601           53813.0     38695.0            30393.0   \n",
       "16  ZCTA5 11209           84145.0     72938.0            48419.0   \n",
       "17  ZCTA5 28301           30660.0     16365.0            19668.0   \n",
       "18  ZCTA5 73501           43987.0     20508.0            21699.0   \n",
       "19  ZCTA5 29201           32306.0     21176.0            25716.0   \n",
       "20  ZCTA5 79901           13510.0      8518.0            10948.0   \n",
       "21  ZCTA5 76541           31804.0     18521.0            20687.0   \n",
       "22  ZCTA5 22301          172594.0     14410.0            91321.0   \n",
       "23  ZCTA5 23803           49302.0     41300.0            26265.0   \n",
       "24  ZCTA5 22201          133471.0     39240.0            86022.0   \n",
       "25  ZCTA5 98402           55250.0      6805.0            43726.0   \n",
       "26  ZCTA5 54656           63577.0     18115.0            31003.0   \n",
       "\n",
       "    Poverty Count Zipcode  \n",
       "0          8151.0   36301  \n",
       "1          4736.0   85635  \n",
       "2          9158.0   92311  \n",
       "3          2632.0   80903  \n",
       "4          7162.0   30904  \n",
       "5          1496.0   31901  \n",
       "6          7361.0   31313  \n",
       "7          3962.0   66048  \n",
       "8         12415.0   66502  \n",
       "9          9679.0   37040  \n",
       "10         4860.0   42701  \n",
       "11         4014.0   71446  \n",
       "12         3200.0   21701  \n",
       "13         1747.0   21113  \n",
       "14         2321.0   65583  \n",
       "15         6376.0   13601  \n",
       "16         7665.0   11209  \n",
       "17         4915.0   28301  \n",
       "18         4176.0   73501  \n",
       "19         8927.0   29201  \n",
       "20         4474.0   79901  \n",
       "21         4680.0   76541  \n",
       "22          490.0   22301  \n",
       "23         7556.0   23803  \n",
       "24         2499.0   22201  \n",
       "25         1324.0   98402  \n",
       "26         1682.0   54656  "
      ]
     },
     "execution_count": 71,
     "metadata": {},
     "output_type": "execute_result"
    }
   ],
   "source": [
    "# Initialize Census with your API key\n",
    "census_key = \"cbc5dafcc66b3d11a52b9a7114bd19f59ae2d5da\"\n",
    "c = Census(census_key, year=2021)  # Try 2021 if 2023 is unsupported\n",
    "\n",
    "# Define your list of zip codes as strings\n",
    "fort_zips = fort_data['Zip Code'].astype(str).tolist()\n",
    "fort_names = fort_data['Name'].tolist()\n",
    "city_names = fort_data['Nearest City'].tolist()\n",
    "city_zips = fort_data['City Zipcode'].astype(str).tolist()\n",
    "\n",
    "# Run Census Search to retrieve data on all zip codes\n",
    "census_data = []\n",
    "for zip_code in city_zips:\n",
    "    try:\n",
    "        data = c.acs5.get(\n",
    "            (\n",
    "                \"NAME\",\n",
    "                \"B19013_001E\",  # Household Income\n",
    "                \"B01003_001E\",  # Population\n",
    "                \"B19301_001E\",  # Per Capita Income\n",
    "                \"B17001_002E\"   # Poverty Count\n",
    "            ),\n",
    "            {'for': f'zip code tabulation area:{zip_code}'}\n",
    "        )\n",
    "        census_data.extend(data)\n",
    "    except CensusException as e:\n",
    "        print(f\"Error retrieving data for zip code {zip_code}: {e}\")\n",
    "        continue\n",
    "\n",
    "# Convert to DataFrame\n",
    "census_pd = pd.DataFrame(census_data)\n",
    "\n",
    "# Column renaming\n",
    "census_pd = census_pd.rename(\n",
    "    columns={\n",
    "        \"B01003_001E\": \"Population\",\n",
    "        \"B19013_001E\": \"Household Income\",\n",
    "        \"B19301_001E\": \"Per Capita Income\",\n",
    "        \"B17001_002E\": \"Poverty Count\",\n",
    "        \"NAME\": \"Name\",\n",
    "        \"zip code tabulation area\": \"Zipcode\"\n",
    "    }\n",
    ")\n",
    "\n",
    "\n",
    "# Display DataFrame length and sample data\n",
    "print(f\"Number of rows in the DataFrame: {len(census_pd)}\")\n",
    "census_pd\n"
   ]
  },
  {
   "cell_type": "code",
   "execution_count": 72,
   "id": "b22a98b0-7801-461b-999d-cee638752be4",
   "metadata": {},
   "outputs": [
    {
     "data": {
      "text/html": [
       "<div>\n",
       "<style scoped>\n",
       "    .dataframe tbody tr th:only-of-type {\n",
       "        vertical-align: middle;\n",
       "    }\n",
       "\n",
       "    .dataframe tbody tr th {\n",
       "        vertical-align: top;\n",
       "    }\n",
       "\n",
       "    .dataframe thead th {\n",
       "        text-align: right;\n",
       "    }\n",
       "</style>\n",
       "<table border=\"1\" class=\"dataframe\">\n",
       "  <thead>\n",
       "    <tr style=\"text-align: right;\">\n",
       "      <th></th>\n",
       "      <th>Name</th>\n",
       "      <th>Nearest City</th>\n",
       "      <th>Zipcode</th>\n",
       "      <th>Population</th>\n",
       "      <th>Poverty Count</th>\n",
       "      <th>Household Income</th>\n",
       "      <th>Poverty Rate (%)</th>\n",
       "      <th>National Poverty Rate</th>\n",
       "      <th>Latitude</th>\n",
       "      <th>Longitude</th>\n",
       "    </tr>\n",
       "  </thead>\n",
       "  <tbody>\n",
       "    <tr>\n",
       "      <th>0</th>\n",
       "      <td>Fort Novosel</td>\n",
       "      <td>Donthan</td>\n",
       "      <td>36301</td>\n",
       "      <td>37699.0</td>\n",
       "      <td>8151.0</td>\n",
       "      <td>43054.0</td>\n",
       "      <td>21.621263</td>\n",
       "      <td>11.4</td>\n",
       "      <td>31.223000</td>\n",
       "      <td>-85.390500</td>\n",
       "    </tr>\n",
       "    <tr>\n",
       "      <th>1</th>\n",
       "      <td>Fort Huachuca</td>\n",
       "      <td>Sierra Vista</td>\n",
       "      <td>85635</td>\n",
       "      <td>35167.0</td>\n",
       "      <td>4736.0</td>\n",
       "      <td>57689.0</td>\n",
       "      <td>13.467171</td>\n",
       "      <td>11.4</td>\n",
       "      <td>31.545500</td>\n",
       "      <td>-110.277300</td>\n",
       "    </tr>\n",
       "    <tr>\n",
       "      <th>2</th>\n",
       "      <td>Fort Irwin</td>\n",
       "      <td>Barstow</td>\n",
       "      <td>92311</td>\n",
       "      <td>34204.0</td>\n",
       "      <td>9158.0</td>\n",
       "      <td>49919.0</td>\n",
       "      <td>26.774646</td>\n",
       "      <td>11.4</td>\n",
       "      <td>34.895800</td>\n",
       "      <td>-117.017300</td>\n",
       "    </tr>\n",
       "    <tr>\n",
       "      <th>3</th>\n",
       "      <td>Fort Carson</td>\n",
       "      <td>Colorado Springs</td>\n",
       "      <td>80903</td>\n",
       "      <td>16844.0</td>\n",
       "      <td>2632.0</td>\n",
       "      <td>52963.0</td>\n",
       "      <td>15.625742</td>\n",
       "      <td>11.4</td>\n",
       "      <td>38.833900</td>\n",
       "      <td>-104.821400</td>\n",
       "    </tr>\n",
       "    <tr>\n",
       "      <th>4</th>\n",
       "      <td>Fort Eisenhower</td>\n",
       "      <td>Agusta</td>\n",
       "      <td>30904</td>\n",
       "      <td>27125.0</td>\n",
       "      <td>7162.0</td>\n",
       "      <td>39026.0</td>\n",
       "      <td>26.403687</td>\n",
       "      <td>11.4</td>\n",
       "      <td>33.473500</td>\n",
       "      <td>-82.010500</td>\n",
       "    </tr>\n",
       "    <tr>\n",
       "      <th>5</th>\n",
       "      <td>Fort Moore</td>\n",
       "      <td>Columbus</td>\n",
       "      <td>31901</td>\n",
       "      <td>5728.0</td>\n",
       "      <td>1496.0</td>\n",
       "      <td>34578.0</td>\n",
       "      <td>26.117318</td>\n",
       "      <td>11.4</td>\n",
       "      <td>32.460976</td>\n",
       "      <td>-84.987709</td>\n",
       "    </tr>\n",
       "    <tr>\n",
       "      <th>6</th>\n",
       "      <td>Fort Stewart</td>\n",
       "      <td>Hinesville</td>\n",
       "      <td>31313</td>\n",
       "      <td>41967.0</td>\n",
       "      <td>7361.0</td>\n",
       "      <td>50526.0</td>\n",
       "      <td>17.539972</td>\n",
       "      <td>11.4</td>\n",
       "      <td>31.846900</td>\n",
       "      <td>-81.595900</td>\n",
       "    </tr>\n",
       "    <tr>\n",
       "      <th>7</th>\n",
       "      <td>Fort Leavenworth</td>\n",
       "      <td>Leavenworth</td>\n",
       "      <td>66048</td>\n",
       "      <td>36185.0</td>\n",
       "      <td>3962.0</td>\n",
       "      <td>63541.0</td>\n",
       "      <td>10.949288</td>\n",
       "      <td>11.4</td>\n",
       "      <td>39.311100</td>\n",
       "      <td>-94.922500</td>\n",
       "    </tr>\n",
       "    <tr>\n",
       "      <th>8</th>\n",
       "      <td>Fort Riley</td>\n",
       "      <td>Manhattan</td>\n",
       "      <td>66502</td>\n",
       "      <td>44789.0</td>\n",
       "      <td>12415.0</td>\n",
       "      <td>48238.0</td>\n",
       "      <td>27.718860</td>\n",
       "      <td>11.4</td>\n",
       "      <td>39.183600</td>\n",
       "      <td>-96.571700</td>\n",
       "    </tr>\n",
       "    <tr>\n",
       "      <th>9</th>\n",
       "      <td>Fort Campbell</td>\n",
       "      <td>Clarksville</td>\n",
       "      <td>37040</td>\n",
       "      <td>58490.0</td>\n",
       "      <td>9679.0</td>\n",
       "      <td>58229.0</td>\n",
       "      <td>16.548128</td>\n",
       "      <td>11.4</td>\n",
       "      <td>36.529800</td>\n",
       "      <td>-87.359500</td>\n",
       "    </tr>\n",
       "    <tr>\n",
       "      <th>10</th>\n",
       "      <td>Fort Knox</td>\n",
       "      <td>Elizabethtown</td>\n",
       "      <td>42701</td>\n",
       "      <td>52279.0</td>\n",
       "      <td>4860.0</td>\n",
       "      <td>62713.0</td>\n",
       "      <td>9.296276</td>\n",
       "      <td>11.4</td>\n",
       "      <td>37.697000</td>\n",
       "      <td>-85.859100</td>\n",
       "    </tr>\n",
       "    <tr>\n",
       "      <th>11</th>\n",
       "      <td>Fort Johnson</td>\n",
       "      <td>Leesville</td>\n",
       "      <td>71446</td>\n",
       "      <td>21469.0</td>\n",
       "      <td>4014.0</td>\n",
       "      <td>53012.0</td>\n",
       "      <td>18.696726</td>\n",
       "      <td>11.4</td>\n",
       "      <td>31.143200</td>\n",
       "      <td>-93.261500</td>\n",
       "    </tr>\n",
       "    <tr>\n",
       "      <th>12</th>\n",
       "      <td>Fort Detrick</td>\n",
       "      <td>Frederick</td>\n",
       "      <td>21701</td>\n",
       "      <td>40203.0</td>\n",
       "      <td>3200.0</td>\n",
       "      <td>90531.0</td>\n",
       "      <td>7.959605</td>\n",
       "      <td>11.4</td>\n",
       "      <td>39.414300</td>\n",
       "      <td>-77.410500</td>\n",
       "    </tr>\n",
       "    <tr>\n",
       "      <th>13</th>\n",
       "      <td>Fort George G. Meade</td>\n",
       "      <td>Odenton</td>\n",
       "      <td>21113</td>\n",
       "      <td>35242.0</td>\n",
       "      <td>1747.0</td>\n",
       "      <td>103099.0</td>\n",
       "      <td>4.957153</td>\n",
       "      <td>11.4</td>\n",
       "      <td>39.084000</td>\n",
       "      <td>-76.700300</td>\n",
       "    </tr>\n",
       "    <tr>\n",
       "      <th>14</th>\n",
       "      <td>Fort Leonard Wood</td>\n",
       "      <td>Waynesville</td>\n",
       "      <td>65583</td>\n",
       "      <td>13370.0</td>\n",
       "      <td>2321.0</td>\n",
       "      <td>66613.0</td>\n",
       "      <td>17.359761</td>\n",
       "      <td>11.4</td>\n",
       "      <td>37.825300</td>\n",
       "      <td>-92.200700</td>\n",
       "    </tr>\n",
       "    <tr>\n",
       "      <th>15</th>\n",
       "      <td>Fort Drum</td>\n",
       "      <td>Watertown</td>\n",
       "      <td>13601</td>\n",
       "      <td>38695.0</td>\n",
       "      <td>6376.0</td>\n",
       "      <td>53813.0</td>\n",
       "      <td>16.477581</td>\n",
       "      <td>11.4</td>\n",
       "      <td>44.008600</td>\n",
       "      <td>-75.727300</td>\n",
       "    </tr>\n",
       "    <tr>\n",
       "      <th>16</th>\n",
       "      <td>Fort Hamilton</td>\n",
       "      <td>New York City</td>\n",
       "      <td>11209</td>\n",
       "      <td>72938.0</td>\n",
       "      <td>7665.0</td>\n",
       "      <td>84145.0</td>\n",
       "      <td>10.508925</td>\n",
       "      <td>11.4</td>\n",
       "      <td>40.712800</td>\n",
       "      <td>-74.006000</td>\n",
       "    </tr>\n",
       "    <tr>\n",
       "      <th>17</th>\n",
       "      <td>Fort Liberty</td>\n",
       "      <td>Fayetteville</td>\n",
       "      <td>28301</td>\n",
       "      <td>16365.0</td>\n",
       "      <td>4915.0</td>\n",
       "      <td>30660.0</td>\n",
       "      <td>30.033608</td>\n",
       "      <td>11.4</td>\n",
       "      <td>35.052700</td>\n",
       "      <td>-78.878400</td>\n",
       "    </tr>\n",
       "    <tr>\n",
       "      <th>18</th>\n",
       "      <td>Fort Still</td>\n",
       "      <td>Lawton</td>\n",
       "      <td>73501</td>\n",
       "      <td>20508.0</td>\n",
       "      <td>4176.0</td>\n",
       "      <td>43987.0</td>\n",
       "      <td>20.362785</td>\n",
       "      <td>11.4</td>\n",
       "      <td>34.608700</td>\n",
       "      <td>-98.390300</td>\n",
       "    </tr>\n",
       "    <tr>\n",
       "      <th>19</th>\n",
       "      <td>Fort Jackson</td>\n",
       "      <td>Columbia</td>\n",
       "      <td>29201</td>\n",
       "      <td>21176.0</td>\n",
       "      <td>8927.0</td>\n",
       "      <td>32306.0</td>\n",
       "      <td>42.156215</td>\n",
       "      <td>11.4</td>\n",
       "      <td>34.000700</td>\n",
       "      <td>-81.034800</td>\n",
       "    </tr>\n",
       "    <tr>\n",
       "      <th>20</th>\n",
       "      <td>Fort Bliss</td>\n",
       "      <td>El Paso</td>\n",
       "      <td>79901</td>\n",
       "      <td>8518.0</td>\n",
       "      <td>4474.0</td>\n",
       "      <td>13510.0</td>\n",
       "      <td>52.524067</td>\n",
       "      <td>11.4</td>\n",
       "      <td>31.761900</td>\n",
       "      <td>-106.485000</td>\n",
       "    </tr>\n",
       "    <tr>\n",
       "      <th>21</th>\n",
       "      <td>Fort Cavazos</td>\n",
       "      <td>Killeen</td>\n",
       "      <td>76541</td>\n",
       "      <td>18521.0</td>\n",
       "      <td>4680.0</td>\n",
       "      <td>31804.0</td>\n",
       "      <td>25.268614</td>\n",
       "      <td>11.4</td>\n",
       "      <td>31.117100</td>\n",
       "      <td>-97.727800</td>\n",
       "    </tr>\n",
       "    <tr>\n",
       "      <th>22</th>\n",
       "      <td>Fort Belvoir</td>\n",
       "      <td>Alexandria</td>\n",
       "      <td>22301</td>\n",
       "      <td>14410.0</td>\n",
       "      <td>490.0</td>\n",
       "      <td>172594.0</td>\n",
       "      <td>3.400416</td>\n",
       "      <td>11.4</td>\n",
       "      <td>38.804800</td>\n",
       "      <td>-77.046900</td>\n",
       "    </tr>\n",
       "    <tr>\n",
       "      <th>23</th>\n",
       "      <td>Fort Gregg-Adams</td>\n",
       "      <td>Petersburg</td>\n",
       "      <td>23803</td>\n",
       "      <td>41300.0</td>\n",
       "      <td>7556.0</td>\n",
       "      <td>49302.0</td>\n",
       "      <td>18.295400</td>\n",
       "      <td>11.4</td>\n",
       "      <td>37.227900</td>\n",
       "      <td>-77.401900</td>\n",
       "    </tr>\n",
       "    <tr>\n",
       "      <th>24</th>\n",
       "      <td>Fort Meyer</td>\n",
       "      <td>Arlington</td>\n",
       "      <td>22201</td>\n",
       "      <td>39240.0</td>\n",
       "      <td>2499.0</td>\n",
       "      <td>133471.0</td>\n",
       "      <td>6.368502</td>\n",
       "      <td>11.4</td>\n",
       "      <td>38.881600</td>\n",
       "      <td>-77.091000</td>\n",
       "    </tr>\n",
       "    <tr>\n",
       "      <th>25</th>\n",
       "      <td>Joint Base Lewis-McChord</td>\n",
       "      <td>Tacoma</td>\n",
       "      <td>98402</td>\n",
       "      <td>6805.0</td>\n",
       "      <td>1324.0</td>\n",
       "      <td>55250.0</td>\n",
       "      <td>19.456282</td>\n",
       "      <td>11.4</td>\n",
       "      <td>47.252900</td>\n",
       "      <td>-122.444300</td>\n",
       "    </tr>\n",
       "    <tr>\n",
       "      <th>26</th>\n",
       "      <td>Fort McCoy</td>\n",
       "      <td>Sparta</td>\n",
       "      <td>54656</td>\n",
       "      <td>18115.0</td>\n",
       "      <td>1682.0</td>\n",
       "      <td>63577.0</td>\n",
       "      <td>9.285123</td>\n",
       "      <td>11.4</td>\n",
       "      <td>43.944400</td>\n",
       "      <td>-90.812300</td>\n",
       "    </tr>\n",
       "  </tbody>\n",
       "</table>\n",
       "</div>"
      ],
      "text/plain": [
       "                        Name      Nearest City Zipcode  Population  \\\n",
       "0               Fort Novosel           Donthan   36301     37699.0   \n",
       "1              Fort Huachuca      Sierra Vista   85635     35167.0   \n",
       "2                 Fort Irwin           Barstow   92311     34204.0   \n",
       "3                Fort Carson  Colorado Springs   80903     16844.0   \n",
       "4            Fort Eisenhower            Agusta   30904     27125.0   \n",
       "5                 Fort Moore          Columbus   31901      5728.0   \n",
       "6               Fort Stewart        Hinesville   31313     41967.0   \n",
       "7           Fort Leavenworth       Leavenworth   66048     36185.0   \n",
       "8                 Fort Riley         Manhattan   66502     44789.0   \n",
       "9              Fort Campbell       Clarksville   37040     58490.0   \n",
       "10                 Fort Knox     Elizabethtown   42701     52279.0   \n",
       "11              Fort Johnson         Leesville   71446     21469.0   \n",
       "12              Fort Detrick         Frederick   21701     40203.0   \n",
       "13      Fort George G. Meade           Odenton   21113     35242.0   \n",
       "14         Fort Leonard Wood       Waynesville   65583     13370.0   \n",
       "15                 Fort Drum         Watertown   13601     38695.0   \n",
       "16             Fort Hamilton     New York City   11209     72938.0   \n",
       "17              Fort Liberty      Fayetteville   28301     16365.0   \n",
       "18                Fort Still            Lawton   73501     20508.0   \n",
       "19              Fort Jackson          Columbia   29201     21176.0   \n",
       "20                Fort Bliss           El Paso   79901      8518.0   \n",
       "21              Fort Cavazos           Killeen   76541     18521.0   \n",
       "22              Fort Belvoir        Alexandria   22301     14410.0   \n",
       "23          Fort Gregg-Adams        Petersburg   23803     41300.0   \n",
       "24                Fort Meyer         Arlington   22201     39240.0   \n",
       "25  Joint Base Lewis-McChord            Tacoma   98402      6805.0   \n",
       "26                Fort McCoy            Sparta   54656     18115.0   \n",
       "\n",
       "    Poverty Count  Household Income  Poverty Rate (%)  National Poverty Rate  \\\n",
       "0          8151.0           43054.0         21.621263                   11.4   \n",
       "1          4736.0           57689.0         13.467171                   11.4   \n",
       "2          9158.0           49919.0         26.774646                   11.4   \n",
       "3          2632.0           52963.0         15.625742                   11.4   \n",
       "4          7162.0           39026.0         26.403687                   11.4   \n",
       "5          1496.0           34578.0         26.117318                   11.4   \n",
       "6          7361.0           50526.0         17.539972                   11.4   \n",
       "7          3962.0           63541.0         10.949288                   11.4   \n",
       "8         12415.0           48238.0         27.718860                   11.4   \n",
       "9          9679.0           58229.0         16.548128                   11.4   \n",
       "10         4860.0           62713.0          9.296276                   11.4   \n",
       "11         4014.0           53012.0         18.696726                   11.4   \n",
       "12         3200.0           90531.0          7.959605                   11.4   \n",
       "13         1747.0          103099.0          4.957153                   11.4   \n",
       "14         2321.0           66613.0         17.359761                   11.4   \n",
       "15         6376.0           53813.0         16.477581                   11.4   \n",
       "16         7665.0           84145.0         10.508925                   11.4   \n",
       "17         4915.0           30660.0         30.033608                   11.4   \n",
       "18         4176.0           43987.0         20.362785                   11.4   \n",
       "19         8927.0           32306.0         42.156215                   11.4   \n",
       "20         4474.0           13510.0         52.524067                   11.4   \n",
       "21         4680.0           31804.0         25.268614                   11.4   \n",
       "22          490.0          172594.0          3.400416                   11.4   \n",
       "23         7556.0           49302.0         18.295400                   11.4   \n",
       "24         2499.0          133471.0          6.368502                   11.4   \n",
       "25         1324.0           55250.0         19.456282                   11.4   \n",
       "26         1682.0           63577.0          9.285123                   11.4   \n",
       "\n",
       "     Latitude   Longitude  \n",
       "0   31.223000  -85.390500  \n",
       "1   31.545500 -110.277300  \n",
       "2   34.895800 -117.017300  \n",
       "3   38.833900 -104.821400  \n",
       "4   33.473500  -82.010500  \n",
       "5   32.460976  -84.987709  \n",
       "6   31.846900  -81.595900  \n",
       "7   39.311100  -94.922500  \n",
       "8   39.183600  -96.571700  \n",
       "9   36.529800  -87.359500  \n",
       "10  37.697000  -85.859100  \n",
       "11  31.143200  -93.261500  \n",
       "12  39.414300  -77.410500  \n",
       "13  39.084000  -76.700300  \n",
       "14  37.825300  -92.200700  \n",
       "15  44.008600  -75.727300  \n",
       "16  40.712800  -74.006000  \n",
       "17  35.052700  -78.878400  \n",
       "18  34.608700  -98.390300  \n",
       "19  34.000700  -81.034800  \n",
       "20  31.761900 -106.485000  \n",
       "21  31.117100  -97.727800  \n",
       "22  38.804800  -77.046900  \n",
       "23  37.227900  -77.401900  \n",
       "24  38.881600  -77.091000  \n",
       "25  47.252900 -122.444300  \n",
       "26  43.944400  -90.812300  "
      ]
     },
     "execution_count": 72,
     "metadata": {},
     "output_type": "execute_result"
    }
   ],
   "source": [
    "census_pd['Name'] = fort_names\n",
    "census_pd[\"Nearest City\"] = fort_data[\"Nearest City\"]\n",
    "new_column_order = [\"Name\",\"Nearest City\",\"Zipcode\",\"Population\",\"Poverty Count\",\"Household Income\"]\n",
    "census_pd = census_pd[new_column_order]\n",
    "poverty_rates = []\n",
    "\n",
    "for index, row in census_pd.iterrows():\n",
    "    poverty_rate = (row[\"Poverty Count\"] / row[\"Population\"]) * 100\n",
    "    poverty_rates.append(poverty_rate)\n",
    "\n",
    "\n",
    "census_pd.loc[:, \"Poverty Rate (%)\"] = poverty_rates\n",
    "census_pd[\"National Poverty Rate\"] = 11.4\n",
    "\n",
    "# Ensure Nearest City values are stripped of extra spaces and title-cased to match dictionary keys\n",
    "census_pd.loc[:, \"Nearest City\"] = census_pd[\"Nearest City\"].str.strip().str.title()\n",
    "\n",
    "# Map coordinates to the DataFrame based on 'Nearest City'\n",
    "census_pd.loc[:, \"Latitude\"] = census_pd[\"Nearest City\"].map(lambda city: coordinates[city][\"Latitude\"])\n",
    "census_pd.loc[:, \"Longitude\"] = census_pd[\"Nearest City\"].map(lambda city: coordinates[city][\"Longitude\"])\n",
    "\n",
    "# Display the DataFrame to verify\n",
    "census_pd\n"
   ]
  },
  {
   "cell_type": "code",
   "execution_count": 73,
   "id": "744d6b79-adf4-4d50-a324-6ab7b4deb6f2",
   "metadata": {},
   "outputs": [],
   "source": [
    "census_pd.to_excel('census_data.xlsx', index=True)"
   ]
  },
  {
   "cell_type": "code",
   "execution_count": 74,
   "id": "5f5b9590-4202-4c8f-8501-5270522a55af",
   "metadata": {},
   "outputs": [
    {
     "data": {
      "image/png": "[encoded data removed]",
      "text/plain": [
       "<Figure size 800x600 with 1 Axes>"
      ]
     },
     "metadata": {},
     "output_type": "display_data"
    }
   ],
   "source": [
    "import matplotlib.pyplot as plt\n",
    "\n",
    "# Scatter plot with Population vs. Poverty Rate\n",
    "plt.figure(figsize=(8, 6))\n",
    "plt.scatter(census_pd[\"Population\"], census_pd[\"Poverty Rate (%)\"], color=\"teal\", alpha=0.7)\n",
    "\n",
    "# Use the National Poverty Rate column to draw the reference line\n",
    "plt.axhline(y=census_pd[\"National Poverty Rate\"].iloc[0], color=\"red\", linestyle=\"--\", label=\"National Poverty Rate (11.4%)\")\n",
    "\n",
    "plt.title(\"Population Size vs. Poverty Rate around Military Bases\")\n",
    "plt.xlabel(\"Population\")\n",
    "plt.ylabel(\"Poverty Rate (%)\")\n",
    "plt.legend()\n",
    "plt.grid(True)\n",
    "plt.show()"
   ]
  },
  {
   "cell_type": "code",
   "execution_count": 75,
   "id": "38b47394-9c59-4317-a563-ced9ef534fc5",
   "metadata": {},
   "outputs": [
    {
     "data": {
      "application/vnd.plotly.v1+json": {
       "config": {
        "plotlyServerURL": "https://plot.ly"
       },
       "data": [
        {
         "customdata": [
          [
           "Fort Novosel",
           11.4
          ],
          [
           "Fort Huachuca",
           11.4
          ],
          [
           "Fort Irwin",
           11.4
          ],
          [
           "Fort Carson",
           11.4
          ],
          [
           "Fort Eisenhower",
           11.4
          ],
          [
           "Fort Moore",
           11.4
          ],
          [
           "Fort Stewart",
           11.4
          ],
          [
           "Fort Leavenworth",
           11.4
          ],
          [
           "Fort Riley",
           11.4
          ],
          [
           "Fort Campbell",
           11.4
          ],
          [
           "Fort Knox",
           11.4
          ],
          [
           "Fort Johnson",
           11.4
          ],
          [
           "Fort Detrick",
           11.4
          ],
          [
           "Fort George G. Meade",
           11.4
          ],
          [
           "Fort Leonard Wood",
           11.4
          ],
          [
           "Fort Drum",
           11.4
          ],
          [
           "Fort Hamilton",
           11.4
          ],
          [
           "Fort Liberty",
           11.4
          ],
          [
           "Fort Still",
           11.4
          ],
          [
           "Fort Jackson",
           11.4
          ],
          [
           "Fort Bliss",
           11.4
          ],
          [
           "Fort Cavazos",
           11.4
          ],
          [
           "Fort Belvoir",
           11.4
          ],
          [
           "Fort Gregg-Adams",
           11.4
          ],
          [
           "Fort Meyer",
           11.4
          ],
          [
           "Joint Base Lewis-McChord",
           11.4
          ],
          [
           "Fort McCoy",
           11.4
          ]
         ],
         "hovertemplate": "Population=%{x}<br>Poverty Rate (%)=%{y}<br>Name=%{customdata[0]}<br>National Poverty Rate=%{customdata[1]}<extra></extra>",
         "legendgroup": "",
         "marker": {
          "color": "#636efa",
          "symbol": "circle"
         },
         "mode": "markers",
         "name": "",
         "orientation": "v",
         "showlegend": false,
         "type": "scatter",
         "x": [
          37699,
          35167,
          34204,
          16844,
          27125,
          5728,
          41967,
          36185,
          44789,
          58490,
          52279,
          21469,
          40203,
          35242,
          13370,
          38695,
          72938,
          16365,
          20508,
          21176,
          8518,
          18521,
          14410,
          41300,
          39240,
          6805,
          18115
         ],
         "xaxis": "x",
         "y": [
          21.62126316347914,
          13.46717092728979,
          26.774646240205826,
          15.625742104013298,
          26.403686635944702,
          26.11731843575419,
          17.539971882669718,
          10.949288379162637,
          27.718859541405255,
          16.548127885108567,
          9.296275751257674,
          18.696725511202196,
          7.959605004601647,
          4.957153396515522,
          17.359760658189977,
          16.47758108282724,
          10.508925388686281,
          30.033608310418575,
          20.362785254534817,
          42.15621458254628,
          52.52406668231979,
          25.268614005723233,
          3.4004163775156147,
          18.2953995157385,
          6.368501529051988,
          19.456282145481264,
          9.285122826386973
         ],
         "yaxis": "y"
        }
       ],
       "layout": {
        "annotations": [
         {
          "showarrow": false,
          "text": "National Poverty Rate",
          "x": 1,
          "xanchor": "right",
          "xref": "x domain",
          "y": 11.4,
          "yanchor": "bottom",
          "yref": "y"
         }
        ],
        "autosize": true,
        "legend": {
         "tracegroupgap": 0
        },
        "shapes": [
         {
          "line": {
           "color": "red",
           "dash": "dash"
          },
          "type": "line",
          "x0": 0,
          "x1": 1,
          "xref": "x domain",
          "y0": 11.4,
          "y1": 11.4,
          "yref": "y"
         }
        ],
        "template": {
         "data": {
          "bar": [
           {
            "error_x": {
             "color": "#2a3f5f"
            },
            "error_y": {
             "color": "#2a3f5f"
            },
            "marker": {
             "line": {
              "color": "#E5ECF6",
              "width": 0.5
             },
             "pattern": {
              "fillmode": "overlay",
              "size": 10,
              "solidity": 0.2
             }
            },
            "type": "bar"
           }
          ],
          "barpolar": [
           {
            "marker": {
             "line": {
              "color": "#E5ECF6",
              "width": 0.5
             },
             "pattern": {
              "fillmode": "overlay",
              "size": 10,
              "solidity": 0.2
             }
            },
            "type": "barpolar"
           }
          ],
          "carpet": [
           {
            "aaxis": {
             "endlinecolor": "#2a3f5f",
             "gridcolor": "white",
             "linecolor": "white",
             "minorgridcolor": "white",
             "startlinecolor": "#2a3f5f"
            },
            "baxis": {
             "endlinecolor": "#2a3f5f",
             "gridcolor": "white",
             "linecolor": "white",
             "minorgridcolor": "white",
             "startlinecolor": "#2a3f5f"
            },
            "type": "carpet"
           }
          ],
          "choropleth": [
           {
            "colorbar": {
             "outlinewidth": 0,
             "ticks": ""
            },
            "type": "choropleth"
           }
          ],
          "contour": [
           {
            "colorbar": {
             "outlinewidth": 0,
             "ticks": ""
            },
            "colorscale": [
             [
              0,
              "#0d0887"
             ],
             [
              0.1111111111111111,
              "#46039f"
             ],
             [
              0.2222222222222222,
              "#7201a8"
             ],
             [
              0.3333333333333333,
              "#9c179e"
             ],
             [
              0.4444444444444444,
              "#bd3786"
             ],
             [
              0.5555555555555556,
              "#d8576b"
             ],
             [
              0.6666666666666666,
              "#ed7953"
             ],
             [
              0.7777777777777778,
              "#fb9f3a"
             ],
             [
              0.8888888888888888,
              "#fdca26"
             ],
             [
              1,
              "#f0f921"
             ]
            ],
            "type": "contour"
           }
          ],
          "contourcarpet": [
           {
            "colorbar": {
             "outlinewidth": 0,
             "ticks": ""
            },
            "type": "contourcarpet"
           }
          ],
          "heatmap": [
           {
            "colorbar": {
             "outlinewidth": 0,
             "ticks": ""
            },
            "colorscale": [
             [
              0,
              "#0d0887"
             ],
             [
              0.1111111111111111,
              "#46039f"
             ],
             [
              0.2222222222222222,
              "#7201a8"
             ],
             [
              0.3333333333333333,
              "#9c179e"
             ],
             [
              0.4444444444444444,
              "#bd3786"
             ],
             [
              0.5555555555555556,
              "#d8576b"
             ],
             [
              0.6666666666666666,
              "#ed7953"
             ],
             [
              0.7777777777777778,
              "#fb9f3a"
             ],
             [
              0.8888888888888888,
              "#fdca26"
             ],
             [
              1,
              "#f0f921"
             ]
            ],
            "type": "heatmap"
           }
          ],
          "heatmapgl": [
           {
            "colorbar": {
             "outlinewidth": 0,
             "ticks": ""
            },
            "colorscale": [
             [
              0,
              "#0d0887"
             ],
             [
              0.1111111111111111,
              "#46039f"
             ],
             [
              0.2222222222222222,
              "#7201a8"
             ],
             [
              0.3333333333333333,
              "#9c179e"
             ],
             [
              0.4444444444444444,
              "#bd3786"
             ],
             [
              0.5555555555555556,
              "#d8576b"
             ],
             [
              0.6666666666666666,
              "#ed7953"
             ],
             [
              0.7777777777777778,
              "#fb9f3a"
             ],
             [
              0.8888888888888888,
              "#fdca26"
             ],
             [
              1,
              "#f0f921"
             ]
            ],
            "type": "heatmapgl"
           }
          ],
          "histogram": [
           {
            "marker": {
             "pattern": {
              "fillmode": "overlay",
              "size": 10,
              "solidity": 0.2
             }
            },
            "type": "histogram"
           }
          ],
          "histogram2d": [
           {
            "colorbar": {
             "outlinewidth": 0,
             "ticks": ""
            },
            "colorscale": [
             [
              0,
              "#0d0887"
             ],
             [
              0.1111111111111111,
              "#46039f"
             ],
             [
              0.2222222222222222,
              "#7201a8"
             ],
             [
              0.3333333333333333,
              "#9c179e"
             ],
             [
              0.4444444444444444,
              "#bd3786"
             ],
             [
              0.5555555555555556,
              "#d8576b"
             ],
             [
              0.6666666666666666,
              "#ed7953"
             ],
             [
              0.7777777777777778,
              "#fb9f3a"
             ],
             [
              0.8888888888888888,
              "#fdca26"
             ],
             [
              1,
              "#f0f921"
             ]
            ],
            "type": "histogram2d"
           }
          ],
          "histogram2dcontour": [
           {
            "colorbar": {
             "outlinewidth": 0,
             "ticks": ""
            },
            "colorscale": [
             [
              0,
              "#0d0887"
             ],
             [
              0.1111111111111111,
              "#46039f"
             ],
             [
              0.2222222222222222,
              "#7201a8"
             ],
             [
              0.3333333333333333,
              "#9c179e"
             ],
             [
              0.4444444444444444,
              "#bd3786"
             ],
             [
              0.5555555555555556,
              "#d8576b"
             ],
             [
              0.6666666666666666,
              "#ed7953"
             ],
             [
              0.7777777777777778,
              "#fb9f3a"
             ],
             [
              0.8888888888888888,
              "#fdca26"
             ],
             [
              1,
              "#f0f921"
             ]
            ],
            "type": "histogram2dcontour"
           }
          ],
          "mesh3d": [
           {
            "colorbar": {
             "outlinewidth": 0,
             "ticks": ""
            },
            "type": "mesh3d"
           }
          ],
          "parcoords": [
           {
            "line": {
             "colorbar": {
              "outlinewidth": 0,
              "ticks": ""
             }
            },
            "type": "parcoords"
           }
          ],
          "pie": [
           {
            "automargin": true,
            "type": "pie"
           }
          ],
          "scatter": [
           {
            "fillpattern": {
             "fillmode": "overlay",
             "size": 10,
             "solidity": 0.2
            },
            "type": "scatter"
           }
          ],
          "scatter3d": [
           {
            "line": {
             "colorbar": {
              "outlinewidth": 0,
              "ticks": ""
             }
            },
            "marker": {
             "colorbar": {
              "outlinewidth": 0,
              "ticks": ""
             }
            },
            "type": "scatter3d"
           }
          ],
          "scattercarpet": [
           {
            "marker": {
             "colorbar": {
              "outlinewidth": 0,
              "ticks": ""
             }
            },
            "type": "scattercarpet"
           }
          ],
          "scattergeo": [
           {
            "marker": {
             "colorbar": {
              "outlinewidth": 0,
              "ticks": ""
             }
            },
            "type": "scattergeo"
           }
          ],
          "scattergl": [
           {
            "marker": {
             "colorbar": {
              "outlinewidth": 0,
              "ticks": ""
             }
            },
            "type": "scattergl"
           }
          ],
          "scattermapbox": [
           {
            "marker": {
             "colorbar": {
              "outlinewidth": 0,
              "ticks": ""
             }
            },
            "type": "scattermapbox"
           }
          ],
          "scatterpolar": [
           {
            "marker": {
             "colorbar": {
              "outlinewidth": 0,
              "ticks": ""
             }
            },
            "type": "scatterpolar"
           }
          ],
          "scatterpolargl": [
           {
            "marker": {
             "colorbar": {
              "outlinewidth": 0,
              "ticks": ""
             }
            },
            "type": "scatterpolargl"
           }
          ],
          "scatterternary": [
           {
            "marker": {
             "colorbar": {
              "outlinewidth": 0,
              "ticks": ""
             }
            },
            "type": "scatterternary"
           }
          ],
          "surface": [
           {
            "colorbar": {
             "outlinewidth": 0,
             "ticks": ""
            },
            "colorscale": [
             [
              0,
              "#0d0887"
             ],
             [
              0.1111111111111111,
              "#46039f"
             ],
             [
              0.2222222222222222,
              "#7201a8"
             ],
             [
              0.3333333333333333,
              "#9c179e"
             ],
             [
              0.4444444444444444,
              "#bd3786"
             ],
             [
              0.5555555555555556,
              "#d8576b"
             ],
             [
              0.6666666666666666,
              "#ed7953"
             ],
             [
              0.7777777777777778,
              "#fb9f3a"
             ],
             [
              0.8888888888888888,
              "#fdca26"
             ],
             [
              1,
              "#f0f921"
             ]
            ],
            "type": "surface"
           }
          ],
          "table": [
           {
            "cells": {
             "fill": {
              "color": "#EBF0F8"
             },
             "line": {
              "color": "white"
             }
            },
            "header": {
             "fill": {
              "color": "#C8D4E3"
             },
             "line": {
              "color": "white"
             }
            },
            "type": "table"
           }
          ]
         },
         "layout": {
          "annotationdefaults": {
           "arrowcolor": "#2a3f5f",
           "arrowhead": 0,
           "arrowwidth": 1
          },
          "autotypenumbers": "strict",
          "coloraxis": {
           "colorbar": {
            "outlinewidth": 0,
            "ticks": ""
           }
          },
          "colorscale": {
           "diverging": [
            [
             0,
             "#8e0152"
            ],
            [
             0.1,
             "#c51b7d"
            ],
            [
             0.2,
             "#de77ae"
            ],
            [
             0.3,
             "#f1b6da"
            ],
            [
             0.4,
             "#fde0ef"
            ],
            [
             0.5,
             "#f7f7f7"
            ],
            [
             0.6,
             "#e6f5d0"
            ],
            [
             0.7,
             "#b8e186"
            ],
            [
             0.8,
             "#7fbc41"
            ],
            [
             0.9,
             "#4d9221"
            ],
            [
             1,
             "#276419"
            ]
           ],
           "sequential": [
            [
             0,
             "#0d0887"
            ],
            [
             0.1111111111111111,
             "#46039f"
            ],
            [
             0.2222222222222222,
             "#7201a8"
            ],
            [
             0.3333333333333333,
             "#9c179e"
            ],
            [
             0.4444444444444444,
             "#bd3786"
            ],
            [
             0.5555555555555556,
             "#d8576b"
            ],
            [
             0.6666666666666666,
             "#ed7953"
            ],
            [
             0.7777777777777778,
             "#fb9f3a"
            ],
            [
             0.8888888888888888,
             "#fdca26"
            ],
            [
             1,
             "#f0f921"
            ]
           ],
           "sequentialminus": [
            [
             0,
             "#0d0887"
            ],
            [
             0.1111111111111111,
             "#46039f"
            ],
            [
             0.2222222222222222,
             "#7201a8"
            ],
            [
             0.3333333333333333,
             "#9c179e"
            ],
            [
             0.4444444444444444,
             "#bd3786"
            ],
            [
             0.5555555555555556,
             "#d8576b"
            ],
            [
             0.6666666666666666,
             "#ed7953"
            ],
            [
             0.7777777777777778,
             "#fb9f3a"
            ],
            [
             0.8888888888888888,
             "#fdca26"
            ],
            [
             1,
             "#f0f921"
            ]
           ]
          },
          "colorway": [
           "#636efa",
           "#EF553B",
           "#00cc96",
           "#ab63fa",
           "#FFA15A",
           "#19d3f3",
           "#FF6692",
           "#B6E880",
           "#FF97FF",
           "#FECB52"
          ],
          "font": {
           "color": "#2a3f5f"
          },
          "geo": {
           "bgcolor": "white",
           "lakecolor": "white",
           "landcolor": "#E5ECF6",
           "showlakes": true,
           "showland": true,
           "subunitcolor": "white"
          },
          "hoverlabel": {
           "align": "left"
          },
          "hovermode": "closest",
          "mapbox": {
           "style": "light"
          },
          "paper_bgcolor": "white",
          "plot_bgcolor": "#E5ECF6",
          "polar": {
           "angularaxis": {
            "gridcolor": "white",
            "linecolor": "white",
            "ticks": ""
           },
           "bgcolor": "#E5ECF6",
           "radialaxis": {
            "gridcolor": "white",
            "linecolor": "white",
            "ticks": ""
           }
          },
          "scene": {
           "xaxis": {
            "backgroundcolor": "#E5ECF6",
            "gridcolor": "white",
            "gridwidth": 2,
            "linecolor": "white",
            "showbackground": true,
            "ticks": "",
            "zerolinecolor": "white"
           },
           "yaxis": {
            "backgroundcolor": "#E5ECF6",
            "gridcolor": "white",
            "gridwidth": 2,
            "linecolor": "white",
            "showbackground": true,
            "ticks": "",
            "zerolinecolor": "white"
           },
           "zaxis": {
            "backgroundcolor": "#E5ECF6",
            "gridcolor": "white",
            "gridwidth": 2,
            "linecolor": "white",
            "showbackground": true,
            "ticks": "",
            "zerolinecolor": "white"
           }
          },
          "shapedefaults": {
           "line": {
            "color": "#2a3f5f"
           }
          },
          "ternary": {
           "aaxis": {
            "gridcolor": "white",
            "linecolor": "white",
            "ticks": ""
           },
           "baxis": {
            "gridcolor": "white",
            "linecolor": "white",
            "ticks": ""
           },
           "bgcolor": "#E5ECF6",
           "caxis": {
            "gridcolor": "white",
            "linecolor": "white",
            "ticks": ""
           }
          },
          "title": {
           "x": 0.05
          },
          "xaxis": {
           "automargin": true,
           "gridcolor": "white",
           "linecolor": "white",
           "ticks": "",
           "title": {
            "standoff": 15
           },
           "zerolinecolor": "white",
           "zerolinewidth": 2
          },
          "yaxis": {
           "automargin": true,
           "gridcolor": "white",
           "linecolor": "white",
           "ticks": "",
           "title": {
            "standoff": 15
           },
           "zerolinecolor": "white",
           "zerolinewidth": 2
          }
         }
        },
        "title": {
         "text": "Population Size vs. Poverty Rate around Military Bases"
        },
        "xaxis": {
         "anchor": "y",
         "autorange": true,
         "domain": [
          0,
          1
         ],
         "range": [
          1808.5301524188203,
          76857.46984758117
         ],
         "title": {
          "text": "Population"
         },
         "type": "linear"
        },
        "yaxis": {
         "anchor": "x",
         "autorange": true,
         "domain": [
          0,
          1
         ],
         "range": [
          -0.6534770942400701,
          56.57796015407548
         ],
         "title": {
          "text": "Poverty Rate (%)"
         },
         "type": "linear"
        }
       }
      },
      "image/png": "[encoded data removed]",
      "text/html": [
       "<div>                            <div id=\"1b4293d0-eae2-4fdf-93fa-cc1e3a47ab47\" class=\"plotly-graph-div\" style=\"height:525px; width:100%;\"></div>            <script type=\"text/javascript\">                require([\"plotly\"], function(Plotly) {                    window.PLOTLYENV=window.PLOTLYENV || {};                                    if (document.getElementById(\"1b4293d0-eae2-4fdf-93fa-cc1e3a47ab47\")) {                    Plotly.newPlot(                        \"1b4293d0-eae2-4fdf-93fa-cc1e3a47ab47\",                        [{\"customdata\":[[\"Fort Novosel\",11.4],[\"Fort Huachuca\",11.4],[\"Fort Irwin\",11.4],[\"Fort Carson\",11.4],[\"Fort Eisenhower\",11.4],[\"Fort Moore\",11.4],[\"Fort Stewart\",11.4],[\"Fort Leavenworth\",11.4],[\"Fort Riley\",11.4],[\"Fort Campbell\",11.4],[\"Fort Knox\",11.4],[\"Fort Johnson\",11.4],[\"Fort Detrick\",11.4],[\"Fort George G. Meade\",11.4],[\"Fort Leonard Wood\",11.4],[\"Fort Drum\",11.4],[\"Fort Hamilton\",11.4],[\"Fort Liberty\",11.4],[\"Fort Still\",11.4],[\"Fort Jackson\",11.4],[\"Fort Bliss\",11.4],[\"Fort Cavazos\",11.4],[\"Fort Belvoir\",11.4],[\"Fort Gregg-Adams\",11.4],[\"Fort Meyer\",11.4],[\"Joint Base Lewis-McChord\",11.4],[\"Fort McCoy\",11.4]],\"hovertemplate\":\"Population=%{x}\\u003cbr\\u003ePoverty Rate (%)=%{y}\\u003cbr\\u003eName=%{customdata[0]}\\u003cbr\\u003eNational Poverty Rate=%{customdata[1]}\\u003cextra\\u003e\\u003c\\u002fextra\\u003e\",\"legendgroup\":\"\",\"marker\":{\"color\":\"#636efa\",\"symbol\":\"circle\"},\"mode\":\"markers\",\"name\":\"\",\"orientation\":\"v\",\"showlegend\":false,\"x\":[37699.0,35167.0,34204.0,16844.0,27125.0,5728.0,41967.0,36185.0,44789.0,58490.0,52279.0,21469.0,40203.0,35242.0,13370.0,38695.0,72938.0,16365.0,20508.0,21176.0,8518.0,18521.0,14410.0,41300.0,39240.0,6805.0,18115.0],\"xaxis\":\"x\",\"y\":[21.62126316347914,13.46717092728979,26.774646240205826,15.625742104013298,26.403686635944702,26.11731843575419,17.539971882669718,10.949288379162637,27.718859541405255,16.548127885108567,9.296275751257674,18.696725511202196,7.959605004601647,4.957153396515522,17.359760658189977,16.47758108282724,10.508925388686281,30.033608310418575,20.362785254534817,42.15621458254628,52.52406668231979,25.268614005723233,3.4004163775156147,18.2953995157385,6.368501529051988,19.456282145481264,9.285122826386973],\"yaxis\":\"y\",\"type\":\"scatter\"}],                        {\"template\":{\"data\":{\"histogram2dcontour\":[{\"type\":\"histogram2dcontour\",\"colorbar\":{\"outlinewidth\":0,\"ticks\":\"\"},\"colorscale\":[[0.0,\"#0d0887\"],[0.1111111111111111,\"#46039f\"],[0.2222222222222222,\"#7201a8\"],[0.3333333333333333,\"#9c179e\"],[0.4444444444444444,\"#bd3786\"],[0.5555555555555556,\"#d8576b\"],[0.6666666666666666,\"#ed7953\"],[0.7777777777777778,\"#fb9f3a\"],[0.8888888888888888,\"#fdca26\"],[1.0,\"#f0f921\"]]}],\"choropleth\":[{\"type\":\"choropleth\",\"colorbar\":{\"outlinewidth\":0,\"ticks\":\"\"}}],\"histogram2d\":[{\"type\":\"histogram2d\",\"colorbar\":{\"outlinewidth\":0,\"ticks\":\"\"},\"colorscale\":[[0.0,\"#0d0887\"],[0.1111111111111111,\"#46039f\"],[0.2222222222222222,\"#7201a8\"],[0.3333333333333333,\"#9c179e\"],[0.4444444444444444,\"#bd3786\"],[0.5555555555555556,\"#d8576b\"],[0.6666666666666666,\"#ed7953\"],[0.7777777777777778,\"#fb9f3a\"],[0.8888888888888888,\"#fdca26\"],[1.0,\"#f0f921\"]]}],\"heatmap\":[{\"type\":\"heatmap\",\"colorbar\":{\"outlinewidth\":0,\"ticks\":\"\"},\"colorscale\":[[0.0,\"#0d0887\"],[0.1111111111111111,\"#46039f\"],[0.2222222222222222,\"#7201a8\"],[0.3333333333333333,\"#9c179e\"],[0.4444444444444444,\"#bd3786\"],[0.5555555555555556,\"#d8576b\"],[0.6666666666666666,\"#ed7953\"],[0.7777777777777778,\"#fb9f3a\"],[0.8888888888888888,\"#fdca26\"],[1.0,\"#f0f921\"]]}],\"heatmapgl\":[{\"type\":\"heatmapgl\",\"colorbar\":{\"outlinewidth\":0,\"ticks\":\"\"},\"colorscale\":[[0.0,\"#0d0887\"],[0.1111111111111111,\"#46039f\"],[0.2222222222222222,\"#7201a8\"],[0.3333333333333333,\"#9c179e\"],[0.4444444444444444,\"#bd3786\"],[0.5555555555555556,\"#d8576b\"],[0.6666666666666666,\"#ed7953\"],[0.7777777777777778,\"#fb9f3a\"],[0.8888888888888888,\"#fdca26\"],[1.0,\"#f0f921\"]]}],\"contourcarpet\":[{\"type\":\"contourcarpet\",\"colorbar\":{\"outlinewidth\":0,\"ticks\":\"\"}}],\"contour\":[{\"type\":\"contour\",\"colorbar\":{\"outlinewidth\":0,\"ticks\":\"\"},\"colorscale\":[[0.0,\"#0d0887\"],[0.1111111111111111,\"#46039f\"],[0.2222222222222222,\"#7201a8\"],[0.3333333333333333,\"#9c179e\"],[0.4444444444444444,\"#bd3786\"],[0.5555555555555556,\"#d8576b\"],[0.6666666666666666,\"#ed7953\"],[0.7777777777777778,\"#fb9f3a\"],[0.8888888888888888,\"#fdca26\"],[1.0,\"#f0f921\"]]}],\"surface\":[{\"type\":\"surface\",\"colorbar\":{\"outlinewidth\":0,\"ticks\":\"\"},\"colorscale\":[[0.0,\"#0d0887\"],[0.1111111111111111,\"#46039f\"],[0.2222222222222222,\"#7201a8\"],[0.3333333333333333,\"#9c179e\"],[0.4444444444444444,\"#bd3786\"],[0.5555555555555556,\"#d8576b\"],[0.6666666666666666,\"#ed7953\"],[0.7777777777777778,\"#fb9f3a\"],[0.8888888888888888,\"#fdca26\"],[1.0,\"#f0f921\"]]}],\"mesh3d\":[{\"type\":\"mesh3d\",\"colorbar\":{\"outlinewidth\":0,\"ticks\":\"\"}}],\"scatter\":[{\"fillpattern\":{\"fillmode\":\"overlay\",\"size\":10,\"solidity\":0.2},\"type\":\"scatter\"}],\"parcoords\":[{\"type\":\"parcoords\",\"line\":{\"colorbar\":{\"outlinewidth\":0,\"ticks\":\"\"}}}],\"scatterpolargl\":[{\"type\":\"scatterpolargl\",\"marker\":{\"colorbar\":{\"outlinewidth\":0,\"ticks\":\"\"}}}],\"bar\":[{\"error_x\":{\"color\":\"#2a3f5f\"},\"error_y\":{\"color\":\"#2a3f5f\"},\"marker\":{\"line\":{\"color\":\"#E5ECF6\",\"width\":0.5},\"pattern\":{\"fillmode\":\"overlay\",\"size\":10,\"solidity\":0.2}},\"type\":\"bar\"}],\"scattergeo\":[{\"type\":\"scattergeo\",\"marker\":{\"colorbar\":{\"outlinewidth\":0,\"ticks\":\"\"}}}],\"scatterpolar\":[{\"type\":\"scatterpolar\",\"marker\":{\"colorbar\":{\"outlinewidth\":0,\"ticks\":\"\"}}}],\"histogram\":[{\"marker\":{\"pattern\":{\"fillmode\":\"overlay\",\"size\":10,\"solidity\":0.2}},\"type\":\"histogram\"}],\"scattergl\":[{\"type\":\"scattergl\",\"marker\":{\"colorbar\":{\"outlinewidth\":0,\"ticks\":\"\"}}}],\"scatter3d\":[{\"type\":\"scatter3d\",\"line\":{\"colorbar\":{\"outlinewidth\":0,\"ticks\":\"\"}},\"marker\":{\"colorbar\":{\"outlinewidth\":0,\"ticks\":\"\"}}}],\"scattermapbox\":[{\"type\":\"scattermapbox\",\"marker\":{\"colorbar\":{\"outlinewidth\":0,\"ticks\":\"\"}}}],\"scatterternary\":[{\"type\":\"scatterternary\",\"marker\":{\"colorbar\":{\"outlinewidth\":0,\"ticks\":\"\"}}}],\"scattercarpet\":[{\"type\":\"scattercarpet\",\"marker\":{\"colorbar\":{\"outlinewidth\":0,\"ticks\":\"\"}}}],\"carpet\":[{\"aaxis\":{\"endlinecolor\":\"#2a3f5f\",\"gridcolor\":\"white\",\"linecolor\":\"white\",\"minorgridcolor\":\"white\",\"startlinecolor\":\"#2a3f5f\"},\"baxis\":{\"endlinecolor\":\"#2a3f5f\",\"gridcolor\":\"white\",\"linecolor\":\"white\",\"minorgridcolor\":\"white\",\"startlinecolor\":\"#2a3f5f\"},\"type\":\"carpet\"}],\"table\":[{\"cells\":{\"fill\":{\"color\":\"#EBF0F8\"},\"line\":{\"color\":\"white\"}},\"header\":{\"fill\":{\"color\":\"#C8D4E3\"},\"line\":{\"color\":\"white\"}},\"type\":\"table\"}],\"barpolar\":[{\"marker\":{\"line\":{\"color\":\"#E5ECF6\",\"width\":0.5},\"pattern\":{\"fillmode\":\"overlay\",\"size\":10,\"solidity\":0.2}},\"type\":\"barpolar\"}],\"pie\":[{\"automargin\":true,\"type\":\"pie\"}]},\"layout\":{\"autotypenumbers\":\"strict\",\"colorway\":[\"#636efa\",\"#EF553B\",\"#00cc96\",\"#ab63fa\",\"#FFA15A\",\"#19d3f3\",\"#FF6692\",\"#B6E880\",\"#FF97FF\",\"#FECB52\"],\"font\":{\"color\":\"#2a3f5f\"},\"hovermode\":\"closest\",\"hoverlabel\":{\"align\":\"left\"},\"paper_bgcolor\":\"white\",\"plot_bgcolor\":\"#E5ECF6\",\"polar\":{\"bgcolor\":\"#E5ECF6\",\"angularaxis\":{\"gridcolor\":\"white\",\"linecolor\":\"white\",\"ticks\":\"\"},\"radialaxis\":{\"gridcolor\":\"white\",\"linecolor\":\"white\",\"ticks\":\"\"}},\"ternary\":{\"bgcolor\":\"#E5ECF6\",\"aaxis\":{\"gridcolor\":\"white\",\"linecolor\":\"white\",\"ticks\":\"\"},\"baxis\":{\"gridcolor\":\"white\",\"linecolor\":\"white\",\"ticks\":\"\"},\"caxis\":{\"gridcolor\":\"white\",\"linecolor\":\"white\",\"ticks\":\"\"}},\"coloraxis\":{\"colorbar\":{\"outlinewidth\":0,\"ticks\":\"\"}},\"colorscale\":{\"sequential\":[[0.0,\"#0d0887\"],[0.1111111111111111,\"#46039f\"],[0.2222222222222222,\"#7201a8\"],[0.3333333333333333,\"#9c179e\"],[0.4444444444444444,\"#bd3786\"],[0.5555555555555556,\"#d8576b\"],[0.6666666666666666,\"#ed7953\"],[0.7777777777777778,\"#fb9f3a\"],[0.8888888888888888,\"#fdca26\"],[1.0,\"#f0f921\"]],\"sequentialminus\":[[0.0,\"#0d0887\"],[0.1111111111111111,\"#46039f\"],[0.2222222222222222,\"#7201a8\"],[0.3333333333333333,\"#9c179e\"],[0.4444444444444444,\"#bd3786\"],[0.5555555555555556,\"#d8576b\"],[0.6666666666666666,\"#ed7953\"],[0.7777777777777778,\"#fb9f3a\"],[0.8888888888888888,\"#fdca26\"],[1.0,\"#f0f921\"]],\"diverging\":[[0,\"#8e0152\"],[0.1,\"#c51b7d\"],[0.2,\"#de77ae\"],[0.3,\"#f1b6da\"],[0.4,\"#fde0ef\"],[0.5,\"#f7f7f7\"],[0.6,\"#e6f5d0\"],[0.7,\"#b8e186\"],[0.8,\"#7fbc41\"],[0.9,\"#4d9221\"],[1,\"#276419\"]]},\"xaxis\":{\"gridcolor\":\"white\",\"linecolor\":\"white\",\"ticks\":\"\",\"title\":{\"standoff\":15},\"zerolinecolor\":\"white\",\"automargin\":true,\"zerolinewidth\":2},\"yaxis\":{\"gridcolor\":\"white\",\"linecolor\":\"white\",\"ticks\":\"\",\"title\":{\"standoff\":15},\"zerolinecolor\":\"white\",\"automargin\":true,\"zerolinewidth\":2},\"scene\":{\"xaxis\":{\"backgroundcolor\":\"#E5ECF6\",\"gridcolor\":\"white\",\"linecolor\":\"white\",\"showbackground\":true,\"ticks\":\"\",\"zerolinecolor\":\"white\",\"gridwidth\":2},\"yaxis\":{\"backgroundcolor\":\"#E5ECF6\",\"gridcolor\":\"white\",\"linecolor\":\"white\",\"showbackground\":true,\"ticks\":\"\",\"zerolinecolor\":\"white\",\"gridwidth\":2},\"zaxis\":{\"backgroundcolor\":\"#E5ECF6\",\"gridcolor\":\"white\",\"linecolor\":\"white\",\"showbackground\":true,\"ticks\":\"\",\"zerolinecolor\":\"white\",\"gridwidth\":2}},\"shapedefaults\":{\"line\":{\"color\":\"#2a3f5f\"}},\"annotationdefaults\":{\"arrowcolor\":\"#2a3f5f\",\"arrowhead\":0,\"arrowwidth\":1},\"geo\":{\"bgcolor\":\"white\",\"landcolor\":\"#E5ECF6\",\"subunitcolor\":\"white\",\"showland\":true,\"showlakes\":true,\"lakecolor\":\"white\"},\"title\":{\"x\":0.05},\"mapbox\":{\"style\":\"light\"}}},\"xaxis\":{\"anchor\":\"y\",\"domain\":[0.0,1.0],\"title\":{\"text\":\"Population\"}},\"yaxis\":{\"anchor\":\"x\",\"domain\":[0.0,1.0],\"title\":{\"text\":\"Poverty Rate (%)\"}},\"legend\":{\"tracegroupgap\":0},\"title\":{\"text\":\"Population Size vs. Poverty Rate around Military Bases\"},\"shapes\":[{\"line\":{\"color\":\"red\",\"dash\":\"dash\"},\"type\":\"line\",\"x0\":0,\"x1\":1,\"xref\":\"x domain\",\"y0\":11.4,\"y1\":11.4,\"yref\":\"y\"}],\"annotations\":[{\"showarrow\":false,\"text\":\"National Poverty Rate\",\"x\":1,\"xanchor\":\"right\",\"xref\":\"x domain\",\"y\":11.4,\"yanchor\":\"bottom\",\"yref\":\"y\"}]},                        {\"responsive\": true}                    ).then(function(){\n",
       "                            \n",
       "var gd = document.getElementById('1b4293d0-eae2-4fdf-93fa-cc1e3a47ab47');\n",
       "var x = new MutationObserver(function (mutations, observer) {{\n",
       "        var display = window.getComputedStyle(gd).display;\n",
       "        if (!display || display === 'none') {{\n",
       "            console.log([gd, 'removed!']);\n",
       "            Plotly.purge(gd);\n",
       "            observer.disconnect();\n",
       "        }}\n",
       "}});\n",
       "\n",
       "// Listen for the removal of the full notebook cells\n",
       "var notebookContainer = gd.closest('#notebook-container');\n",
       "if (notebookContainer) {{\n",
       "    x.observe(notebookContainer, {childList: true});\n",
       "}}\n",
       "\n",
       "// Listen for the clearing of the current output cell\n",
       "var outputEl = gd.closest('.output');\n",
       "if (outputEl) {{\n",
       "    x.observe(outputEl, {childList: true});\n",
       "}}\n",
       "\n",
       "                        })                };                });            </script>        </div>"
      ]
     },
     "metadata": {},
     "output_type": "display_data"
    }
   ],
   "source": [
    "import plotly.express as px\n",
    "\n",
    "# Create a Plotly scatter plot without \"State\" in hover data\n",
    "fig = px.scatter(\n",
    "    census_pd,\n",
    "    x=\"Population\",\n",
    "    y=\"Poverty Rate (%)\",\n",
    "    title=\"Population Size vs. Poverty Rate around Military Bases\",\n",
    "    labels={\"Population\": \"Population\", \"Poverty Rate (%)\": \"Poverty Rate (%)\"},\n",
    "    hover_data={\n",
    "        \"Name\": True,        # Base name\n",
    "        \"Population\": True,  # Population size\n",
    "        \"National Poverty Rate\": True  # National poverty rate for reference\n",
    "    }\n",
    ")\n",
    "\n",
    "# Add a reference line for the national poverty rate\n",
    "fig.add_hline(\n",
    "    y=census_pd[\"National Poverty Rate\"].iloc[0],\n",
    "    line_dash=\"dash\",\n",
    "    line_color=\"red\",\n",
    "    annotation_text=\"National Poverty Rate\"\n",
    ")\n",
    "\n",
    "# Show the plot\n",
    "fig.show()\n"
   ]
  },
  {
   "cell_type": "code",
   "execution_count": 76,
   "id": "3f9957e9-c978-4e54-9d1e-dcb81f4b13c9",
   "metadata": {},
   "outputs": [
    {
     "data": {},
     "metadata": {},
     "output_type": "display_data"
    },
    {
     "data": {
      "application/vnd.holoviews_exec.v0+json": "",
      "text/html": [
       "<div id='p1278'>\n",
       "  <div id=\"d9db84da-81a1-4533-b1dc-a28859a9f493\" data-root-id=\"p1278\" style=\"display: contents;\"></div>\n",
       "</div>\n",
       "<script type=\"application/javascript\">(function(root) {\n",
       "  var docs_json = {\"aad020ed-9c60-4006-82a7-7d4958a1d82f\":{\"version\":\"3.5.2\",\"title\":\"Bokeh Application\",\"roots\":[{\"type\":\"object\",\"name\":\"Row\",\"id\":\"p1278\",\"attributes\":{\"name\":\"Row02028\",\"tags\":[\"embedded\"],\"stylesheets\":[\"\\n:host(.pn-loading):before, .pn-loading:before {\\n  background-color: #c3c3c3;\\n  mask-size: auto calc(min(50%, 400px));\\n  -webkit-mask-size: auto calc(min(50%, 400px));\\n}\",{\"type\":\"object\",\"name\":\"ImportedStyleSheet\",\"id\":\"p1281\",\"attributes\":{\"url\":\"https://cdn.holoviz.org/panel/1.5.2/dist/css/loading.css\"}},{\"type\":\"object\",\"name\":\"ImportedStyleSheet\",\"id\":\"p1394\",\"attributes\":{\"url\":\"https://cdn.holoviz.org/panel/1.5.2/dist/css/listpanel.css\"}},{\"type\":\"object\",\"name\":\"ImportedStyleSheet\",\"id\":\"p1279\",\"attributes\":{\"url\":\"https://cdn.holoviz.org/panel/1.5.2/dist/bundled/theme/default.css\"}},{\"type\":\"object\",\"name\":\"ImportedStyleSheet\",\"id\":\"p1280\",\"attributes\":{\"url\":\"https://cdn.holoviz.org/panel/1.5.2/dist/bundled/theme/native.css\"}}],\"margin\":0,\"sizing_mode\":\"stretch_width\",\"align\":\"start\",\"children\":[{\"type\":\"object\",\"name\":\"Spacer\",\"id\":\"p1282\",\"attributes\":{\"name\":\"HSpacer02034\",\"stylesheets\":[\"\\n:host(.pn-loading):before, .pn-loading:before {\\n  background-color: #c3c3c3;\\n  mask-size: auto calc(min(50%, 400px));\\n  -webkit-mask-size: auto calc(min(50%, 400px));\\n}\",{\"id\":\"p1281\"},{\"id\":\"p1279\"},{\"id\":\"p1280\"}],\"margin\":0,\"sizing_mode\":\"stretch_width\",\"align\":\"start\"}},{\"type\":\"object\",\"name\":\"Figure\",\"id\":\"p1335\",\"attributes\":{\"width\":null,\"height\":null,\"margin\":[5,10],\"sizing_mode\":\"fixed\",\"align\":\"start\",\"x_range\":{\"type\":\"object\",\"name\":\"Range1d\",\"id\":\"p1298\",\"attributes\":{\"tags\":[[[\"Longitude\",null]],[]],\"start\":-14015588.92009459,\"end\":-7853158.442091317,\"reset_start\":-14015588.92009459,\"reset_end\":-7853158.442091317,\"min_interval\":5}},\"y_range\":{\"type\":\"object\",\"name\":\"Range1d\",\"id\":\"p1299\",\"attributes\":{\"tags\":[[[\"Latitude\",null]],{\"type\":\"map\",\"entries\":[[\"invert_yaxis\",false],[\"autorange\",false]]}],\"start\":2614841.001674019,\"end\":7016577.057390643,\"reset_start\":2614841.001674019,\"reset_end\":7016577.057390643,\"min_interval\":5}},\"x_scale\":{\"type\":\"object\",\"name\":\"LinearScale\",\"id\":\"p1345\"},\"y_scale\":{\"type\":\"object\",\"name\":\"LinearScale\",\"id\":\"p1346\"},\"title\":{\"type\":\"object\",\"name\":\"Title\",\"id\":\"p1338\",\"attributes\":{\"text_color\":\"black\",\"text_font_size\":\"12pt\"}},\"renderers\":[{\"type\":\"object\",\"name\":\"TileRenderer\",\"id\":\"p1368\",\"attributes\":{\"level\":\"underlay\",\"tile_source\":{\"type\":\"object\",\"name\":\"WMTSTileSource\",\"id\":\"p1364\",\"attributes\":{\"url\":\"https://c.tile.openstreetmap.org/{Z}/{X}/{Y}.png\",\"attribution\":\"&copy; <a href=\\\"https://www.openstreetmap.org/copyright\\\">OpenStreetMap</a> contributors\"}}}},{\"type\":\"object\",\"name\":\"GlyphRenderer\",\"id\":\"p1384\",\"attributes\":{\"name\":\"color\",\"data_source\":{\"type\":\"object\",\"name\":\"ColumnDataSource\",\"id\":\"p1373\",\"attributes\":{\"selected\":{\"type\":\"object\",\"name\":\"Selection\",\"id\":\"p1374\",\"attributes\":{\"indices\":[],\"line_indices\":[]}},\"selection_policy\":{\"type\":\"object\",\"name\":\"UnionRenderers\",\"id\":\"p1375\"},\"data\":{\"type\":\"map\",\"entries\":[[\"Longitude\",{\"type\":\"ndarray\",\"array\":{\"type\":\"bytes\",\"data\":\"bo1QX2shYsHYzzmcJWpnwe8HAEiA2GjB21/pG5dBZsHSwTDjsmlhwU+Iqo+GC2LBJQE+wSlTYcGKpKyLiCdkweVhAg8tgWTBL2LK4XGMYsHvzlfp4zpiwaiIGdY/zWPByEslLqpvYMFnwN7KD0lgwf5sMd+Wk2PBuWw0jywUYMFN1xSPOW1fwXWkUupzv2DBITgKwwbkZMGzZ4UVqjRhweWURP8DnGbBN8nVHQTAZMGqPZu15ltgwRSWBYMyb2DBNfyrW0xeYMFEmwykfP9pwW7uzF8fSGPB\"},\"shape\":[27],\"dtype\":\"float64\",\"order\":\"little\"}],[\"Latitude\",{\"type\":\"ndarray\",\"array\":{\"type\":\"bytes\",\"data\":\"a9PW9tfvS0HEaJ6Y+kFMQWU59OPwqE9Bb613wczrUUG6sXeSGTNOQQY1BxWzLE1BAorhTf+OTEGenRodny5SQQ38FTu5HFJBgdfjA0KvUEHaxNeDYU5RQV5BgjGQ20tBIg463CE9UkEhy0TAww5SQbiX3fcFYFFB5P+SSaXaVEF+qxDllfVSQZYi/ZWS0k9BW30Or/dcT0HnU3wC8LxOQRV6ZlxAeUxBcnPrFO/US0HvurVSvedRQQfcRTkiDlFBEZLafHXyUUEpoH77NtNWQbii6H7y0FRB\"},\"shape\":[27],\"dtype\":\"float64\",\"order\":\"little\"}],[\"Nearest_City\",[\"Donthan\",\"Sierra Vista\",\"Barstow\",\"Colorado Springs\",\"Agusta\",\"Columbus\",\"Hinesville\",\"Leavenworth\",\"Manhattan\",\"Clarksville\",\"Elizabethtown\",\"Leesville\",\"Frederick\",\"Odenton\",\"Waynesville\",\"Watertown\",\"New York City\",\"Fayetteville\",\"Lawton\",\"Columbia\",\"El Paso\",\"Killeen\",\"Alexandria\",\"Petersburg\",\"Arlington\",\"Tacoma\",\"Sparta\"]],[\"Population\",{\"type\":\"ndarray\",\"array\":{\"type\":\"bytes\",\"data\":\"AAAAAGBo4kAAAAAA4CvhQAAAAACAs+BAAAAAAABz0EAAAAAAQH3aQAAAAAAAYLZAAAAAAOB95EAAAAAAIKvhQAAAAACg3uVAAAAAAECP7EAAAAAA4IbpQAAAAABA99RAAAAAAGCh40AAAAAAQDXhQAAAAAAAHcpAAAAAAODk4kAAAAAAoM7xQAAAAACA9s9AAAAAAAAH1EAAAAAAAK7UQAAAAAAAo8BAAAAAAEAW0kAAAAAAACXMQAAAAACAKuRAAAAAAAAp40AAAAAAAJW6QAAAAADAsNFA\"},\"shape\":[27],\"dtype\":\"float64\",\"order\":\"little\"}],[\"Name\",[\"Fort Novosel\",\"Fort Huachuca\",\"Fort Irwin\",\"Fort Carson\",\"Fort Eisenhower\",\"Fort Moore\",\"Fort Stewart\",\"Fort Leavenworth\",\"Fort Riley\",\"Fort Campbell\",\"Fort Knox\",\"Fort Johnson\",\"Fort Detrick\",\"Fort George G. Meade\",\"Fort Leonard Wood\",\"Fort Drum\",\"Fort Hamilton\",\"Fort Liberty\",\"Fort Still\",\"Fort Jackson\",\"Fort Bliss\",\"Fort Cavazos\",\"Fort Belvoir\",\"Fort Gregg-Adams\",\"Fort Meyer\",\"Joint Base Lewis-McChord\",\"Fort McCoy\"]],[\"Poverty_Rate_left_parenthesis_percent_right_parenthesis\",{\"type\":\"ndarray\",\"array\":{\"type\":\"bytes\",\"data\":\"N1pJGgufNUAKtBwHMe8qQESnSzdPxjpASO/gRGFAL0D6NuMBWGc6QDnIvJQIHjpAdNPomDuKMUDn810gCeYlQM3AzC0HuDtAI5HsG1KMMEDEf4x0sZciQP7mZJpcsjJANl6/saLWH0BvKB0FINQTQDpQRUYZXDFAZ+77wEJ6MED5BVnekQQlQCEf4o2aCD5AtbKTft9cNEDomOXW/hNFQE2+9p0UQ0pAL9Qx48NEOUDnsnGADTQLQOFZe02fSzJAljf/dlh5GUA7lxzoznQzQKtZfZ77kSJA\"},\"shape\":[27],\"dtype\":\"float64\",\"order\":\"little\"}],[\"color\",[\"Donthan\",\"Sierra Vista\",\"Barstow\",\"Colorado Springs\",\"Agusta\",\"Columbus\",\"Hinesville\",\"Leavenworth\",\"Manhattan\",\"Clarksville\",\"Elizabethtown\",\"Leesville\",\"Frederick\",\"Odenton\",\"Waynesville\",\"Watertown\",\"New York City\",\"Fayetteville\",\"Lawton\",\"Columbia\",\"El Paso\",\"Killeen\",\"Alexandria\",\"Petersburg\",\"Arlington\",\"Tacoma\",\"Sparta\"]],[\"size\",{\"type\":\"ndarray\",\"array\":{\"type\":\"bytes\",\"data\":\"0QsWUOMQ/z8yo52RLAH+P1qW9l5Gl/0/H8JfdPjD9D9BvEn5+Vn6Pxi/UR7/N+g/9Nfcd4BjAEDozBiFjm/+P24SKklE7gBAocn4GwdZA0D2FPudq0oCQPdyHGOVcfc/E7TwZGEKAEAK5ZFIXAn+P9hMe/cmgPI/ySqviUJ5/z8Yqc5+CpsFQM9MctDWd/Q/nPKrRLnp9j/XwT9CfUj3PzXRX72kiO0/E0CczFLG9T98NOUH6DTzP4plyB4HQgBAnMgdg82x/z8IX36Ex2XqPxOxeijjiPU/\"},\"shape\":[27],\"dtype\":\"float64\",\"order\":\"little\"}]]}}},\"view\":{\"type\":\"object\",\"name\":\"CDSView\",\"id\":\"p1385\",\"attributes\":{\"filter\":{\"type\":\"object\",\"name\":\"AllIndices\",\"id\":\"p1386\"}}},\"glyph\":{\"type\":\"object\",\"name\":\"Scatter\",\"id\":\"p1379\",\"attributes\":{\"tags\":[\"apply_ranges\"],\"x\":{\"type\":\"field\",\"field\":\"Longitude\"},\"y\":{\"type\":\"field\",\"field\":\"Latitude\"},\"size\":{\"type\":\"field\",\"field\":\"size\"},\"line_color\":{\"type\":\"field\",\"field\":\"color\",\"transform\":{\"type\":\"object\",\"name\":\"CategoricalColorMapper\",\"id\":\"p1372\",\"attributes\":{\"palette\":[\"#1f77b3\",\"#ff7e0e\",\"#2ba02b\",\"#d62628\",\"#9367bc\",\"#8c564b\",\"#e277c1\",\"#7e7e7e\",\"#bcbc21\",\"#16bdcf\",\"#3a0182\",\"#004201\",\"#0fffa8\",\"#5d003f\",\"#bcbcff\",\"#d8afa1\",\"#b80080\",\"#004d52\",\"#6b6400\",\"#7c0100\",\"#6026ff\",\"#ffff9a\",\"#564964\",\"#8cb893\",\"#93fbff\",\"#018267\",\"#90ff00\"],\"factors\":[\"Donthan\",\"Sierra Vista\",\"Barstow\",\"Colorado Springs\",\"Agusta\",\"Columbus\",\"Hinesville\",\"Leavenworth\",\"Manhattan\",\"Clarksville\",\"Elizabethtown\",\"Leesville\",\"Frederick\",\"Odenton\",\"Waynesville\",\"Watertown\",\"New York City\",\"Fayetteville\",\"Lawton\",\"Columbia\",\"El Paso\",\"Killeen\",\"Alexandria\",\"Petersburg\",\"Arlington\",\"Tacoma\",\"Sparta\"]}}},\"fill_color\":{\"type\":\"field\",\"field\":\"color\",\"transform\":{\"id\":\"p1372\"}},\"hatch_color\":{\"type\":\"field\",\"field\":\"color\",\"transform\":{\"id\":\"p1372\"}}}},\"selection_glyph\":{\"type\":\"object\",\"name\":\"Scatter\",\"id\":\"p1381\",\"attributes\":{\"tags\":[\"apply_ranges\"],\"x\":{\"type\":\"field\",\"field\":\"Longitude\"},\"y\":{\"type\":\"field\",\"field\":\"Latitude\"},\"size\":{\"type\":\"field\",\"field\":\"size\"},\"line_color\":{\"type\":\"field\",\"field\":\"color\",\"transform\":{\"id\":\"p1372\"}},\"fill_color\":{\"type\":\"field\",\"field\":\"color\",\"transform\":{\"id\":\"p1372\"}},\"hatch_color\":{\"type\":\"field\",\"field\":\"color\",\"transform\":{\"id\":\"p1372\"}}}},\"nonselection_glyph\":{\"type\":\"object\",\"name\":\"Scatter\",\"id\":\"p1380\",\"attributes\":{\"tags\":[\"apply_ranges\"],\"x\":{\"type\":\"field\",\"field\":\"Longitude\"},\"y\":{\"type\":\"field\",\"field\":\"Latitude\"},\"size\":{\"type\":\"field\",\"field\":\"size\"},\"line_color\":{\"type\":\"field\",\"field\":\"color\",\"transform\":{\"id\":\"p1372\"}},\"line_alpha\":{\"type\":\"value\",\"value\":0.1},\"fill_color\":{\"type\":\"field\",\"field\":\"color\",\"transform\":{\"id\":\"p1372\"}},\"fill_alpha\":{\"type\":\"value\",\"value\":0.1},\"hatch_color\":{\"type\":\"field\",\"field\":\"color\",\"transform\":{\"id\":\"p1372\"}},\"hatch_alpha\":{\"type\":\"value\",\"value\":0.1}}},\"hover_glyph\":{\"type\":\"object\",\"name\":\"Scatter\",\"id\":\"p1382\",\"attributes\":{\"tags\":[\"apply_ranges\"],\"x\":{\"type\":\"field\",\"field\":\"Longitude\"},\"y\":{\"type\":\"field\",\"field\":\"Latitude\"},\"size\":{\"type\":\"field\",\"field\":\"size\"},\"line_color\":{\"type\":\"field\",\"field\":\"color\",\"transform\":{\"id\":\"p1372\"}},\"fill_color\":{\"type\":\"field\",\"field\":\"color\",\"transform\":{\"id\":\"p1372\"}},\"hatch_color\":{\"type\":\"field\",\"field\":\"color\",\"transform\":{\"id\":\"p1372\"}}}},\"muted_glyph\":{\"type\":\"object\",\"name\":\"Scatter\",\"id\":\"p1383\",\"attributes\":{\"tags\":[\"apply_ranges\"],\"x\":{\"type\":\"field\",\"field\":\"Longitude\"},\"y\":{\"type\":\"field\",\"field\":\"Latitude\"},\"size\":{\"type\":\"field\",\"field\":\"size\"},\"line_color\":{\"type\":\"field\",\"field\":\"color\",\"transform\":{\"id\":\"p1372\"}},\"line_alpha\":{\"type\":\"value\",\"value\":0.2},\"fill_color\":{\"type\":\"field\",\"field\":\"color\",\"transform\":{\"id\":\"p1372\"}},\"fill_alpha\":{\"type\":\"value\",\"value\":0.2},\"hatch_color\":{\"type\":\"field\",\"field\":\"color\",\"transform\":{\"id\":\"p1372\"}},\"hatch_alpha\":{\"type\":\"value\",\"value\":0.2}}}}}],\"toolbar\":{\"type\":\"object\",\"name\":\"Toolbar\",\"id\":\"p1344\",\"attributes\":{\"tools\":[{\"type\":\"object\",\"name\":\"WheelZoomTool\",\"id\":\"p1302\",\"attributes\":{\"renderers\":\"auto\",\"zoom_on_axis\":false}},{\"type\":\"object\",\"name\":\"BoxZoomTool\",\"id\":\"p1310\",\"attributes\":{\"overlay\":{\"type\":\"object\",\"name\":\"BoxAnnotation\",\"id\":\"p1303\",\"attributes\":{\"syncable\":false,\"line_color\":\"black\",\"line_alpha\":1.0,\"line_width\":2,\"line_dash\":[4,4],\"fill_color\":\"lightgrey\",\"fill_alpha\":0.5,\"level\":\"overlay\",\"visible\":false,\"left\":{\"type\":\"number\",\"value\":\"nan\"},\"right\":{\"type\":\"number\",\"value\":\"nan\"},\"top\":{\"type\":\"number\",\"value\":\"nan\"},\"bottom\":{\"type\":\"number\",\"value\":\"nan\"},\"left_units\":\"canvas\",\"right_units\":\"canvas\",\"top_units\":\"canvas\",\"bottom_units\":\"canvas\",\"handles\":{\"type\":\"object\",\"name\":\"BoxInteractionHandles\",\"id\":\"p1023\",\"attributes\":{\"all\":{\"type\":\"object\",\"name\":\"AreaVisuals\",\"id\":\"p1022\",\"attributes\":{\"fill_color\":\"white\",\"hover_fill_color\":\"lightgray\"}}}}}},\"match_aspect\":true}},{\"type\":\"object\",\"name\":\"HoverTool\",\"id\":\"p1334\",\"attributes\":{\"tags\":[\"hv_created\"],\"renderers\":[{\"id\":\"p1384\"}],\"tooltips\":[[\"Longitude\",\"$x{custom}\"],[\"Latitude\",\"$y{custom}\"],[\"Nearest City\",\"@{Nearest_City}\"],[\"Population\",\"@{Population}\"],[\"Name\",\"@{Name}\"],[\"Poverty Rate (%)\",\"@{Poverty_Rate_left_parenthesis_percent_right_parenthesis}\"]],\"formatters\":{\"type\":\"map\",\"entries\":[[\"$x\",{\"type\":\"object\",\"name\":\"CustomJSHover\",\"id\":\"p1370\",\"attributes\":{\"code\":\"\\n        const projections = Bokeh.require(\\\"core/util/projections\\\");\\n        const {snap_x, snap_y} = special_vars\\n        const coords = projections.wgs84_mercator.invert(snap_x, snap_y)\\n        return \\\"\\\" + (coords[0]).toFixed(4)\\n    \"}}],[\"$y\",{\"type\":\"object\",\"name\":\"CustomJSHover\",\"id\":\"p1371\",\"attributes\":{\"code\":\"\\n        const projections = Bokeh.require(\\\"core/util/projections\\\");\\n        const {snap_x, snap_y} = special_vars\\n        const coords = projections.wgs84_mercator.invert(snap_x, snap_y)\\n        return \\\"\\\" + (coords[1]).toFixed(4)\\n    \"}}]]}}},{\"type\":\"object\",\"name\":\"PanTool\",\"id\":\"p1358\"},{\"type\":\"object\",\"name\":\"ResetTool\",\"id\":\"p1359\"}],\"active_drag\":{\"id\":\"p1358\"}}},\"left\":[{\"type\":\"object\",\"name\":\"LinearAxis\",\"id\":\"p1352\",\"attributes\":{\"ticker\":{\"type\":\"object\",\"name\":\"MercatorTicker\",\"id\":\"p1362\",\"attributes\":{\"mantissas\":[1,2,5],\"dimension\":\"lat\"}},\"formatter\":{\"type\":\"object\",\"name\":\"MercatorTickFormatter\",\"id\":\"p1363\",\"attributes\":{\"dimension\":\"lat\"}},\"axis_label\":\"Latitude\",\"major_label_policy\":{\"type\":\"object\",\"name\":\"AllLabels\",\"id\":\"p1355\"}}}],\"right\":[{\"type\":\"object\",\"name\":\"Legend\",\"id\":\"p1387\",\"attributes\":{\"location\":[0,0],\"click_policy\":\"mute\",\"items\":[{\"type\":\"object\",\"name\":\"LegendItem\",\"id\":\"p1388\",\"attributes\":{\"label\":{\"type\":\"field\",\"field\":\"color\"},\"renderers\":[{\"id\":\"p1384\"}]}}]}}],\"below\":[{\"type\":\"object\",\"name\":\"LinearAxis\",\"id\":\"p1347\",\"attributes\":{\"ticker\":{\"type\":\"object\",\"name\":\"MercatorTicker\",\"id\":\"p1360\",\"attributes\":{\"mantissas\":[1,2,5],\"dimension\":\"lon\"}},\"formatter\":{\"type\":\"object\",\"name\":\"MercatorTickFormatter\",\"id\":\"p1361\",\"attributes\":{\"dimension\":\"lon\"}},\"axis_label\":\"Longitude\",\"major_label_policy\":{\"type\":\"object\",\"name\":\"AllLabels\",\"id\":\"p1350\"}}}],\"center\":[{\"type\":\"object\",\"name\":\"Grid\",\"id\":\"p1351\",\"attributes\":{\"axis\":{\"id\":\"p1347\"},\"grid_line_color\":null}},{\"type\":\"object\",\"name\":\"Grid\",\"id\":\"p1356\",\"attributes\":{\"dimension\":1,\"axis\":{\"id\":\"p1352\"},\"grid_line_color\":null}}],\"frame_width\":700,\"frame_height\":500,\"min_border_top\":10,\"min_border_bottom\":10,\"min_border_left\":10,\"min_border_right\":10,\"output_backend\":\"webgl\",\"match_aspect\":true}},{\"type\":\"object\",\"name\":\"Spacer\",\"id\":\"p1392\",\"attributes\":{\"name\":\"HSpacer02035\",\"stylesheets\":[\"\\n:host(.pn-loading):before, .pn-loading:before {\\n  background-color: #c3c3c3;\\n  mask-size: auto calc(min(50%, 400px));\\n  -webkit-mask-size: auto calc(min(50%, 400px));\\n}\",{\"id\":\"p1281\"},{\"id\":\"p1279\"},{\"id\":\"p1280\"}],\"margin\":0,\"sizing_mode\":\"stretch_width\",\"align\":\"start\"}}]}}],\"defs\":[{\"type\":\"model\",\"name\":\"ReactiveHTML1\"},{\"type\":\"model\",\"name\":\"FlexBox1\",\"properties\":[{\"name\":\"align_content\",\"kind\":\"Any\",\"default\":\"flex-start\"},{\"name\":\"align_items\",\"kind\":\"Any\",\"default\":\"flex-start\"},{\"name\":\"flex_direction\",\"kind\":\"Any\",\"default\":\"row\"},{\"name\":\"flex_wrap\",\"kind\":\"Any\",\"default\":\"wrap\"},{\"name\":\"gap\",\"kind\":\"Any\",\"default\":\"\"},{\"name\":\"justify_content\",\"kind\":\"Any\",\"default\":\"flex-start\"}]},{\"type\":\"model\",\"name\":\"FloatPanel1\",\"properties\":[{\"name\":\"config\",\"kind\":\"Any\",\"default\":{\"type\":\"map\"}},{\"name\":\"contained\",\"kind\":\"Any\",\"default\":true},{\"name\":\"position\",\"kind\":\"Any\",\"default\":\"right-top\"},{\"name\":\"offsetx\",\"kind\":\"Any\",\"default\":null},{\"name\":\"offsety\",\"kind\":\"Any\",\"default\":null},{\"name\":\"theme\",\"kind\":\"Any\",\"default\":\"primary\"},{\"name\":\"status\",\"kind\":\"Any\",\"default\":\"normalized\"}]},{\"type\":\"model\",\"name\":\"GridStack1\",\"properties\":[{\"name\":\"mode\",\"kind\":\"Any\",\"default\":\"warn\"},{\"name\":\"ncols\",\"kind\":\"Any\",\"default\":null},{\"name\":\"nrows\",\"kind\":\"Any\",\"default\":null},{\"name\":\"allow_resize\",\"kind\":\"Any\",\"default\":true},{\"name\":\"allow_drag\",\"kind\":\"Any\",\"default\":true},{\"name\":\"state\",\"kind\":\"Any\",\"default\":[]}]},{\"type\":\"model\",\"name\":\"drag1\",\"properties\":[{\"name\":\"slider_width\",\"kind\":\"Any\",\"default\":5},{\"name\":\"slider_color\",\"kind\":\"Any\",\"default\":\"black\"},{\"name\":\"value\",\"kind\":\"Any\",\"default\":50}]},{\"type\":\"model\",\"name\":\"click1\",\"properties\":[{\"name\":\"terminal_output\",\"kind\":\"Any\",\"default\":\"\"},{\"name\":\"debug_name\",\"kind\":\"Any\",\"default\":\"\"},{\"name\":\"clears\",\"kind\":\"Any\",\"default\":0}]},{\"type\":\"model\",\"name\":\"FastWrapper1\",\"properties\":[{\"name\":\"object\",\"kind\":\"Any\",\"default\":null},{\"name\":\"style\",\"kind\":\"Any\",\"default\":null}]},{\"type\":\"model\",\"name\":\"NotificationAreaBase1\",\"properties\":[{\"name\":\"js_events\",\"kind\":\"Any\",\"default\":{\"type\":\"map\"}},{\"name\":\"position\",\"kind\":\"Any\",\"default\":\"bottom-right\"},{\"name\":\"_clear\",\"kind\":\"Any\",\"default\":0}]},{\"type\":\"model\",\"name\":\"NotificationArea1\",\"properties\":[{\"name\":\"js_events\",\"kind\":\"Any\",\"default\":{\"type\":\"map\"}},{\"name\":\"notifications\",\"kind\":\"Any\",\"default\":[]},{\"name\":\"position\",\"kind\":\"Any\",\"default\":\"bottom-right\"},{\"name\":\"_clear\",\"kind\":\"Any\",\"default\":0},{\"name\":\"types\",\"kind\":\"Any\",\"default\":[{\"type\":\"map\",\"entries\":[[\"type\",\"warning\"],[\"background\",\"#ffc107\"],[\"icon\",{\"type\":\"map\",\"entries\":[[\"className\",\"fas fa-exclamation-triangle\"],[\"tagName\",\"i\"],[\"color\",\"white\"]]}]]},{\"type\":\"map\",\"entries\":[[\"type\",\"info\"],[\"background\",\"#007bff\"],[\"icon\",{\"type\":\"map\",\"entries\":[[\"className\",\"fas fa-info-circle\"],[\"tagName\",\"i\"],[\"color\",\"white\"]]}]]}]}]},{\"type\":\"model\",\"name\":\"Notification\",\"properties\":[{\"name\":\"background\",\"kind\":\"Any\",\"default\":null},{\"name\":\"duration\",\"kind\":\"Any\",\"default\":3000},{\"name\":\"icon\",\"kind\":\"Any\",\"default\":null},{\"name\":\"message\",\"kind\":\"Any\",\"default\":\"\"},{\"name\":\"notification_type\",\"kind\":\"Any\",\"default\":null},{\"name\":\"_destroyed\",\"kind\":\"Any\",\"default\":false}]},{\"type\":\"model\",\"name\":\"TemplateActions1\",\"properties\":[{\"name\":\"open_modal\",\"kind\":\"Any\",\"default\":0},{\"name\":\"close_modal\",\"kind\":\"Any\",\"default\":0}]},{\"type\":\"model\",\"name\":\"BootstrapTemplateActions1\",\"properties\":[{\"name\":\"open_modal\",\"kind\":\"Any\",\"default\":0},{\"name\":\"close_modal\",\"kind\":\"Any\",\"default\":0}]},{\"type\":\"model\",\"name\":\"TemplateEditor1\",\"properties\":[{\"name\":\"layout\",\"kind\":\"Any\",\"default\":[]}]},{\"type\":\"model\",\"name\":\"MaterialTemplateActions1\",\"properties\":[{\"name\":\"open_modal\",\"kind\":\"Any\",\"default\":0},{\"name\":\"close_modal\",\"kind\":\"Any\",\"default\":0}]},{\"type\":\"model\",\"name\":\"ReactiveESM1\"},{\"type\":\"model\",\"name\":\"JSComponent1\"},{\"type\":\"model\",\"name\":\"ReactComponent1\"},{\"type\":\"model\",\"name\":\"AnyWidgetComponent1\"},{\"type\":\"model\",\"name\":\"request_value1\",\"properties\":[{\"name\":\"fill\",\"kind\":\"Any\",\"default\":\"none\"},{\"name\":\"_synced\",\"kind\":\"Any\",\"default\":null},{\"name\":\"_request_sync\",\"kind\":\"Any\",\"default\":0}]}]}};\n",
       "  var render_items = [{\"docid\":\"aad020ed-9c60-4006-82a7-7d4958a1d82f\",\"roots\":{\"p1278\":\"d9db84da-81a1-4533-b1dc-a28859a9f493\"},\"root_ids\":[\"p1278\"]}];\n",
       "  var docs = Object.values(docs_json)\n",
       "  if (!docs) {\n",
       "    return\n",
       "  }\n",
       "  const py_version = docs[0].version.replace('rc', '-rc.').replace('.dev', '-dev.')\n",
       "  async function embed_document(root) {\n",
       "    var Bokeh = get_bokeh(root)\n",
       "    await Bokeh.embed.embed_items_notebook(docs_json, render_items);\n",
       "    for (const render_item of render_items) {\n",
       "      for (const root_id of render_item.root_ids) {\n",
       "\tconst id_el = document.getElementById(root_id)\n",
       "\tif (id_el.children.length && id_el.children[0].hasAttribute('data-root-id')) {\n",
       "\t  const root_el = id_el.children[0]\n",
       "\t  root_el.id = root_el.id + '-rendered'\n",
       "\t  for (const child of root_el.children) {\n",
       "            // Ensure JupyterLab does not capture keyboard shortcuts\n",
       "            // see: https://jupyterlab.readthedocs.io/en/4.1.x/extension/notebook.html#keyboard-interaction-model\n",
       "\t    child.setAttribute('data-lm-suppress-shortcuts', 'true')\n",
       "\t  }\n",
       "\t}\n",
       "      }\n",
       "    }\n",
       "  }\n",
       "  function get_bokeh(root) {\n",
       "    if (root.Bokeh === undefined) {\n",
       "      return null\n",
       "    } else if (root.Bokeh.version !== py_version) {\n",
       "      if (root.Bokeh.versions === undefined || !root.Bokeh.versions.has(py_version)) {\n",
       "\treturn null\n",
       "      }\n",
       "      return root.Bokeh.versions.get(py_version);\n",
       "    } else if (root.Bokeh.version === py_version) {\n",
       "      return root.Bokeh\n",
       "    }\n",
       "    return null\n",
       "  }\n",
       "  function is_loaded(root) {\n",
       "    var Bokeh = get_bokeh(root)\n",
       "    return (Bokeh != null && Bokeh.Panel !== undefined)\n",
       "  }\n",
       "  if (is_loaded(root)) {\n",
       "    embed_document(root);\n",
       "  } else {\n",
       "    var attempts = 0;\n",
       "    var timer = setInterval(function(root) {\n",
       "      if (is_loaded(root)) {\n",
       "        clearInterval(timer);\n",
       "        embed_document(root);\n",
       "      } else if (document.readyState == \"complete\") {\n",
       "        attempts++;\n",
       "        if (attempts > 200) {\n",
       "          clearInterval(timer);\n",
       "\t  var Bokeh = get_bokeh(root)\n",
       "\t  if (Bokeh == null || Bokeh.Panel == null) {\n",
       "            console.warn(\"Panel: ERROR: Unable to run Panel code because Bokeh or Panel library is missing\");\n",
       "\t  } else {\n",
       "\t    console.warn(\"Panel: WARNING: Attempting to render but not all required libraries could be resolved.\")\n",
       "\t    embed_document(root)\n",
       "\t  }\n",
       "        }\n",
       "      }\n",
       "    }, 25, root)\n",
       "  }\n",
       "})(window);</script>"
      ],
      "text/plain": [
       ":Overlay\n",
       "   .WMTS.I   :WMTS   [Longitude,Latitude]\n",
       "   .Points.I :Points   [Longitude,Latitude]   (Nearest City,Population,Name,Poverty Rate (%))"
      ]
     },
     "execution_count": 76,
     "metadata": {
      "application/vnd.holoviews_exec.v0+json": {
       "id": "p1278"
      }
     },
     "output_type": "execute_result"
    }
   ],
   "source": [
    "# Convert the DataFrame to a GeoDataFrame if latitude and longitude data are available\n",
    "census_pd[\"geometry\"] = gpd.points_from_xy(census_pd[\"Longitude\"], census_pd[\"Latitude\"])\n",
    "geo_census_pd = gpd.GeoDataFrame(census_pd, geometry=\"geometry\")\n",
    "\n",
    "# Create the map plot\n",
    "map_plot = geo_census_pd.hvplot.points(\n",
    "    x='Longitude', \n",
    "    y='Latitude', \n",
    "    geo=True, \n",
    "    tiles='OSM',  # OpenStreetMap background tiles\n",
    "    frame_width=700, \n",
    "    frame_height=500, \n",
    "    size='Population',  # Size points based on Population\n",
    "    scale=0.01,         # Adjust scale for better visualization\n",
    "    color='Nearest City',  # Color points by the city name\n",
    "    hover_cols=['Name', 'Nearest City', 'Population', 'Poverty Rate (%)']  # Add hover information\n",
    ")\n",
    "\n",
    "# Display the map plot\n",
    "map_plot"
   ]
  },
  {
   "cell_type": "code",
   "execution_count": null,
   "id": "7aa16ba7-1b3c-44fe-b822-cbaec4f53a8b",
   "metadata": {},
   "outputs": [],
   "source": []
  }
 ],
 "metadata": {
  "kernelspec": {
   "display_name": "Python 3 (ipykernel)",
   "language": "python",
   "name": "python3"
  },
  "language_info": {
   "codemirror_mode": {
    "name": "ipython",
    "version": 3
   },
   "file_extension": ".py",
   "mimetype": "text/x-python",
   "name": "python",
   "nbconvert_exporter": "python",
   "pygments_lexer": "ipython3",
   "version": "3.10.14"
  }
 },
 "nbformat": 4,
 "nbformat_minor": 5
}
